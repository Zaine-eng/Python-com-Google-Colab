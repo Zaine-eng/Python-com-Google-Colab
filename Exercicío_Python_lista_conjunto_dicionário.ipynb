{
  "nbformat": 4,
  "nbformat_minor": 0,
  "metadata": {
    "colab": {
      "name": "Exercicío_Python_lista_conjunto_dicionário.ipynb",
      "provenance": [],
      "collapsed_sections": [],
      "authorship_tag": "ABX9TyNn1D3lkg/y8vwV7VuaDt/h",
      "include_colab_link": true
    },
    "kernelspec": {
      "name": "python3",
      "display_name": "Python 3"
    },
    "language_info": {
      "name": "python"
    }
  },
  "cells": [
    {
      "cell_type": "markdown",
      "metadata": {
        "id": "view-in-github",
        "colab_type": "text"
      },
      "source": [
        "<a href=\"https://colab.research.google.com/github/Zaine-eng/Python-com-Google-Colab/blob/main/Exercic%C3%ADo_Python_lista_conjunto_dicion%C3%A1rio.ipynb\" target=\"_parent\"><img src=\"https://colab.research.google.com/assets/colab-badge.svg\" alt=\"Open In Colab\"/></a>"
      ]
    },
    {
      "cell_type": "markdown",
      "source": [
        "# **Exercícios - Lista - Conjunto - Dicionário**\n"
      ],
      "metadata": {
        "id": "ZIBjTVBtFFep"
      }
    },
    {
      "cell_type": "markdown",
      "source": [
        "*lista* dos 10 primeiros filmes mais bem avaliados no site no **IMDB**."
      ],
      "metadata": {
        "id": "-uqbezi7ITjp"
      }
    },
    {
      "cell_type": "code",
      "execution_count": 1,
      "metadata": {
        "colab": {
          "base_uri": "https://localhost:8080/"
        },
        "id": "oo0S6BhyC7jI",
        "outputId": "d804fb12-0c40-45fc-8067-af6fc172ad71"
      },
      "outputs": [
        {
          "output_type": "stream",
          "name": "stdout",
          "text": [
            "['Um Sonho de Liberdade', 'O poderoso Chefão', 'Batman: O Cavaleiro das Trevas', 'O Poderoso Chefão II', '12 Homens e uma Sentença', 'A Lista de Schindler', 'O Senhor dos Anéis: O Retorno do Rei', 'Pulp Fiction: Tempo de Violência', 'O Senhor dos Anéis: A sociedade do Anel', 'Três Homens em Conflito']\n"
          ]
        }
      ],
      "source": [
        "filmes = ['Um Sonho de Liberdade', 'O poderoso Chefão', 'Batman: O Cavaleiro das Trevas', 'O Poderoso Chefão II', '12 Homens e uma Sentença', 'A Lista de Schindler', 'O Senhor dos Anéis: O Retorno do Rei', 'Pulp Fiction: Tempo de Violência', 'O Senhor dos Anéis: A sociedade do Anel', 'Três Homens em Conflito']\n",
        "print(filmes)"
      ]
    },
    {
      "cell_type": "code",
      "source": [
        "filmes.insert(3,'O poderoso Chefão')\n",
        "lista = filmes\n",
        "\n",
        "print(lista)\n",
        "print(type(lista))\n"
      ],
      "metadata": {
        "colab": {
          "base_uri": "https://localhost:8080/"
        },
        "id": "MFMGGa9rPZEG",
        "outputId": "684d51e0-a909-4619-e574-498fc639c61a"
      },
      "execution_count": 6,
      "outputs": [
        {
          "output_type": "stream",
          "name": "stdout",
          "text": [
            "['Um Sonho de Liberdade', 'O poderoso Chefão', 'Batman: O Cavaleiro das Trevas', 'O poderoso Chefão', 'O poderoso Chefão', 'O poderoso Chefão', 'O Poderoso Chefão II', '12 Homens e uma Sentença', 'A Lista de Schindler', 'O Senhor dos Anéis: O Retorno do Rei', 'Pulp Fiction: Tempo de Violência', 'O Senhor dos Anéis: A sociedade do Anel', 'Três Homens em Conflito']\n",
            "<class 'list'>\n"
          ]
        }
      ]
    },
    {
      "cell_type": "code",
      "source": [
        "print(set(lista))\n",
        "print(type(set(lista)))"
      ],
      "metadata": {
        "colab": {
          "base_uri": "https://localhost:8080/"
        },
        "id": "fGFRs8wqdQcq",
        "outputId": "c1b78ea3-de0e-43e9-e65b-20e03148bed8"
      },
      "execution_count": 7,
      "outputs": [
        {
          "output_type": "stream",
          "name": "stdout",
          "text": [
            "{'Um Sonho de Liberdade', 'O Poderoso Chefão II', '12 Homens e uma Sentença', 'O poderoso Chefão', 'A Lista de Schindler', 'Três Homens em Conflito', 'Pulp Fiction: Tempo de Violência', 'O Senhor dos Anéis: O Retorno do Rei', 'O Senhor dos Anéis: A sociedade do Anel', 'Batman: O Cavaleiro das Trevas'}\n",
            "<class 'set'>\n"
          ]
        }
      ]
    },
    {
      "cell_type": "markdown",
      "source": [
        "O dicionário abaixo foi criado apenas para o filme 1, porém o ideal seria fazer para toda a cadeia de filmes."
      ],
      "metadata": {
        "id": "7-2GoKK8k1X_"
      }
    },
    {
      "cell_type": "code",
      "source": [
        "resumo_filmes = {\n",
        "    'filme 1' : {\n",
        "        'nome': 'Um Sonho de Liberdade', 'ano': 1994, \n",
        "        'Sinopse': 'Dois homens presos se reúnem ao longo de vários anos, encontrando consolo e eventual redenção através de atos de decência comum.'}\n",
        "       \n",
        "}\n",
        "\n",
        "print(resumo_filmes)"
      ],
      "metadata": {
        "colab": {
          "base_uri": "https://localhost:8080/"
        },
        "id": "3tPSDffldxL4",
        "outputId": "f72c65a4-22fd-40d8-9ed6-f0fd2fc435fd"
      },
      "execution_count": 17,
      "outputs": [
        {
          "output_type": "stream",
          "name": "stdout",
          "text": [
            "{'filme 1': {'nome': 'Um Sonho de Liberdade', 'ano': 1994, 'Sinopse': 'Dois homens presos se reúnem ao longo de vários anos, encontrando consolo e eventual redenção através de atos de decência comum.'}}\n"
          ]
        }
      ]
    }
  ]
}