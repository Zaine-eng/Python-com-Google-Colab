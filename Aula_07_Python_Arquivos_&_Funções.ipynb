{
  "nbformat": 4,
  "nbformat_minor": 0,
  "metadata": {
    "colab": {
      "name": "Aula_07_Python_Arquivos_&_Funções.ipynb",
      "provenance": [],
      "authorship_tag": "ABX9TyM7TJ0qsYM9gxwrWUdNS2eC",
      "include_colab_link": true
    },
    "kernelspec": {
      "name": "python3",
      "display_name": "Python 3"
    },
    "language_info": {
      "name": "python"
    }
  },
  "cells": [
    {
      "cell_type": "markdown",
      "metadata": {
        "id": "view-in-github",
        "colab_type": "text"
      },
      "source": [
        "<a href=\"https://colab.research.google.com/github/Zaine-eng/Python-com-Google-Colab/blob/main/Aula_07_Python_Arquivos_%26_Fun%C3%A7%C3%B5es.ipynb\" target=\"_parent\"><img src=\"https://colab.research.google.com/assets/colab-badge.svg\" alt=\"Open In Colab\"/></a>"
      ]
    },
    {
      "cell_type": "markdown",
      "source": [
        "# 1. Leitura ⏰ ⚡"
      ],
      "metadata": {
        "id": "smCP8ELYXJGr"
      }
    },
    {
      "cell_type": "markdown",
      "source": [
        "**AVISO IMPORTANTE**: SEMPRE AO INICIAR A ANÁLISE DO SEU ARQUIVO EM QUESTÃO NO PYTHON, SALVE ELE PRIMEIRO, PORQUE PODE CORRER O RISCO DE VOCÊ SOBREESCREVER O ARQUIVO, ASSIM PERDE OS DADOS ORIGINAIS, É SEMPRE BOM FICAR ATENTO. 🔔"
      ],
      "metadata": {
        "id": "8TkvNjJEr3Xa"
      }
    },
    {
      "cell_type": "markdown",
      "source": [
        "# **1.1. Configuração inicial**"
      ],
      "metadata": {
        "id": "Ycm_VkoTXVpl"
      }
    },
    {
      "cell_type": "markdown",
      "source": [
        "Vamos utilizar uma função do **Google Colab** para criar arquivos para esse módulo. **Nota**: esse código **não** é do Python e sim da ferramenta.\n",
        "\n",
        "**Arquivo CSV**: banco.csv"
      ],
      "metadata": {
        "id": "4ggYmNbEXcZf"
      }
    },
    {
      "cell_type": "code",
      "source": [
        "%%writefile banco.csv\n",
        "age,job,marital,education,default,balance,housing,loan\n",
        "30,unemployed,married,primary,no,1787,no,no\n",
        "33,services,married,secondary,no,4789,yes,yes\n",
        "35,management,single,tertiary,no,1350,yes,no\n",
        "30,management,married,tertiary,no,1476,yes,yes\n",
        "59,blue-collar,married,secondary,no,0,yes,no\n",
        "35,management,single,tertiary,no,747,no,no\n",
        "36,self-employed,married,tertiary,no,307,yes,no\n",
        "39,technician,married,secondary,no,147,yes,no\n",
        "41,entrepreneur,married,tertiary,no,221,yes,no\n",
        "43,services,married,primary,no,-88,yes,yes"
      ],
      "metadata": {
        "colab": {
          "base_uri": "https://localhost:8080/"
        },
        "id": "uB1hWn8lX3fe",
        "outputId": "c78b91ad-fa49-475b-fbf6-0fe4204f9dd5"
      },
      "execution_count": 3,
      "outputs": [
        {
          "output_type": "stream",
          "name": "stdout",
          "text": [
            "Writing banco.csv\n"
          ]
        }
      ]
    },
    {
      "cell_type": "markdown",
      "source": [
        "# **1.2. with / open**\n",
        "\n",
        "Comando para ler arquivos "
      ],
      "metadata": {
        "id": "9emkiye_YG1_"
      }
    },
    {
      "cell_type": "markdown",
      "source": [
        "![image.png](data:image/png;base64,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)\n"
      ],
      "metadata": {
        "id": "EOlCRvC5Ye-u"
      }
    },
    {
      "cell_type": "markdown",
      "source": [
        "Os modos de leitura são: \n",
        "\n",
        "\n",
        "*   r: Abrir o arquivo para leitura (padrão).\n",
        "\n"
      ],
      "metadata": {
        "id": "vrq3PGIhYmtB"
      }
    },
    {
      "cell_type": "markdown",
      "source": [
        "# **1.3 read**"
      ],
      "metadata": {
        "id": "_AkcUdjtY6u3"
      }
    },
    {
      "cell_type": "markdown",
      "source": [
        "Comando para ler **todo (exige bastante da sua máquina)** o conteúdo de um arquivo. "
      ],
      "metadata": {
        "id": "rInwkW7MY-jF"
      }
    },
    {
      "cell_type": "code",
      "source": [
        "conteudo = None \n",
        "\n",
        "with open(file='./banco.csv',mode='r', encoding='utf8') as arquivo:\n",
        "  conteudo = arquivo.read()\n",
        "\n",
        "print(conteudo)\n"
      ],
      "metadata": {
        "colab": {
          "base_uri": "https://localhost:8080/"
        },
        "id": "kyrvxrX6ZFvN",
        "outputId": "4a4a002d-855f-404b-831c-266ac0c377c2"
      },
      "execution_count": null,
      "outputs": [
        {
          "output_type": "stream",
          "name": "stdout",
          "text": [
            "age,job,marital,education,default,balance,housing,loan\n",
            "30,unemployed,married,primary,no,1787,no,no\n",
            "33,services,married,secondary,no,4789,yes,yes\n",
            "35,management,single,tertiary,no,1350,yes,no\n",
            "30,management,married,tertiary,no,1476,yes,yes\n",
            "59,blue-collar,married,secondary,no,0,yes,no\n",
            "35,management,single,tertiary,no,747,no,no\n",
            "36,self-employed,married,tertiary,no,307,yes,no\n",
            "39,technician,married,secondary,no,147,yes,no\n",
            "41,entrepreneur,married,tertiary,no,221,yes,no\n",
            "43,services,married,primary,no,-88,yes,yes\n"
          ]
        }
      ]
    },
    {
      "cell_type": "markdown",
      "source": [
        "# **1.4 readline**\n",
        "\n",
        "Comando para ler o conteúdo de um arquivo uma linha por vez."
      ],
      "metadata": {
        "id": "18gQ9MXVZ9Xn"
      }
    },
    {
      "cell_type": "code",
      "source": [
        "conteudo = []\n",
        "\n",
        "with open(file='./banco.csv', mode='r', encoding='utf8') as arquivo:\n",
        "    linha = arquivo.readline() # lê a primeira linha, encontra o /n\n",
        "    while linha: \n",
        "      conteudo.append(linha) # lê uma nova linha\n",
        "      linha = arquivo.readline() # se a linha não existir, salva o valor None\n",
        "print(conteudo)"
      ],
      "metadata": {
        "colab": {
          "base_uri": "https://localhost:8080/"
        },
        "id": "_uXyGO8waSSN",
        "outputId": "59b3e92a-51ef-4db7-c090-b9163a2735ad"
      },
      "execution_count": null,
      "outputs": [
        {
          "output_type": "stream",
          "name": "stdout",
          "text": [
            "['age,job,marital,education,default,balance,housing,loan\\n', '30,unemployed,married,primary,no,1787,no,no\\n', '33,services,married,secondary,no,4789,yes,yes\\n', '35,management,single,tertiary,no,1350,yes,no\\n', '30,management,married,tertiary,no,1476,yes,yes\\n', '59,blue-collar,married,secondary,no,0,yes,no\\n', '35,management,single,tertiary,no,747,no,no\\n', '36,self-employed,married,tertiary,no,307,yes,no\\n', '39,technician,married,secondary,no,147,yes,no\\n', '41,entrepreneur,married,tertiary,no,221,yes,no\\n', '43,services,married,primary,no,-88,yes,yes']\n"
          ]
        }
      ]
    },
    {
      "cell_type": "markdown",
      "source": [
        "Foi extraido linha a linha e cada elemento desda lista é uma linha do arquivo. Perceba que o \\n aparece indicando o final da linha."
      ],
      "metadata": {
        "id": "2JaX637J4KTW"
      }
    },
    {
      "cell_type": "markdown",
      "source": [
        "Quando usamos While só analisamos se a condição é verdadeira ou não, se a condição é verdadeira ela se repete. "
      ],
      "metadata": {
        "id": "7e1pkQHl3caS"
      }
    },
    {
      "cell_type": "code",
      "source": [
        "for linha in conteudo:\n",
        "  print(linha)"
      ],
      "metadata": {
        "colab": {
          "base_uri": "https://localhost:8080/"
        },
        "id": "jfLB8VrLnnXu",
        "outputId": "ba16c6f4-c8f6-4d15-dd2f-e27101ac863a"
      },
      "execution_count": null,
      "outputs": [
        {
          "output_type": "stream",
          "name": "stdout",
          "text": [
            "age,job,marital,education,default,balance,housing,loan\n",
            "\n",
            "30,unemployed,married,primary,no,1787,no,no\n",
            "\n",
            "33,services,married,secondary,no,4789,yes,yes\n",
            "\n",
            "35,management,single,tertiary,no,1350,yes,no\n",
            "\n",
            "30,management,married,tertiary,no,1476,yes,yes\n",
            "\n",
            "59,blue-collar,married,secondary,no,0,yes,no\n",
            "\n",
            "35,management,single,tertiary,no,747,no,no\n",
            "\n",
            "36,self-employed,married,tertiary,no,307,yes,no\n",
            "\n",
            "39,technician,married,secondary,no,147,yes,no\n",
            "\n",
            "41,entrepreneur,married,tertiary,no,221,yes,no\n",
            "\n",
            "43,services,married,primary,no,-88,yes,yes\n"
          ]
        }
      ]
    },
    {
      "cell_type": "markdown",
      "source": [
        "Exemplo: Extraindo os valores da primeira coluna (idade) "
      ],
      "metadata": {
        "id": "vc0coRUCnwaK"
      }
    },
    {
      "cell_type": "code",
      "source": [
        "idades = [] \n",
        "\n",
        "with open (file='./banco.csv', mode='r', encoding='utf8') as arquivo: \n",
        "  linha = arquivo.readline() # lê o cabeçalho \n",
        "  linha = arquivo.readline() # lê a primeira linha \n",
        "  while linha: \n",
        "    linha_separada = linha.split (sep=',') # quebra a string nas vírgulas e salva os resultados em uma lista\n",
        "    idade = linha_separada [0] # seleciona o primeiro elemento da lista \n",
        "    idade = int(idade) # converte o valor de string para integer (inteiro)\n",
        "    idades.append(idade) # salva o valor na lista de idades \n",
        "    linha = arquivo.readline() \n",
        "    # lê uma nova linha, se a linha não existir, \n",
        "    # salva o valor None \n",
        "\n",
        "print(idades)"
      ],
      "metadata": {
        "colab": {
          "base_uri": "https://localhost:8080/"
        },
        "id": "mmrjONuRn4s3",
        "outputId": "eb54fb81-11c6-4bad-cb6b-89ff747752aa"
      },
      "execution_count": 4,
      "outputs": [
        {
          "output_type": "stream",
          "name": "stdout",
          "text": [
            "[30, 33, 35, 30, 59, 35, 36, 39, 41, 43]\n"
          ]
        }
      ]
    },
    {
      "cell_type": "markdown",
      "source": [
        "# **2. Escrita**"
      ],
      "metadata": {
        "id": "wuvIrvUJ5yxw"
      }
    },
    {
      "cell_type": "markdown",
      "source": [
        "# **2.1. with / open**\n",
        "\n",
        "Comando para ler/escrever arquivos. \n",
        "\n",
        "![image.png](data:image/png;base64,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)\n",
        "\n",
        "Os modos de leitura são: \n",
        "\n",
        "\n",
        "\n",
        "*   r: Abrir o arquivo para leitura (padrão); (OBS: O MÓDULO MAIS SEGURO)\n",
        "*   w: Abrir o arquivo para escrita (sobreescreve o arquivo original);\n",
        "*   a: Abrir o arquivo para acrescentar (não sobreescreve o arquivo original).\n",
        "\n",
        "\n"
      ],
      "metadata": {
        "id": "IWw5Oc3258nA"
      }
    },
    {
      "cell_type": "markdown",
      "source": [
        "# **2.2 write**"
      ],
      "metadata": {
        "id": "P35lWZeQ6zzd"
      }
    },
    {
      "cell_type": "markdown",
      "source": [
        "Comando para escrever em um arquivo, se o arquivo não existir, ele será criado.\n",
        "\n",
        "\n",
        "*   Modo de escrita (w)\n",
        "\n"
      ],
      "metadata": {
        "id": "NhzRYGnQLi2C"
      }
    },
    {
      "cell_type": "code",
      "source": [
        "with open(file='idades.csv', mode='w', encoding='utf8') as fp: \n",
        "  linha = 'idade' + '\\n'\n",
        "  fp.write(linha)  \n",
        "  for idade in idades:\n",
        "    linha = str (idade) + '\\n'\n",
        "    fp.write(linha)"
      ],
      "metadata": {
        "id": "hMgbmDKDLvSQ"
      },
      "execution_count": 13,
      "outputs": []
    },
    {
      "cell_type": "markdown",
      "source": [
        "\n",
        "\n",
        "*   Modo de acréscimo (a).\n",
        "\n",
        "\n"
      ],
      "metadata": {
        "id": "5daUnVkBNu3D"
      }
    },
    {
      "cell_type": "code",
      "source": [
        "with open(file='idades.csv', mode= 'a', encoding='utf8') as fp:\n",
        " for idade in idades:\n",
        "   linha = str(idade + 100) + '\\n'\n",
        "   fp.write(linha)\n",
        "   \n"
      ],
      "metadata": {
        "id": "vNEUXNToN1M6"
      },
      "execution_count": 15,
      "outputs": []
    },
    {
      "cell_type": "markdown",
      "source": [
        "**Exemplo**: Copiando um arquivo com extensão diferente. "
      ],
      "metadata": {
        "id": "S111muSWObf4"
      }
    },
    {
      "cell_type": "code",
      "source": [
        "%%writefile banco-texto.txt\n",
        "age,job,marital,education,default,balance,housing,loan\n",
        "30,unemployed,married,primary,no,1787,no,no\n",
        "33,services,married,secondary,no,4789,yes,yes\n",
        "35,management,single,tertiary,no,1350,yes,no\n",
        "30,management,married,tertiary,no,1476,yes,yes\n",
        "59,blue-collar,married,secondary,no,0,yes,no\n",
        "35,management,single,tertiary,no,747,no,no\n",
        "36,self-employed,married,tertiary,no,307,yes,no\n",
        "39,technician,married,secondary,no,147,yes,no\n",
        "41,entrepreneur,married,tertiary,no,221,yes,no\n",
        "43,services,married,primary,no,-88,yes,yes"
      ],
      "metadata": {
        "colab": {
          "base_uri": "https://localhost:8080/"
        },
        "id": "1slsshmgOo-T",
        "outputId": "c1f03a60-e572-4688-eb40-5c71a9473072"
      },
      "execution_count": 7,
      "outputs": [
        {
          "output_type": "stream",
          "name": "stdout",
          "text": [
            "Writing banco-texto.txt\n"
          ]
        }
      ]
    },
    {
      "cell_type": "markdown",
      "source": [
        "Veja que ao rodar o código o google Colab não lê corretamente, você pode simplesmente mudar a extensão do código e renomear de txt para csv, porém, vamos fazer isso abaixo em forma de código. "
      ],
      "metadata": {
        "id": "SEU_-ltotayb"
      }
    },
    {
      "cell_type": "code",
      "source": [
        "with open(file='./banco-texto.txt', mode='r', encoding='utf8') as leitura: \n",
        "  with open(file='./banco-csv.csv', mode='w', encoding='utf8') as escrita: \n",
        "    linha = leitura.readline()\n",
        "    while linha:\n",
        "      escrita.write(linha)\n",
        "      linha = leitura.readline()"
      ],
      "metadata": {
        "id": "MO_OUwuKO0Zo"
      },
      "execution_count": 16,
      "outputs": []
    },
    {
      "cell_type": "markdown",
      "source": [
        "# **3. Funções**"
      ],
      "metadata": {
        "id": "mh91MHBmSnbx"
      }
    },
    {
      "cell_type": "markdown",
      "source": [
        "# **3.1. Motivação**\n",
        "\n"
      ],
      "metadata": {
        "id": "3fEmhO9HSrut"
      }
    },
    {
      "cell_type": "markdown",
      "source": [
        "Você trabalha na bolsa de valores e precisa simular o retorno de um investimento para diversos cenários: "
      ],
      "metadata": {
        "id": "GjFKg5VjSwlr"
      }
    },
    {
      "cell_type": "code",
      "source": [
        "valor_inicial, taxa_juros_anual, anos = 1000.00, 0.05, 10\n",
        "\n",
        "valor_final = valor_inicial \n",
        "for ano in range(1, anos+1):\n",
        "  valor_final = valor_final * (1 + taxa_juros_anual)\n",
        "valor_final = round(valor_final, 2)\n",
        "\n",
        "print( \n",
        "    f'para um valor incial de R$ {valor_inicial} ' + \n",
        "    ' e uma taxa de juros anual de {taxa_juros-anual}, ' + \n",
        "    'em {anos} anos você terá R$ (valor_final}'\n",
        ")\n",
        "\n",
        "valor_inicial, taxa_juros_anual, anos = 1020.00, 0.03, 10\n",
        "\n",
        "valor_final = valor_inicial \n",
        "for ano in range (1, anos+1): \n",
        "  valor_final = valor_final * (1 + taxa_juros_anual)\n",
        "valor_final = round (valor_final, 2)\n",
        "\n",
        "print(\n",
        "   f'Para um valor inicial de R$ {valor_inicial} ' +\n",
        " 'e uma taxa de juros anual de {taxa_juros_anual}, ' +\n",
        " 'em {anos} anos você terá R$ {valor_final}'\n",
        ")"
      ],
      "metadata": {
        "id": "xk4nTNKjS9VJ"
      },
      "execution_count": null,
      "outputs": []
    },
    {
      "cell_type": "markdown",
      "source": [
        "Como podemos fazer para reaproveotar o código e evitar repetições? \n"
      ],
      "metadata": {
        "id": "0D84LE5yVNsA"
      }
    },
    {
      "cell_type": "markdown",
      "source": [
        "# **3.2. Definição**\n"
      ],
      "metadata": {
        "id": "k0oMmlYfVUOM"
      }
    },
    {
      "cell_type": "markdown",
      "source": [
        "Um bloco de código que só executado quando chamado. "
      ],
      "metadata": {
        "id": "hCaiNL72VY4R"
      }
    },
    {
      "cell_type": "markdown",
      "source": [
        "![image.png](data:image/png;base64,iVBORw0KGgoAAAANSUhEUgAAAgQAAABcCAYAAAARQK0lAAAgAElEQVR4nOydZ3gV1daA31NTSEhIT0ghhRRAOqEmIKFIUbEgKCAWwMa9KF5FLICK2BU/UaSIYocrTXoJvTepuQkJ6SQhhZB+cnLO7O9HAiQY4CQEibrf58mPzOyz9iozs9es2bNHJYQQSCQSiUQi+Uejvt0KSCQSiUQiuf3IhEAikUgkEolMCCQSiUQikciEQCKRSCQSCTIhkEgkEolEgkwI/noYyjibbbjdWkgkkqsxG0nNKuWi+XYrIpHUD23DiTKTcnYhv2YVY+/5IBMC/OouwpTBobObOZyfR4kiaOpRTzl/V5Qyfp4bzXT7LpwZZ327tZFIasFEcXEyZ4uKsLYPoaWd7T/nrkOUsmj2Tnb26sPmoU3R3G59JJI60oAJgYnYmJlMOZpJ887t6z6QK0ks/G9Xnj6TQ2WCrcG3PnL+xpTHxzPzuB1Pv+d2u1VpVCjlMaw6+h7vH13OMWMEs8ev5Wm7f8ww1EhQOHdmCmO3f83O/IuYUSFUdrQMeo2vB/2HXjb/gHhoHXh2iAtzf4zltz7h3Gd3uxWSSOpG4zlLy7eyIjEXs8qfR4ZsZufjO1jWo/Pt1qoRYWT1xmQywvwY5aa63co0Gsz587h3fnseOnAEW/tmmEwVyIrt7UChoKSMwLZziX4yg8KXikgaPgmP1NcYsWUFef+I5c9UuHVpwVDO8eXuEpTbrY5EUkdurkKgXOB04nr2F+kJ8e93zWbG4hNsSz5MSrkWV5ee9PUNxOHSmKbkcTYnnaKieM4rAlTuBDi70FSvRq+5+aKbkgsZq8HmEXC2KiUzIQ2jkz/u5THs3BtHoV0IEXe2x11f83fmvFj27D1BpsEWr3Y96BHsdLkEWJadSKrRHpv0fRy84Etk/1DKj2xif7Y73QZ0xad6Nd+QwfE9B4nNMeMY1JWIzt7YVu3KWw5loeDVyoLMrCSLpcdMhI/0wNXCNK6G7foiMhIyMDn745C7j23HstH7htO7mx9Nqv1GGHI4c+IE8Wm5lNAU3/Y9CA90uKr8qVCQHk+WyotgT4X4PTs4niVwCetJrzYu6CyQUycfXg9hR8cO3/JWpwdxPNmPkPNX7S+D5CXgOBQcXSyUeQswnIS0sxAwDNRFGSRkmHD2dyB33zaOZevxDe9NN78akcCQc4YTJ+JJyy2Bpr607xFOoMNV54RSQHp8FiqvYDyVePbsOE6WcCGsZy/auOgskFNGdmIqRnsb0vcd5IJvJP1DyzmyaT/Z7t0Y0NUHy0KhpVWHOcyrtqWJ/6u8HLyQYYlr2Wd+gKEVjSMWtxRrNwa3UvPogQxSB7SkRS3nasmFQs4WKmBtQysPq4Ys00okN0X9j0XlDAv/249nY9OoANRWnejrYqDmjYCRuOMTeGDd98QYlap9Otx9X+KHh96mXxM1StEPjJ//PNsup9P7mfldB2aiwbfzRlKGRNVDNyjcAUm/QtpWKAO6DAdn1SE+f/QpjrcfgtXJwxiaqslKSEfbcwZLFo7CXw0gyNv5PuMmfUO8tR8t7ApJSjUSNn4OC1/sgaOqglNfPcnoNSYCHHTkpmcyr107VNm5FOekoT/6Ddtn9ACg5MQiXpj4EbtK3Anw0JCd+Aa2fafx9acjCdJDwRo48jLY3AG+D0KLu6Fp09pNKj+bwwFDE0YHWl0/ebim7fv5eOREToaGUx6XjK27lvNnp+M4aBaLPx6GjxpQUlgwZiAfnrLBrbkXTpp8UpINBD72CQte6YPL5cJEMRumDeMt1WOML13O4rRmeDsYOJf6M8+u/4lxXmk3kGO5D2+ExmkUb/YCMJNUWwMjpL0Phz4Ap77QYjj4RID+T6iNiULIWgXJyyDjJNAXWgwD8/6PGTnxJKHh5cQl2+KuPc/Z6Y4MmrWYj4f5UBmKBYwZ+CGnbNxo7uWEJj+FZEMgj32ygFf6uHAlFBuYNuwtVI+Np3T5YtKaeeNgOEfqz8+y/qdxeKXdQE7FKb56cjRrTAE46HJJz5xHu3YqsnOLyUnTc/SbDczoUd/5KmYqFDMqtR4ruK2x+PPQEB7kgHlJDrvLWtKiydX7zRxauZt+G0rQtGpH/LRgfP9W9kv+ytT7UCyIm8kbsWmYNMGM7P8ji8KdOJWRV6NMZsqezbi13xGjBDMi6kdWjfial1s4k5v6Pk9sWUcBoLbuxqOR05jWbRAtVIAqkLu7T2Na5Bs83zKgTjqZ0iFpNmy/EzaNgzNbQNsZWr0F7jaXWpk5c1rFhGXbWLd2K+vf7YfY8yMrYqoKzYYDzJn+Dec6TeO3HZtYs3knK19tS9KCaXxx2HjFcc738N66Dcwe7kJqggcvrNrEkkntyDm0v0rOQWZP/pDjgf9h2c5trF27hZ3Ln8d737tM+6Fy6PJ8BsLuA20yxE2DTRGw/SVIPgimGpYJ8jOLycKWFu61h8xS25MSm/L8qu2sX7uVzXOHoVr3Lp9sLKzcrWpGxKRFbDp4lD1b1rJ64262fHonuYtn8fWJij/0Wb5vFccivmL7rg2sXrudHStepY+D2mI5N/RhQ2AHoTPAryMUbYajT8DavnBwNuSca7huqlNyAE7/B9b3gt0z4FwquDwIHZ+qloGbk0hs+jyrtq9n7dbNzB2mYt27n3AlFBFMWrSJg0f3sGXtajbu3sKnd+ayeNbX/DEU5exbdYyIr7aza8Nq1m7fwYpX+1AZCkvkqHG+5z3WbZjNcJdUEjxeYNWmJUxql8Oh/Qn19oNStJzvk/LxChhGdy23JRZ/Pipc3WxxqCghPkc+NJD8tahnhaCcI4k7yUGNQ/A0vuzxCM2UcM4nteKV9EsngYlTp3/iQIUKx+CJTAnthA0Q1OVulqUsIClhBbtNQxli1ZXHenfFnP8x2w6uJxk/BnSfzkT7uuUqmTPhwPdQYQab1hA4CnzvAWePao3MAGr8Bj5MlFulfLfInoSq95GcWgFtNFScimZXhjNR04cToAfQ03LEGKK+fJYdW2N4rUtrANTuPvjotOR7uKJx9aa5rRpXTzd0+bkAGPcu47c0L/q9FIlNdiKJAoQ+gkHhX/FO9E54wh+bLtCmC7Qph7xNkLoG0tfCoeVwPAS6LbsymBeXmRFqHU10N2O7Bo8BoxnSvLJc7Bw5hqFBy/l56yEYFAWqpoT16gGYKc07T15hOaaAO2ipXU9CvAHa1exc7TWEieM7XH78Yx/UFnsAbiTH2iIfNggacB1R+WfOgHOrIW0dpM+BlLng8Bj0ndpAs2tL4NhwSIgDYQXNekPgUPDtBzZWV+vlwYDRQ6gMhTORY4YStPxnth4yMihKj6ppGJUuLCXvfB6F5SYC7miJdn0CfwyFGq8hExnfwaGqcmBPUNvKSHAjOdaVv3f38UGnzcfDVYOrd3Ns1a54uunIz71QP18oCSza9DJrdA/zY68B2MGfG4vbiMpKi40wUVhW2141LbuG8bFbBSpnN5xkdUDSiKjnuWcmszgHBQ2+Lq0qBwG1N61cnFGl51S1MRKfl4wJhfwzE+lw5ioRZZlkVtRfg6spS4QKE+jbQOCT4NcfbG1qa6nG0fnKfACVlR49FVRU3S2ZszLJxgNf32qK6Xzx9YBNmZlA66ptWnSATqdFpdWiB9QaHRqzCRDkJKVQYM5j52eTOFZjDqAnwf5XTQq0Aue7wdoTrO0g7jcwJkFZtdlxdjYaVIqZ0orK9vW13cvH+4rLNd74eKkozMq4JIm4Ze8wffYqjmSUYL78/EdPL0M5VA33l38eEEpYLQnKjeVYW+DDhkfjBb5jwNYTdAsh9TQUJUKDzXczQVESCDU0GwLBI8Gr0zUOcbUXPt5X9mi8ffBSFZKVUQC4Qlkcy96ZzuxVR8goMV/RUd8LQ7kA++rHkIaA0DBqD8UN5FwOhQ7QodOq0Gr1gBqNToPZ9MfK0A0ReWzZPpzJ6cFMG/4FD9byxsctj8VtRJSbKVNpsK/1SYuK5q39mdT6z9ZKIrkx9R6O1arKk9wsrly8zUr1+d1qVCoVoMap+WiebOFZ8/mEuiV3NOCLut5TwOQHKWvh1Atw2h5c+oL3UPCJBKsall4nLVerUaOg1Kj2mTELUKstSecrL2lqjQa0bXn6u8WMcrn2WwHlcZC2CtI3QG4KCD049gW/B8Hr0uxDVDRzt8ONPJKzFbjqAmu57QKlhmECs7nSZgBz7EKmvL4G1ci3Wfp4BEEutmiNG5kcMZXiWr6SrdHqan3Xuq5yruXDBsMEBTsgZQ2c2wbFRaB2Bs+x0GJEA96R2kPbz8DuV0hbDQeWg64FeN4FPveAR0i1I09cdYwJM5WhUAFmYhdO4fU1Kka+vZTHI4JwsdVi3DiZiKnF/NGFGrS6WiNRRzm1UOdQlHDk4EM8cszM2HuXMtXrqnfv/qxY3DYEeTklFGibEGTp7F+JpJFQz/NPi5+jFxriSck8wnnRhebifxw+f7HaHAIdYS5BaDmC0Sqc56Kew+/yuFhOZkE+rvpahdcLfQgET4fgVyBvIyQtqyy/56yC4x7QbQtV5dnro/Pxw5O9xMeXQFDVHXFJPPFp4NXX0jURVDiHBOEqthIbWw69ap+UlT4FDvwKCqAPBP//gP8D4FTLMgNWQS6E61M4kmhECbCukdJYbrtCWkIC5fhhA1CRQGKqglNXXwAMMSeJI5yZk4fRocp0c0ICyUZBXSaFN5ScBqEYDg2A5POAFuy7Q5sHoMWAWsr4CLJ+j+PtQyXg5MFL9zevdZb4NVGDwwDoMADaZsG5ZZC8EtK+gtSvwOYhuOvdqrZKGgkJ5eBXWcqpSEgkVXGiq29TwEDMyTgIn8nkYR2q6jJmEhKSMYo6RaKB5FiKkTMnxnL/7hQGDtrMp4HuNVPvPzMW1bXaB6fWgtCC30vg8oeJfg3XBswcPFuIqkUIPW1r2y84s/c0s0+Vo/by4e2hbjSrn1kSSYNTz1NMT8fggfipBCWJ03lo9etM+XUMs8+brsx+RkNo2yfpZ62iOHEqA3/+FzN2v8eMTRN4cFEobdaspqCBjKiBFTjfA50Xw9At0HkiONtWPl+3BE2rgQwMLiF63hx2ZhrBmMHW2fPZVh7GwLtaWqyGvvMIRrS+yMp332Zl7EXMCAx5CexdMpsvN2YCUFEKzvdBl59gyCbo9EztyQAAdp4Mb6dl/9Escq81V+mGtivkbprHvEN5mEURsT/PZWWaJ/2HVK73oPPwwEWJYdv6s5QKMJzbzqezlpBYx7lRDSXHMszk5f/O4cyjxJSUAiVk5B7hcNYxkgwKmMFkB37/gj7RcNe3EHZ3bQNQJflJ51iwJZH5ey+QfRP6ajzA9zmI3AyDfoSwYaAtq3bDreSyad48DuWZEUWx/Dx3JWme/RnSWQ/o8PBwQYnZxvqzpQgMnNv+KbOWJNbx3faGkmMJClnx/+LezZtwaTeTZ5vlcSzzMIczD3P4/BlyFG5bLEyxkPQzJC6Bgmus+t1QbTDksPaUma7h10pgFDJiU5m/JZEFhy9SJOcdShoR9a7QWfu9xmdd9zLmwFH2/j6L35s9yJjgi3x9JutyG02zCSwansNTaz9mbfwc3owHUKGzDqZPt5YWvt9cf7Q+4P9C5R8Axus2r0TThgnvTiXh+Q95IvI79BoTRr0fg1+fw/hQDVh6KdW14pn/+4iiKW8xdchSXtFrMBsr0Lq05sHpjwDg/zn4W2yNnmEDfZn+QTK/5Pjxb/frL05Uu+1aWkcGsOOpnswrE1QojnR55jNe6F55l6rv9hRT7j/Ia68OoMN0PeBE9+cepk/sAkot1rPh5FjGRZZv7s6EpPLLW2YtCWcWTXnonkyWhNnSfZOlsgQl5ZWPwPRNrXBpoIpvk27Qphu0qTp0KkPRmsiAHTzVcx5logLFsQvPfPYClaHQ0+2pKdx/8DVeHdCBShd257mH+xC7oE6RaCA5llDB6aQNxJuKMB95mB5Hqu1SRzHnmU0856C+7bG4tQjyjiSzRvHks8gmculiyV8OlRAWPUm8BmYu5v/O6WIbAj1b43HN9MLA+dyTxBeXobZuTohLIM6N/WGhUsS52DNklNnSPDQEryb1vSIpFJ07Q3xGCXpnH/xbuFF/UaV8+3E077l0JfbxOi5fbNzMi93/Tda/tvLdAyZizuSg825FqPvVaZmZwtQY4s4ruASE4e9c3+c6DSXnT0Qp5fOZ65kUY8Vj/xnAos63Rmfj5hfp/u8s/rX1Ox4wxXAmR4d3q1D+GIpCUmPiOK+4EBDmT/1D0UBy/kz+pFg0KOYC3pm2nXVd+rBjmMPfYD6E5J/GTR6zGhybdabnDR+CWePu0gX3v9LqZGp7mrfqRPObF4R981A63rwgUNvy6DN30j7/5u491PY+3NHJ5xp7NTT1vYMuvjfVRQPK+RMx5LIzUcE2uCUvd/wzBiA19j53cO1QNMX3ji7cfCgaSM6fyZ8eiwZAWPHg+L6M87aXyYDkL4k8bv9iqO3saC8/mnJLMBeradOrJX0iAgj9S5So/778JWOhtSakhfwKqeSvy00+MpD8dVCoMBgReuu/2VKxf0GUCgxGgd5a34i+LiaRSP7pyIRAIpFIJBKJvEGRSCQSiUQiEwKJRCKRSCQ0hoRASWPHD4tYfbLoeo1I3/kjCxcsYMGCBSz8eTcZf8UFPYpOsnrRD+xIu/3KG/+3gMf6PcR7ey5ef3Xa6+ksCkg6fpQzOfVY714ikUgkjYrbnxCYzrDu8w/58UDBdZb8MZMbu5ut0dGs/+kLPpiznrO35vs3txSl4AA/fvg5687cZuWLDvHpy4sw3P86k3o6cr0ljq6rc8VB5jwxijfX5v4tPkojkUgk/2T+Iq8d6mg/YS4/TVBInPsgQ3643fr8lSni0PyPOdDuTb56pi21fhTRUrRBDP7XZEo6Nb1uUiGRSCSSxk8jSggUCuN3seP3TDTeXejd3b/mF14txJwXy569J8g02OLVrgc9gp1qWUJUUJR2hANHErlAMwI69qCTb5Mag5plcm6EoChpPzsPp1Hh1p7Ia61TbMjg+J6DxOaYcQzqSkRnb2r9Lool/d3QrnOUBd/PCIORuPgLOP/BLgt0VgpIj8+kWEDzbhHYetT27rWgKHEfOw6nY3ZvR+/urhQm5aHzbolntY/CNIyfJRKJRHKzNJKEQCF326sM+yoZa3c9OWen06Tfmyz+7CH8LR4dBHk732fcpG+It/ajhV0hSalGwsbPYeGLPXC8NCqK80S/O5FXFp9C8QzAy6aI9NRyImat4//udbZczg0xk7T034ydHk2JZyCuxvf5xC8EvQLVv5lYcmIRL0z8iF0l7gR4aMhOfAPbvtP4+tORBNVlgbYGscsynSk5wKJpX3HMWEhaTDrBU7fxw2Oe1RIPM4lL/sXYGdEUuwXioeQw2z8E3cF4Onyxi/ej9A3oZ4lEIpE0COJ2U75FvBweKILCnxZLU41CCEXk7XhdRAV3FM+syL2qsVmc/fI+EdrjVbGz/KpdZfvEjD7BosuTP4iz5UIIUS7OfDtWdAyOEjMPXmqsiIyl40XH4EgxadlZUXbpp8lbxLqDF+sg58YoOSvE0x1CRNQbO0SeIoQwJotfJoSLwMBw8fKWKjllB8TMqFAR/tjX4nRx5abSmHnikQ5txcNfJ1rcV0PZZZHO1SnfJCZ3DBWPfJMhlBq2LxdPdwgWUVOjRY4ihDCdEyue6y6CatjeMH6WSCQSScNw+ycVAqDBrd8j3OujA1Q49RzNPaHF7I3eb7GEilPR7MpwJmr0cAL0AHpajhhDlGMaO7bGVDYSmWxcuQtDt/FMvS/g8tcWrf2iGNTFwXI5FlB2IJp9JSHcO7onTipA58d9o6Jwq+Zx495l/JbmRb+RkdhkJ5KYmEiGPoJB4Rp+j95pcV8NZZclOltC6f5o9pWEMezxPrioAI0Xgx/ph0e1ak9D+VkikUgkDUMjeWSgxsPH+4oyGh98PTUYsjMtlmDOyiQbD3x9q5mk88XXAzZlZgLtoSKV5HSB58CwygGvvnJuiEJeZjYGjSc+3ldGQa2PL56X/xXkJKVQYM5j52eTOFZDH0+C/etQM28Qu9paoLMlKFzIyqZM44m395VMQtu8Oe7VEouG8bNEIpFIGopGkhAIhKLU+N+sCFDXYSRSq1GjUEMMZswC1OqqkUilQa0Gs8l8c3JuiAqNRg1CQan+Pp5irvG/WqMBbVue/m4xo1xu4qF5g9hlmc4WKINep0Mlyik3wqXXGES5kYrqchrEzxKJRCJpKBrJlVch/exZDJf+rUjgbIqCg6/fVe1UWFvpobSEkqsWLdD5+OFJOvHxJVc2lsQTnwZel+Ro/QkJ0JF17Aip11j0wCI5N0SFi58vDkoKCQlXFu0pSzhLunKljXNIEK4iidjYcgvlXoMGscsSnS1BRbOQlrgpZzj+e2nVNkH+iZOkVMtXGsbPEolEImkoGk1CcGHLfOYeyMUsSohd8iUrkt3oN6TbVe1UuLZvR/PS3Xz/5QYOnzjJqcRcADStBjIwuIToeXPYmWkEYwZbZ89nW3kYA+9qWfVzF+56ZCgupxfy2ifRpJQKECUkbfmCeZvrIMcC9F0HE+WWzMq5S4krEZhz9/HlvC1cqDa46juPYETri6x8921Wxl7EjMCQl8DeJbP5cqPlj0sayi5LdLbI9k4P8kBoPqtmvc630Yc4tHk+byw4SPWljRrKzxKJRCJpGG7/1w6N0UyJeI6YrvdhtW8lp4sVKhQHOo7/hLkv9sL56kq6uMiBL1/m9a93klRgRNPuJeKWPwNA6anvePn5D9mQYkKvMWHU+zH4lTl88EgoV96UL+HUj9N45ZM1xBarsVKbMTUJY+xH3/Nqn6Z1kHMjBHm7PuKZyQs5WqhGp7aj9bAeGFfsJ+zyq3dgTt/IB1Pe4rv92Qi9BrOxAq1Lax6cvpC3B7vVwZENYZclOhvZ8cZAJv12AYEJQ4kB9E2w1qlA15WpG+Yx0kVFRco63nvtQ5YdyQL3TowYfwdHZ64kaO4O3u2jb0A/SyQSiaQhuP0JQTVE0TlOn8lC69WKEE+b+q1+pxRxLvYMGWW2NA8NwavJNYogxjwSY5PIVznj19Ifl6tHIEvl3ABRlklcTAYmj2BaN7e/hk0KRefOEJ9Rgt7ZB/8WbtSzuwaxyzKd60bFoZkMfHQ/96xYxfOh1eaGNJCfJRKJRHJzNKqEQPJ3wUzsL++xvLQ9d3YOxK70f6z+ZCY/VTzOr79OJFQuRSiRSCSNjkbyloHk74UKG30xR756g+/fLaBC24yAbg/y4YwJMhmQSCSSRoqsEEhuLUJBUakby+xViUQikVwDmRBIJBKJRCKRN24SiUQikUhkQiCRSCQSiQQ5qfAfhEL6zp/ZEFeKAFR2YQwe0QuvxpQSFp1k9X+P07T/I/T2aUyKSSQSyd+fv1lCoJCTPJfZCWmonO/n1Q7h2N5ulRoNZnJjd7N1az6G87GcMg4h5IFeeOlvt15XUAoO8OOHC/Dze4jePo1IsRoonNu6iCVprXj00R7czCcoJBKJpDHxN7sNE+Slfc+He97no9PHKbvd6jQqdLSfMJeffvmJjx4KQL79V1/MZO77hQXLDpFbxyWdJRKJpDHTOCoExgz+l59DhdoJf+cmpCZt5EChwNOrH/3d3S4raSw+wbbkw6SUa3F16Ulf30Acqu7QSotiSSgpI7W08hNJoiKD/2Udxx4VNnbBBNtZgymLuLzzlKsc8XP1w0FlIu9CDOlGsGvaikBbrWX6mHM4m5tBMfZ4O9mQeHYjxw1OdGo5hA5Nbn6oVXIhYzXYPAI2FxNIK3XE39+F6vfMhpwkUgptCQl0r7TXkMOZEyeIT8ulhKb4tu9BeKBDvQZ+c14se/aeINNgi1e7HvQIdrpKjkJBejxZKi+CPRXi9+zgeJbAJawnvdq4oLO4J0FR0n52Hk6jwq09kf61tzJkHGfPwVhyzI4EdY2gs3c96j5KAenxWai8gvFU4tmz4zhZwoWwnr1o43JF42v3pVCQFk9mSQXpF42I8nxS42IrU2q9My0CXKstt2wmL3YPe09kYrD1ol2PHgQ7aeqmT2kmCWlGnPzdKY/Zyd64QuxCIrizvTs1ayfX6asMkpeA41BwdKm7yyQSyT+LRvHaYXnyv2n13eckW0dyr3s8a5IzqQBU6ig+f34Tz9mbiDs+gQfWfU+MUaFSYR3uvi/xw0Nv06+JiT0b76DP/jM1PqBDVbt2kQc5dmd7TOdepcOidzmtG8GSF39huDaV2Ytb8kIK3Dkwga3dfCzS52nTp9w55z/sog13+uSwM+U8ZlToHB9n6bgFDKvP8rsKFO6ApF8hbSuUAV0OCWxXP0G/97W8vmU+D12qT4tsfn6iH+9rX+fYgodASWH+iIF8eMoGt+ZeOGnySUk2EPjYJyx4pc9VZW2FxLkPMuSHMOZve4eIGqOLIG/n+4yb9A3x1n60sCskKdVI2Pg5LHyxB46X5RSy5ImuvKV6jPGly1mc1gxvBwPnUj14dv1PjPO2xH4zSUv/zdjp0ZR4BuJqzKLULwT94bN0+vLSdxNKOLHoBSZ+tIsS9wA8NNkkZtjSd9rXfDoyiDo9VChcwhNd30L12HhKly8mrZk3DoZzpHo8y/qfxuGtvkFfIpcfx/bijd3GP4jWBoznl/VT6agDRB473x/HpG/isfZrgV1hEqnGMMbPWciLPRyvLAN9A33cdr1Kn6eO036IFScPG2iqziIhXUvPGUtYOMq/srR3o74KYFc3yFKBU19oMRx8IkD/N6sLSiSShqFxVAiqUMp2salwGFPvHk0Xm3wOnDyINWDKns24td8RI0IYEfUGD7sY2HPgNT5Ofp8ntnTn5L2D8A2cyOv6XC6kf8MXiWmonO7jP23uQI8GzxYeDarPlQaxJNrM5Pv7Cliw4X22XVzCojMfMqyDk8V9mNIh7VdIWQG56SC0YB8Ore4BdxsV1v0H0+39mWyIzhHyuZkAAB97SURBVGX4CFdUgMjaxIbDGrq/3a9SiKoZEZMW0b9dd/ztVYBC9rqXeGDyLL4e3JMp7Sy8ZzccYM70bzjXaRq/fTmKAL2R+MUTGDlrGl/0XsdrXWoOweX7VnFs4ldsf6YDDiooSjjBeQfLRhuRu5oP3otGP3w+K9+MxMmUwpKJD/GaGTpdUufgbCZ/eJzAl5Yx54lWNKGM/80fx6h3p/FD1x94wr+uI1s5+1YdY+JX23mmgwMqikg4cR4HtSV9uTDqu1hGUcHhdwYx5sDdrFgx6Q8rLxoOzGH6N+foNO03vhwVgN4Yz+IJI5k17Qt6r3uNmi68tj4AmM9wWvU5y7bdhZvqPMufHcrUH1cQM3IybTQW9GUHoTPAajVkbIaj6+GEDzQfBv7DwbV5Hd0nkUj+1jSuewV1OyYP/4U3O97P0LAneXv4F4y1Uzh1+icOVKhwDJjIlNBOhLj0ZGyXu2mhMnMuYQW7TRp8gv7F9Dun8UwLL9SAptkg/nPnm7x55zSe9q9fQlC7PtVcpm7LY31e5OG2LzPGW48KI5lFWRaLz5wJa6Lg8BwodoTAKdB3B9z1PbQeDjYaULn0Z3APNYfXbyZbAAgyN63niL4nQ+6sSjxUTQnr1QN/e4XSvAzSklIoCbiDltp0EuINFutTcSqaXRnORI0eToAeQE/LEWOIckxjx9aYP7rHawgTx3e4/NjGPqgtQfaW9VV2IJp9JSHcO7onTipA58d9o6Jwu+xeI3uX/UaaVz9GRtqQnZhIYmIG+ohBhGt+J3qn5X6upjFeQyYyvoND1Z26PUFtg7BvsL4qOBW9iwznKEYPD6isYOhbMmJMFI5pO9gaU2GhPpd2+zHw4SqfqNyI7BmKOiOZ1AoL+9KA6wgI/wHu3gZdXwY3B0ifA9v7wqZ3qaWiJpFI/qk0qgqB2uoOOrpUu4VSadFSSnxeMiYU8s9MpMOZq35UlklmBbfEktr1AfPlDc542KkBPdbayj1CMV8t5pqUJUKFCfRtIPBJ8OsPtjZXt3Kk75AIZr6ygU2ZDzPGI50NG45h2/tjejtclkTcsneYPnsVRzJKMF9+CKSnl6EcsGyUNmdlko0Hvr7VnKnzxdcDNmVmAu1rtNcEhBJm+YSBaijkZWZj0Hji433lFlvr44vnpX9FDkkpBZjzdvLZpGM1v7joGYy/qj5TRjUEhIb9cY5Dg/VlJiszGzx8qelCXzzYRGamGdpX7/0a+lxC7Yjz5bkHKqz0eqiooKIefWm8wHcM2HqCbiGknoaiRLjtzwslEkmjoVElBGj0tTwXVqNSqQA1Ts1H82QLz5plDXVL7qj3PD4F5XpXxFr1qc7NvXPmPQVMfpCyFk69AKftwaUveA8Fn0iwqopO08gh9LZ9kQ2bMxnZZwMbjzelz7jIy8O8OXYhU15fg2rk2yx9PIIgF1u0xo1MjphKcV2miKjVqFFQasyeN2MWoFb/sZik0erq+baCCo1GXfmdg+rqKeZq/6vRaEDb9mm+WzyqgV7v06DV1aZxw/WlVqtBUajpQjMCdS0+vJY+NVS7ub5MULADUtbAuW1QXARqZ/AcCy1GNLYLgEQiuZ38Ba4HOsJcgtByBKNVOM9FPYff5Qt2OZkF+bhWG7V16kqThKmUUgHO1S/uGm3lAGYqotAEqFJJLVK4XU9O9CEQPB2CX4G8jZC0DNLXQs4qOO4B3bZAcxvAPoLBfZry7w3rOFiykZPN7uTZHldm2htiThJHODMnD6NDVZZgTkgg2Sj44+RyFdZWeigtoeSq1+Z0Pn54spf4+BIu1/5L4olPA6++fg1ouQoXP18clGMkJFRA1RyHsoSzpCsQDKByJiTIFbE1lthy6GV9XYE3qU7d+tJoVGAyc/UDANDh4+cJe+Op6cJ40vCir19DvuxpQV/FcGgAJJ8HtGDfHdo8AC0GgI1VA6oikUj+FjSuOQS1oiG07ZP0s1ZRnDiVgT//ixm732PGpgk8uCiUNmtWU1CtrYdzAI5ARdp73PfzCB7+dTRTTycDoG0agJ9WhTDv5P/WvsYbqyezON/yEv8twwqc74HOi2HoFug8EZxtoeKyarb0HNKHZsd+YPqS07hEDaV7tUcLOg8PXJQYtq0/S6kAw7ntfDprCYm1vievwrV9O5qX7ub7Lzdw+MRJTiXmAqBpNZCBwSVEz5vDzkwjGDPYOns+28rDGHhXywY1Wd91MFFuyaycu5S4EoE5dx9fztvChcs66+k8YgStL67k3bdXEnvRDMJAXsJelsz+ko2ZDVnsrktfWrxb+KBN2sSPv+7h2MmTnIo/X7XmhYZWAwcSXBLNvDk7qXThVmbP30Z52EDuatmQCYEFfZnBZAd+/4I+0XDXtxB2t0wGJBJJ7fwFEgLQNJvAouEzuMdJTUL8HN6Mnsqb+xbyW44Vnbxb1pj536TlVD7q2JuW1sWciP8vS04vZX32xcqdtvfxQpeOOFDCidPv8VlWCFEejatIovUB/xegz2ZoYXdlu3W3u+nndo7ETE/63d25xqMMfbenmHK/HbteHUCHVmG06/cap3o9TJ8mtde+dR2e4Z1/dyT7h+cZed+9PPCf/1bu0LRhwrtT6V38E09EtqNV295M+LWMqNffY/zV0+lvliaRvDhrHN5H3mJIx1a0ifg3B0LupHX15+GtnuH/PnoEx+1TGdKlNWFhdxA+8Ek+2ZqJuYHVsbwvFa73TOLF/np2vvMEDw67l/ufWcT/qsoFmjYTeHdqb4p/eoLIdq1o23sCv5ZF8fp74//wRsLNcsO+HKD7Jgh/Hly9G7ZviUTy96NRrENgOQbO554kvrgMtXVzQlwCca7zeG4kJ/d34gyOhHiF4PqXSIkswUxhagxx5xVcAsLwd76JpX+VIs7FniGjzJbmoSF41WddBQsRZZnExWRg8gimdXP72mdlKEWcOxNPRokeZx9/Wrg1uXWZbAP1pRSdI/ZMBmW2zQkN8eIWuvBP7Usikfx9+YslBBKJRCKRSG4F8l5CIpFIJBKJTAgkEolEIpHIhEAikUgkEgkyIZBIJBKJRIJMCCQSiUQikSATAolEIpFIJMiEQCKRSCQSCTIhkEgkEolEgkwIJBKJRCKRIBMCiUQikUgkyIRAIrmlFOcXk1zQCL6oKZFIamAqLiUh14jpdivSiJAJwT+ZopOsXvQDO9Jq/U5yA2EmN2YL//3uaxYu/JrVJ4tuYV+NCyU/lSen7uKDlFvpX4nkJlCKyco/zuHzcWRV/LOOUyU3iYdf2cvn5+TnfC4hE4J/MErBAX788HPWnblVObIgd93L3HffC3y2dCNbtmzjaKrhFvXV2DCzf+3/2OgRyOQ2ututTKNCKY9hxb5H6faFHdafDuKr4n/WQNQoEOdYua0fIf/nhNf8jnT9NgzvOWHcv383ef+Q8VHvG8jzYYV8vCKD/NutTCNBJgSSW0gxu37bRF63KSxfvZRffvmB6UNcb7dSfw4lmXyxo4zISF8C5Fl2GXP+PO6d356HDhzB1r4ZJlMF8oHKbUAUcL4ikMcHRnP6uUKMk5NY39mD7TtH8PyZPP4RKZramnv7eMKhBH7K+YdkQTdAW98flp5PIK3UEX9/F/TVthtykkgptCUk0B0AYcjhzIkTxKflUkJTfNv3IDzQAU0NaQoF6fFkqbwI9lSI37OD41kCl7Ce9GrjQmO4v1JyIWM12DwCzlalZCakYXTyx708hp174yi0CyHizva462v+zpwXy569J8g02OLVrgc9gp0u216WnUiq0R6b9H0cvOBLZP9Qyo9sYn+2O90GdMXHupogQwbH9xwkNseMY1BXIjp7Y1tnKwRFSfvZeTiNCrf2RPrX0sKieN2IUjITUimoyOPs+Qqs3BSy4mK5ANi6BeLrpKtqk4bRKQA/p6oIi0LSz2Si8gqmub0KSjNJSDPi5O9OecxO9sYVYhcSwZ3t3dFf3aUoIu3IAY4kXoBmAXTs0QnfJqrLdhtyznDiRDxpuSXQ1Jf2PcIJdLjaKjN5sXvYeyITg60X7Xr0INipqk0ZJC8Bx6Hg6HJjD1w8lsYGgxPvdLCyOOs2nIS0sxAwDNRFGSRkmHD2dyB33zaOZevxDe9NN78m1Y22zC6lgPT4LFRewXgq8ezZcZws4UJYz160cdFZIKeM7MRUjPY2pO87yAXfSPqHlnNk036y3bsxoKsP1liIsKNjh295q9ODOJ7sR8j5q/bX0c+3itsWC2Eg58wJTsSnUSmmPT3CA7kSimwSU43Y26Sz7+AFfCP7E1p+hE37s3HvNoCuPhZGQt2KpwbMq7ahCf27v8x9x4ex7uw+jCFD0R6FpGzw6QfW9R4pGjd2rT3poz3IskOlPDO4yT/+DrmeYRYUb32H4e9reX3LfB5yqbrwimxWvHwv72tf59iCh0BJYcGYgXx4yga35l44afJJSTYQ+NgnLHilD5d+BsVsmDaMt1SPMb50OYvTmuHtYOBc6s88u/4nxnnfOExlMVB4rbqPCpp2BZu6jWqgQOEOSPoV0rZCGdBlODirDvH5o09xvP0QrE4extBUTVZCOtqeM1iycBT+6kof5e18n3GTviHe2o8WdoUkpRoJGz+HhS/2wFFVwamvnmT0GhMBDjpy0zOZ164dquxcinPS0B/9hu0zegBQcmIRL0z8iF0l7gR4aMhOfAPbvtP4+tORBP1hZLwWZpKW/pux06Mp8QzE1fg+n/iFoFfA77K9lsbrBhgP8fmj4/gl69K93wyGbQbQEf5qNL+M865q8zRnxm5g6VN+lSdi8QamD3sT/XtHmHuvNcZDn/PoU8dpP8SKk4cNNFVnkZCupeeMJSwc5X/55BXno3l34issPqXgGeCFTVE6qeURzFr3Gfc6q1BSFjBm4IecsnGjuZcTmvwUkg2BPPbJAl7p44IKQOSx8/1xTPomHmu/FtgVJpFqDGP8nIW82MMRlRHS3odDH4BTX2gxHHwiQF/roWnmcMwFit186dz0+k4ThZC1CpKXQcZJoC+0GAbm/R8zcuJJQsPLiUu2xV17nrPTHRk0azEfD/NBDZbZVeXXacPeQvXYeEqXLyatmTcOhnOk/vws638ah1faDeRUnOKrJ0ezxhSAgy6X9Mx5tGunIju3mJw0PUe/2cCMHpYNRBqnUbzZq9JHSbUeO3Xxc8Ny+2PxBOaFYxj44Sls3Jrj5aQhPyUZQ+BjfLLgFfq4qKg49RVPjl6DKcABXW46mfPa0U6VTW5xDmn6o3yzYQYWhuKPKBWYhAqdxgoVoMTDiVfhpDt43gP+w8E9ECy9DPwl0DsR7it4IyaXwsFNcLzd+txuRD1RcpaK8e3aisd/yRbKpW0Z34tH27QXT6/Iq9pQIGJ27RGJhZdamMX5tZNFr5D+4r1jxmrSCsQvj4eKwLDuYuwXR8XFquaF8cdFfKFl+px9XIilAdf4CxUiqchy2yrShEj8VIhtkUL8N0CIpcFCrB8txKmlQpSahBDl28XU7kEiKPJFsf68WQihiKxlT4vOwYPExydNlULK9okZfYJFlyd/EGfLhRCiXJz5dqzoGBwlZh4sF0IYxcE3+4jQuz4Qx4zlYvcbvURwp0liXaFZpC4YLloN/rhKzgExMypUhD/2tThdXLmpNGaeeKRDW/Hw14kW26TkrBBPdwgRUW/sEHmKEMKYLH6ZEC4CA8PFy1vKqxpZGi9LOz0nFo0MFZ1f3CzKr95Xvl1M7R4qHvgqWZgvbStcIp4IbSWeXllW1WSq6B4UJCJfXC8q3Zwllj3dWQQP+lhccrNQMsTS8R1FcOQksexsWdXGMpG8ZZ04WHUgKQUxYteeRHHFrPNi7eReIqT/e+KSWWX7Zog+wV3Ekz+crdS1/Iz4dmxHERw1UxwsF0KYhMj+RYgDo4RYEVx5XC3vLcSBT4XITr/KNnOZ+OKtX4XVO2dF3jVcU7xfiFMvCrH2jkpZ/+0gxPaXhUg8JIQihCjfNFl0DAwS3Z5dLtJNQgglV2yd2lcEhz8v1hUIi+0SQghR8It4PDRQhHUfK744erHqfC0U8cfjRaElcowHxZt9QsVdHxwTxvLd4o1ewaLTpHWi0JwqFgxvJQZ/fPIaVl4Pk0g8ECF0H0SJOUXm6pst93MD0XhioYiCmF1iT2KhuCJmrZjcK0T0f++YqAzFm6JP6F3ig2NGUb77DdEruJOYtK5QmFMXiOGtBl+5/tQZs0g/eb9w/8BPTDhbebFUMoU4+4kQ26OqroNBQqx9WIhTvwpRXFrPbhodJrFqziqhf+mU+L2+rvsbUe9CkMqlP4N7zGLa+s1kP/QI7ipB5qb1HNH35L07naoaNSWsVw/ATGneefIKyzEF3EFL7XoS4g3QrubDALXXECaO74BDVQpqH9QWewv1cR4J7XpdY6cGnCy8k86cCQe+hwoz2LSGwFHgew84e1RrZAZQ4zfwYaLcKm9d3CJ7EqreR3JqBbTRUHEqml0ZzkRNH06AHkBPyxFjiPryWXZsjeG1Lq0rbXb3wUenJd/DFY2rN81t1bh6uqHLzwXAuHcZv6V50e+lSGyyE0kUIPQRDAr/ineid8ITtdT9a6HsQDT7SkJ4cnRPnFSAzo/7RkXx2bboK43qGK8/BbUfAx+OotLNbkT2DEW9L5kqNyMyN7Jyl4Fur03lvoBLt0bW+EUNulz5UDUNo9KsUvLO51FYbiLgjpZo1ydQaVYFp6J3keEcxfThAZWPI/QtGTEmii+f3cHWmJfp0l6H6whwHQHmDDi3GtLWQfocSJkLDo9B36mXSm4misoFGkftH0vpJXBsOCTEgbCCZr0hcCj49gMbq6vaajwYMHoIzTUAzkSOGUrQ8p/ZesjIoCi9BXbVcCReQyYyvoND1R2ePUFtq86uG8mxrvy9u48POm0+Hq4aXL2bY6t2xdNNR37uhZuLcQ2bqYOfb5LGGIuwXlSKyeN8XiHlpgDuaKllfUI8BtpVHk9qd3x8dGjzPXDVuOLd3Ba1qyduunxyL5grnVhHTPmLeHb7GmzDfmSGvx0AKg8IeKHyr/QopP4G6Rsh5mX43yxo+dl1rrl/IZpYaRCGCorkNIKbOa8c6TskgpmvbGBT5sOM8Uhnw4Zj2Pb+mN4Ol9qUEbfsHabPXsWRjBLMlx2up5ehHK4a7jUBoYTVc8xxGAAON252Q8oSocIE+jYQ+CT49Qdbm9paqnF0vjIfQGWlR08FFRWV/5uzMsnGA1/fai7W+eLrAZsyM4HWVdu06ACdTotKq0UPqDU6NGYTIMhJSqHAnMfOzyZxrEatzpNgf0uLdwp5mdkYNJ74eF+5WGh9fPGsce2oW7z+FNSOODtd9jJWej1UVFDlZipSk0kXngwMc7p2KbMsjmXvTGf2qiNklJi5YlYvDOUC7M1kZWaDhy81w+WLB5vIzDRD+ysHpsYLfMeArSfoFkLqaShK5IpctNjrVZiNJgxQc66HCYqSQKih2RAIHglena5xIqq98PG+skfj7YOXqpCsjALA1QK7qntEQ0BoWO3zcW4kpyqr0Wl1gA6dVoVWqwfUaHQazKaK2qTeNDf2803SCGNRFreMd6bPZtWRDEqunIDoexm4EgodlaHQoVVpqQyFBp3GTH1CoZRtYcrKyexuNo31Ax7Es5YTybYjBLmDrRvELYCLF6Eoq+59NUZKjGZUVlrs/lbPQurHTSXaTSOH0Nv2RTZszmRknw1sPN6UPuMiLw8b5tiFTHl9DaqRb7P08QiCXGzRGjcyOWIqxeKPp7VGq6tHbltJ0gQ4uvMaO62g816oMQfoGnhPAZMfpKyFUy/AaXtw6QveQ8EnEqxqeOw6DzbVatQoKDWm65oxC1CrLXkgWukftUYD2rY8/d1iRln8EP9qVGg0ahAKSnW3K+Ya/9c1Xg2OImq/2F/HXSqNGjVmTNecqm4mduEUXl+jYuTbS3k8IggXWy3GjZOJmFrMJbPUajUoSs3Z1WYzAvWVeJmgYAekrIFz26C4CNTO4DkWWoyodjKpdQR6WCHOlJJkBqfqB7U9tP0M7H6FtNVwYDnoWoDnXeBzD3iEVDNXXHX8CDNmQK1WWWzXFTRodbWdXXWVUwsNfWhY6uebpbHFwhzLwimvs0Y1kreXPk5EkAu2WiMbJ0cwtfga58ZV1DkUxiN8svIR5oux/DJsKuFXVVKVPMhaV1mlyTxSWTm1agVB90FA/7p21ghRjKTkVKB3taNFfQefvxE3d27ZRzC4T1P+vWEdB0s2crLZnTzb48r9kCHmJHGEM3PyMDpUZQnmhASSjYKGnkBs2xrcr3U26MDGQkv1IRA8HYJfgbyNkLQM0tdCzio47gHdtlBVNrw+Oh8/PNlLfHwJBFUZXxJPfBp49fW7/o8vo8I5JAhXsZXY2HLoVd/ZQipc/HxxUI6RkFBxuX5ZlnCWdAWCq1r9mfECa6x0YCgrvXwRM587x3kFfOsgResfQoDuZ44dSUUJD6wldzAQczIOwmcyeViHqmTVTEJCMkZxySodPn6esDeemuGKJw0v+vppoBgODYDk84AW7LtDmwegxYBaysto6BLqhO2ufI4UCTo5Vkvk1JXVrA4DoG0WnFsGySsh7StI/QpsHoK73q1qq6SRkFAOfpUlqoqERFIVJ7r6NrXQLktoKDkNRJ38LMj6PY63D5WAkwcv3d+cFnWZfNjYYmGIoVLMZIZdOQFJSDZyS0JhPsM3a+9neuFAFoz4lCFNajqvYgNsfAHKjKByALfh0OIhaN6ulocSioH1v8WwKhu82ofwWniTet/cZS+CtERQt4Q7xtY+SDVUG4wXOJQG7e9xoWk99f07cZNzd23pOaQPzY79wPQlp3GJGkr3auV1nYcHLkoM29afpVSA4dx2Pp21hMRb8JKr+yToteAaf1+C2x8uJjfACpzvgc6LYegW6DwRnG0rM2RL0LQayMDgEqLnzWFnphGMGWydPZ9t5WEMvKulxWroO49gROuLrHz3bVbGXsSMwJCXwN4ls/lyY6blcroOJsotmZVzlxJXIjDn7uPLeVu4UC0Wf2a80PnTsoWGs1tWcDBPQZTEsfTLFSTUcY0klctdPDLUhdMLX+OT6BRKBYiSJLZ8MY/NuQLQ4eHhghKzjfVnSxEYOLf9U2YtSaxWDdDQauBAgkuimTdnJ5Xh2srs+dsoDxvIXS01YAaTHfj9C/pEw13fQtjdtQ1SlTh19GaAVR7rjpVf851ujQf4PgeRm2HQjxA2DLRl1e7ylFw2zZvHoTwzoiiWn+euJM2zP0M66y20yxIaSo6lmMnL/53DmUeJKSkFSsjIPcLhrGMkGZQ6+zk/6RwLtiQyf+8Fsm9C4UYRC50HHi4KMdvWc7byBGT7p7NYcitOQJHFb5vv5blkF8ZFPEtw2TEOZx7mcOZhfr+QgwkQRaDtAK3eh0G7IfId8K0tGQDAyNGDiczbksjShPL6ry2hQEE0JP4MiduoXU5DtQFKYjLZZnTm/ptIYP5O3HT1zbrb3fRz+y/fZfrw2N2da7wfru/2FFPuP8hrrw6gw3Q94ET35x6mT+wCSm+24z8RrQ/4v1D5B4DRgh9p2jDh3akkPP8hT0R+h15jwqj3Y/DrcxgfqgFLLxW6Vjzzfx9RNOUtpg5Zyit6DWZjBVqX1jw4/RHLjWgSyYuzxpEw+S2GdJyJTm1H62F30jpm/+Umf2q8VG4MfWo0vzyzkNE9vsdK50SXcXfRRf9LHQU5EPX6XKYZX+GTZ6NYoLZCbTbRJGwsH41RAXq6PTWF+w++xqsDOlBpVneee7gPsQuuWKVpM4F3pybw/IdPEPmdHo3JiN5vMK/PGU+oBnCA7pvqoJZdc57rdZp7dqSRHNnyhosTNekGbbpBm6rDwgigbU1kwA6e6jmPMlGB4tiFZz57oSrptsyuG9NQcizlIsv/v537CWkyjuM4/lbYNNMhbmpp6TZQN63IqMhI8KBSF4PCouzgqSApDwWFHSwIT13Szh2ii5cuHgyEQgii6NClp/2BJgO3Rmbqcmtze54OA8kynMNtzn1fxx2+/J7fF559eJ7f851q46onsvrLyPhxRjBwocfPuL1kE/ussRxJJEi9oQjTFn2amLVe6E9w7c453t8bort1mESZAS51ONjyVsQ/8dLjJhyNMzpxktE/l1H/hJmLA+zthdO9SdbTYoQiAIVUGvS58eeqRpiY9hE/0sqVKjlAAFCgael+ORxnyavgDKiYrHYsxqQ/nN8Z1CCzDhe+cAm1tiZqdqd611IJzrpw+5bRG/djMVeRSikt7Mep+IjtaaSltmydg3iZ7dfKggfFvcAus53GylRfiSREv3/B4flBgbGeBotp7Qn/+BJexUlANWG1W/jfZanBWRwuH+GSWmxNNSnt8WqtuRnODzmoG+zkccvmsnd06hZtN79y49UzzscUXN907Gu2Uf33FiV5XRvaqjqZpIYYezjJoFJE/+1unh5Nz6Iz3Yv4khfFGUA1WbFbjP8O4dqG1Dk3XYMfmS4z8+LRMXpKs72ijcW8n2l/4OfscAd36/J9JFFCBgKBEPlKYz6wiF9XSktFqoHgOf3rHfsWEPLSe/0dk3WH+HC/CVua7unSi40tvnmLeczPwb5OXvcYcuIJQXQhiBLS0VxTnBOhKxN26EBKIbaDAiqqy6nI9jJ2qPjPQg6caqCj3Zq2MCCSoTGvM3D5TCV9XbkRBgD05WUczvvRhGvJEwIhtiN1hV9RDX2xPu/nq2ed9ELkCQkEQgghhJDAK4QQQggJBEIIIYRAAoEQQgghkEAghBBCCCQQCCGEEAL4DY5Djv4G2aSKAAAAAElFTkSuQmCC)"
      ],
      "metadata": {
        "id": "EjjbZDI-VfZP"
      }
    },
    {
      "cell_type": "code",
      "source": [
        "def imprime(mensagem: str):\n",
        "  print(mensagem)"
      ],
      "metadata": {
        "id": "mh8k-D1IVuCT"
      },
      "execution_count": 18,
      "outputs": []
    },
    {
      "cell_type": "code",
      "source": [
        "texto = 'Fala pessoal, meu nome é Zaine Vasconcelos'"
      ],
      "metadata": {
        "id": "aPPuRcXgV-VR"
      },
      "execution_count": 19,
      "outputs": []
    },
    {
      "cell_type": "code",
      "source": [
        "imprime(mensagem='Fala pessoal, meu nome é Zaine Vasconcelos!')"
      ],
      "metadata": {
        "colab": {
          "base_uri": "https://localhost:8080/"
        },
        "id": "t23Kn4oZWEC2",
        "outputId": "285cb7d3-3b37-47ee-ba7f-26eef92b4acc"
      },
      "execution_count": 20,
      "outputs": [
        {
          "output_type": "stream",
          "name": "stdout",
          "text": [
            "Fala pessoal, meu nome é Zaine Vasconcelos!\n"
          ]
        }
      ]
    },
    {
      "cell_type": "markdown",
      "source": [
        "# **3.3. Retorno**"
      ],
      "metadata": {
        "id": "ggy9VgzGWUsK"
      }
    },
    {
      "cell_type": "markdown",
      "source": [
        "Toda função retorna pelo menos um valor, se não especificado, retorna o valor nulo-None."
      ],
      "metadata": {
        "id": "X24EMqwFWZfv"
      }
    },
    {
      "cell_type": "code",
      "source": [
        "def maiusculo(texto: str) ->str:\n",
        "  text_maiusculo = texto.upper()\n",
        "  return text_maiusculo "
      ],
      "metadata": {
        "id": "3-HnfkHwWk5y"
      },
      "execution_count": 21,
      "outputs": []
    },
    {
      "cell_type": "markdown",
      "source": [
        "upper = pega os elementos e coloca em caixa alta - letra maiscula."
      ],
      "metadata": {
        "id": "SrzqSrhVzThI"
      }
    },
    {
      "cell_type": "code",
      "source": [
        "nome = 'Zaine Vasconcelos'\n",
        "print(nome)\n",
        "\n",
        "nome_maiusculo = maiusculo(texto=nome)\n",
        "print(nome_maiusculo)"
      ],
      "metadata": {
        "colab": {
          "base_uri": "https://localhost:8080/"
        },
        "id": "UOXQEKK_W9tF",
        "outputId": "5bd3a666-f46d-478d-e9af-87c88edcd163"
      },
      "execution_count": 22,
      "outputs": [
        {
          "output_type": "stream",
          "name": "stdout",
          "text": [
            "Zaine Vasconcelos\n",
            "ZAINE VASCONCELOS\n"
          ]
        }
      ]
    },
    {
      "cell_type": "code",
      "source": [
        "def extrair_usuario_email_provedor(email: str) -> (str, str): \n",
        "  email_separado = email.split(sep='@')\n",
        "  usuario = email_separado[0]\n",
        "  provedor = email_separado[1]\n",
        "\n",
        "  return usuario, provedor "
      ],
      "metadata": {
        "id": "hDmDnWkHXg8S"
      },
      "execution_count": 23,
      "outputs": []
    },
    {
      "cell_type": "code",
      "source": [
        "email = 'zaine.vasconcelos@gmail.com'\n",
        "usuario, provedor = extrair_usuario_email_provedor(email=email)\n",
        "print(usuario)\n",
        "print(provedor)\n"
      ],
      "metadata": {
        "colab": {
          "base_uri": "https://localhost:8080/"
        },
        "id": "LDpQ6U7vYQPw",
        "outputId": "6af4fc3b-4833-4273-a96f-d6a6f22c6e9a"
      },
      "execution_count": 37,
      "outputs": [
        {
          "output_type": "stream",
          "name": "stdout",
          "text": [
            "zaine.vasconcelos\n",
            "gmail.com\n"
          ]
        }
      ]
    },
    {
      "cell_type": "markdown",
      "source": [
        "# **3.3 Parâmetros**\n"
      ],
      "metadata": {
        "id": "Dd8w1Nr3Y5V-"
      }
    },
    {
      "cell_type": "markdown",
      "source": [
        "Parâmetros são os valores que a passamos na chamada da função.\n",
        "\n",
        "\n",
        "\n",
        "*  Função sem parâmetro:\n",
        "\n",
        "\n"
      ],
      "metadata": {
        "id": "iZQ_3YR1Zm2M"
      }
    },
    {
      "cell_type": "code",
      "source": [
        "def pi() -> float:\n",
        "  return 3.14159265359"
      ],
      "metadata": {
        "id": "2TyinBdzZzH-"
      },
      "execution_count": 45,
      "outputs": []
    },
    {
      "cell_type": "code",
      "source": [
        "pi=pi()\n",
        "print(pi)"
      ],
      "metadata": {
        "colab": {
          "base_uri": "https://localhost:8080/"
        },
        "id": "EX1lEIAFaD84",
        "outputId": "4dc8f92a-1c6b-4367-cd53-5a22b52d490f"
      },
      "execution_count": 46,
      "outputs": [
        {
          "output_type": "stream",
          "name": "stdout",
          "text": [
            "3.14159265359\n"
          ]
        }
      ]
    },
    {
      "cell_type": "code",
      "source": [
        "def imprime_pi() \n",
        "  print(3.14159265359)\n",
        "  return None"
      ],
      "metadata": {
        "id": "zXBeBJ4vaJsj"
      },
      "execution_count": null,
      "outputs": []
    },
    {
      "cell_type": "code",
      "source": [
        "imprime pi()"
      ],
      "metadata": {
        "id": "ceJw2XIMaZdT"
      },
      "execution_count": null,
      "outputs": []
    },
    {
      "cell_type": "markdown",
      "source": [
        "\n",
        "\n",
        "*   Função com parâmetro:\n",
        "\n",
        "\n"
      ],
      "metadata": {
        "id": "EAW_VKJ2acIe"
      }
    },
    {
      "cell_type": "code",
      "source": [
        "def escreve_arquivo_csv(nome: str, cabecalho: str, conteudos: list) -> bool:\n",
        "  try:\n",
        "    with open(file=nome, mode='w', encoding='utf8') as fp:\n",
        "      linha= cabecalho +'\\n'\n",
        "      fp.write(linha)\n",
        "      for conteudo in conteudos:\n",
        "        linha = str(conteudo) + '\\n'\n",
        "        fp.write(linha)\n",
        "  \n",
        "  except Exception as exc: \n",
        "\n",
        "    print(exc)\n",
        "    return False \n",
        "\n",
        "  return True "
      ],
      "metadata": {
        "id": "1C-DTcWmahW8"
      },
      "execution_count": 54,
      "outputs": []
    },
    {
      "cell_type": "code",
      "source": [
        "nome = 'idades-funcao-erro.csv'\n",
        "cabecalho = 'idade'\n",
        "conteudos = [30,33,35,30,59,35,36,39,41,43]\n",
        "\n",
        "\n",
        "escreveu_com_sucesso = escreve_arquivo_csv(nome=nome, cabecalho=cabecalho,conteudos=conteudos)\n",
        "\n",
        "print(escreveu_com_sucesso)\n"
      ],
      "metadata": {
        "colab": {
          "base_uri": "https://localhost:8080/"
        },
        "id": "vZcaVyrUcXWs",
        "outputId": "477d3646-157f-42ad-feb0-a3dfd388218d"
      },
      "execution_count": 56,
      "outputs": [
        {
          "output_type": "stream",
          "name": "stdout",
          "text": [
            "True\n"
          ]
        }
      ]
    },
    {
      "cell_type": "markdown",
      "source": [
        "# **3.4 Revisitando a motivação**"
      ],
      "metadata": {
        "id": "CjbiUetFdFbg"
      }
    },
    {
      "cell_type": "code",
      "source": [
        "def juros_compostos_anual(valor_inicial: float, taxa_juros_anual: float, anos: int) ->float:\n",
        "  valor_final = valor_inicial\n",
        "  for ano in range(1, anos+1):\n",
        "    valor_final = valor_final * (1 + taxa_juros_anual) \n",
        "    valoor_final = round(valor_final, 2)\n",
        "    print(\n",
        "       f'Para um valor inicial de R$ {valor_inicial} ' +\n",
        " 'e uma taxa de juros anual de {taxa_juros_anual}, ' +\n",
        " 'em {anos} anos você terá R$ {valor_final}'\n",
        "    )\n",
        "    return valor_final \n",
        "\n",
        "valor_inicial, taxa_juros_anual, anos = 1000.00, 0.05, 10\n",
        "valor_final = juros_compostos_anual(valor_inicial=valor_inicial,taxa_juros_anual=taxa_juros_anual, anos=anos)\n",
        "\n",
        "valor_inicial, taxa_juros_anual, anos = 1020.00, 0.03, 10 \n",
        "valor_final = juros_compostos_anual(valor_inicial=valor_inicial,taxa_juros_anual=taxa_juros_anual,anos= anos)"
      ],
      "metadata": {
        "colab": {
          "base_uri": "https://localhost:8080/"
        },
        "id": "J9MrNJZtdRYN",
        "outputId": "131b8365-2c5c-42ba-ace0-0f2e41304985"
      },
      "execution_count": 59,
      "outputs": [
        {
          "output_type": "stream",
          "name": "stdout",
          "text": [
            "Para um valor inicial de R$ 1000.0 e uma taxa de juros anual de {taxa_juros_anual}, em {anos} anos você terá R$ {valor_final}\n",
            "Para um valor inicial de R$ 1020.0 e uma taxa de juros anual de {taxa_juros_anual}, em {anos} anos você terá R$ {valor_final}\n"
          ]
        }
      ]
    },
    {
      "cell_type": "markdown",
      "source": [
        "# **4. Escopo**"
      ],
      "metadata": {
        "id": "qTw6YUVFgBeK"
      }
    },
    {
      "cell_type": "markdown",
      "source": [
        "# **4.1. Definição**"
      ],
      "metadata": {
        "id": "_KILhBBpgRaP"
      }
    },
    {
      "cell_type": "markdown",
      "source": [
        "Define o ciclo de vida de uma variável.\n",
        "\n",
        "\n",
        "\n",
        "*   Escopo de função.\n",
        "\n"
      ],
      "metadata": {
        "id": "sxiGftMjgYwB"
      }
    },
    {
      "cell_type": "code",
      "source": [
        "def soma_lista(numeros: list) -> int:\n",
        "  s = 0\n",
        "  for numero in numeros:\n",
        "    s = s + numero\n",
        "  return s "
      ],
      "metadata": {
        "id": "8yJQZlMIgiSZ"
      },
      "execution_count": 60,
      "outputs": []
    },
    {
      "cell_type": "code",
      "source": [
        "soma = soma_lista(numeros=[5] * 10)\n",
        "print(soma)"
      ],
      "metadata": {
        "colab": {
          "base_uri": "https://localhost:8080/"
        },
        "id": "HmvC2yyXg0G3",
        "outputId": "9e5be295-4290-4ac1-fa44-0106f4a8e69e"
      },
      "execution_count": 63,
      "outputs": [
        {
          "output_type": "stream",
          "name": "stdout",
          "text": [
            "50\n"
          ]
        }
      ]
    },
    {
      "cell_type": "code",
      "source": [
        "print(s)"
      ],
      "metadata": {
        "colab": {
          "base_uri": "https://localhost:8080/",
          "height": 165
        },
        "id": "0OMhfellg-16",
        "outputId": "98569625-4115-4039-a0ea-205fcfcb55ad"
      },
      "execution_count": 64,
      "outputs": [
        {
          "output_type": "error",
          "ename": "NameError",
          "evalue": "ignored",
          "traceback": [
            "\u001b[0;31m---------------------------------------------------------------------------\u001b[0m",
            "\u001b[0;31mNameError\u001b[0m                                 Traceback (most recent call last)",
            "\u001b[0;32m<ipython-input-64-0ff1b7208845>\u001b[0m in \u001b[0;36m<module>\u001b[0;34m()\u001b[0m\n\u001b[0;32m----> 1\u001b[0;31m \u001b[0mprint\u001b[0m\u001b[0;34m(\u001b[0m\u001b[0ms\u001b[0m\u001b[0;34m)\u001b[0m\u001b[0;34m\u001b[0m\u001b[0;34m\u001b[0m\u001b[0m\n\u001b[0m",
            "\u001b[0;31mNameError\u001b[0m: name 's' is not defined"
          ]
        }
      ]
    },
    {
      "cell_type": "markdown",
      "source": [
        "não encontrou a variável s porque ela foi definida dentro de uma função, ou seja, ela só existe enquanto a função for executada."
      ],
      "metadata": {
        "id": "y9SfNos2-Q58"
      }
    },
    {
      "cell_type": "markdown",
      "source": [
        "\n",
        "\n",
        "*   Escopo de estrutura condicional / repetição.\n",
        "\n",
        "\n"
      ],
      "metadata": {
        "id": "idJcZSulhEbU"
      }
    },
    {
      "cell_type": "code",
      "source": [
        "if True: \n",
        "  x = 100 \n",
        "else:\n",
        "  w = 50 \n",
        "\n",
        "print(x)"
      ],
      "metadata": {
        "colab": {
          "base_uri": "https://localhost:8080/"
        },
        "id": "8cS2TOebhMxh",
        "outputId": "19299461-9b10-4d61-9b64-0e90fddc9b7e"
      },
      "execution_count": 67,
      "outputs": [
        {
          "output_type": "stream",
          "name": "stdout",
          "text": [
            "100\n"
          ]
        }
      ]
    },
    {
      "cell_type": "markdown",
      "source": [
        "\n",
        "\n",
        "---\n",
        "\n"
      ],
      "metadata": {
        "id": "Z51X4WBuhcA3"
      }
    }
  ]
}