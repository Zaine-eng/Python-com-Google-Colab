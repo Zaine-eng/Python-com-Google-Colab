{
  "nbformat": 4,
  "nbformat_minor": 0,
  "metadata": {
    "colab": {
      "name": "Aula 01 - Python com Google Colab.ipynb",
      "provenance": [],
      "toc_visible": true,
      "authorship_tag": "ABX9TyMfkYqyZew/HEUzpxKF/K83",
      "include_colab_link": true
    },
    "kernelspec": {
      "name": "python3",
      "display_name": "Python 3"
    },
    "language_info": {
      "name": "python"
    }
  },
  "cells": [
    {
      "cell_type": "markdown",
      "metadata": {
        "id": "view-in-github",
        "colab_type": "text"
      },
      "source": [
        "<a href=\"https://colab.research.google.com/github/Zaine-eng/Python-com-Google-Colab-/blob/main/Aula_01_Python_com_Google_Colab.ipynb\" target=\"_parent\"><img src=\"https://colab.research.google.com/assets/colab-badge.svg\" alt=\"Open In Colab\"/></a>"
      ]
    },
    {
      "cell_type": "markdown",
      "source": [
        "# ***O uso básico da ferramenta google Colab 😁***"
      ],
      "metadata": {
        "id": "INtAfkuCGijC"
      }
    },
    {
      "cell_type": "markdown",
      "source": [
        "# **1. Uso da ferramenta Google Colab ✍**\n",
        "\n",
        "Esta ferramenta auxilia na criação de textos atrelados a uma linguagem de programação, como no nosso caso, utilizado para acompanhar a rotina do curso associado a linguagem python.\n",
        "\n",
        "Os elementos listados é o básico que você precisa saber sobre o  o google Colab: \n",
        "\n",
        "\n",
        "1.  **Índice**- acesso mais rápido a disposição dos seus elementos;\n",
        "2.   **Lupa** - procura um trecho de texto;\n",
        "3.   **Snippets de código** - pequenos trechos de códigos que google disponibiliza facilmente;\n",
        "4.  **Pasta de arquivos** - sistema de arquivos da máquina virtual. \n",
        "\n",
        "\n",
        "\n",
        "\n",
        "\n",
        "\n",
        "\n",
        "\n",
        "\n",
        "\n"
      ],
      "metadata": {
        "id": "k6BzokUmEcLi"
      }
    },
    {
      "cell_type": "markdown",
      "source": [
        "# **2. Primeiro programa na linguagem python ✍**\n",
        "\n",
        "O código abaixo refere-se a função conhecida como print, tendo como função imprimir algo na tela, como foi usada para texto será utilizado as aspas. "
      ],
      "metadata": {
        "id": "HtkojrENFkII"
      }
    },
    {
      "cell_type": "code",
      "source": [
        "print(\"Hello World!\")"
      ],
      "metadata": {
        "id": "86Hn9824FbUk"
      },
      "execution_count": null,
      "outputs": []
    },
    {
      "cell_type": "markdown",
      "source": [
        "Aula inicial concluida."
      ],
      "metadata": {
        "id": "vque9NZwfb2V"
      }
    }
  ]
}