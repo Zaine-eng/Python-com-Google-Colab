{
  "nbformat": 4,
  "nbformat_minor": 0,
  "metadata": {
    "colab": {
      "name": "Aula 02  - Variáveis no google colab.ipynb",
      "provenance": [],
      "authorship_tag": "ABX9TyPQ9q//CiSu2FC5vZ7vFumw",
      "include_colab_link": true
    },
    "kernelspec": {
      "name": "python3",
      "display_name": "Python 3"
    },
    "language_info": {
      "name": "python"
    }
  },
  "cells": [
    {
      "cell_type": "markdown",
      "metadata": {
        "id": "view-in-github",
        "colab_type": "text"
      },
      "source": [
        "<a href=\"https://colab.research.google.com/github/Zaine-eng/Python-com-Google-Colab-/blob/main/Aula_02_Vari%C3%A1veis_no_google_colab.ipynb\" target=\"_parent\"><img src=\"https://colab.research.google.com/assets/colab-badge.svg\" alt=\"Open In Colab\"/></a>"
      ]
    },
    {
      "cell_type": "markdown",
      "source": [
        "# **2. Variáveis 😍**\n"
      ],
      "metadata": {
        "id": "f9R03nR8qmJP"
      }
    },
    {
      "cell_type": "markdown",
      "source": [
        "2.1 **Definição**\n",
        "---\n",
        "\n"
      ],
      "metadata": {
        "id": "KFjy3Y9gq58_"
      }
    },
    {
      "cell_type": "markdown",
      "source": [
        "É entendido como um espaço na memória do seu computador atribuído a um dado, também como um elemento de uma fórmula, sendo que salvo em um pedaço de sua memória RAM."
      ],
      "metadata": {
        "id": "aK7Jfl3Nq_8C"
      }
    },
    {
      "cell_type": "markdown",
      "source": [
        "Que tal definimos a pessoa por trás dessa tela através de variáveis😊? \n",
        "\n",
        "Vamos começar:"
      ],
      "metadata": {
        "id": "FSGkgmJfuM1K"
      }
    },
    {
      "cell_type": "code",
      "source": [
        "nome = \"zaine\"\n",
        "idade = 26\n",
        "altura = 1,68\n",
        "idade_nova_agosto = 26+1\n",
        " \n",
        "print(nome)\n",
        "print(idade)\n",
        "print(altura)\n",
        "print(idade_nova_agosto)\n"
      ],
      "metadata": {
        "id": "fR7QNtsBt79X"
      },
      "execution_count": null,
      "outputs": []
    },
    {
      "cell_type": "markdown",
      "source": [
        "Notou que ali em cima já temos *tipos* diferentes de váriaveis, como texto e número, e é isto que vamos discutir a seguir, os chamados *tipos nativos*. 😍"
      ],
      "metadata": {
        "id": "PBUWfQ3Svte0"
      }
    },
    {
      "cell_type": "markdown",
      "source": [
        "# 2.2 Tipos nativos \n",
        "\n",
        "**Tipos númericos**: inteiros (int) e decimais (float):"
      ],
      "metadata": {
        "id": "hlabXMqWwysx"
      }
    },
    {
      "cell_type": "code",
      "source": [
        " preco_do_sofa = 1500\n",
        " tipo_preco = type(preco_do_sofa)\n",
        "\n",
        "print(preco_do_sofa)\n",
        "print(tipo_preco)\n",
        "\n",
        "juros = 0.026\n",
        "tipo_juros = type(juros)\n",
        "\n",
        "print(juros)\n",
        "print(tipo_juros)\n",
        "\n"
      ],
      "metadata": {
        "id": "xNou2wFC0GXA"
      },
      "execution_count": null,
      "outputs": []
    },
    {
      "cell_type": "markdown",
      "source": [
        "**Função type**⚡: olha para a variável e define o tipo de dado que estamos armazenando. "
      ],
      "metadata": {
        "id": "Ll-fV8Fq9SR2"
      }
    },
    {
      "cell_type": "markdown",
      "source": [
        "**Tipos de texto**: strings (str):"
      ],
      "metadata": {
        "id": "bdtskk-F9duJ"
      }
    },
    {
      "cell_type": "code",
      "source": [
        "meu_nome = \"zaine\"\n",
        "\n",
        "print(meu_nome)\n",
        "print(type(meu_nome))\n",
        "\n",
        "pais = 'Brasil'\n",
        "\n",
        "print(pais)\n",
        "print(type(pais))\n"
      ],
      "metadata": {
        "id": "AQZn0kjT-uum"
      },
      "execution_count": null,
      "outputs": []
    },
    {
      "cell_type": "markdown",
      "source": [
        "**Tipos lógicos**: booleanos (bool ):\n"
      ],
      "metadata": {
        "id": "MpUNYPOp_r4M"
      }
    },
    {
      "cell_type": "code",
      "source": [
        "usuario_maior_de_idade = False \n",
        "\n",
        "print(usuario_maior_de_idade)\n",
        "print(type(usuario_maior_de_idade))\n"
      ],
      "metadata": {
        "colab": {
          "base_uri": "https://localhost:8080/"
        },
        "id": "6ETui3mr_5vH",
        "outputId": "e370d285-f364-48f6-a4d1-58332fc948ca"
      },
      "execution_count": 18,
      "outputs": [
        {
          "output_type": "stream",
          "name": "stdout",
          "text": [
            "False\n",
            "<class 'bool'>\n"
          ]
        }
      ]
    },
    {
      "cell_type": "markdown",
      "source": [
        "**Tipo vazio** (NoneType ):"
      ],
      "metadata": {
        "id": "xDtv6By3BrYE"
      }
    },
    {
      "cell_type": "code",
      "source": [
        "\n",
        " telefone_fixo = None\n",
        "\n",
        " print(telefone_fixo)\n",
        " print(type(telefone_fixo))\n",
        " "
      ],
      "metadata": {
        "id": "3_wd2oLsCXJ0"
      },
      "execution_count": null,
      "outputs": []
    },
    {
      "cell_type": "markdown",
      "source": [
        "Aqui concluimos o básico de váriaveis. 💯"
      ],
      "metadata": {
        "id": "tQTkNaTfCzqH"
      }
    }
  ]
}