{
  "nbformat": 4,
  "nbformat_minor": 0,
  "metadata": {
    "colab": {
      "name": "Aula_03_Números_Strings.ipynb",
      "provenance": [],
      "toc_visible": true,
      "authorship_tag": "ABX9TyOqatZ7k59eQ/rg5w0iZcBW",
      "include_colab_link": true
    },
    "kernelspec": {
      "name": "python3",
      "display_name": "Python 3"
    },
    "language_info": {
      "name": "python"
    }
  },
  "cells": [
    {
      "cell_type": "markdown",
      "metadata": {
        "id": "view-in-github",
        "colab_type": "text"
      },
      "source": [
        "<a href=\"https://colab.research.google.com/github/Zaine-eng/Python-para-an-lise-de-dados/blob/main/Aula_03_N%C3%BAmeros_e_Strings.ipynb\" target=\"_parent\"><img src=\"https://colab.research.google.com/assets/colab-badge.svg\" alt=\"Open In Colab\"/></a>"
      ]
    },
    {
      "cell_type": "markdown",
      "source": [
        "# **3. Números**"
      ],
      "metadata": {
        "id": "vKugCzkhcPO8"
      }
    },
    {
      "cell_type": "markdown",
      "source": [
        "# **3.1. Problema envolvendo ticket médio**\n",
        "\n"
      ],
      "metadata": {
        "id": "yEpqVPexcgoR"
      }
    },
    {
      "cell_type": "markdown",
      "source": [
        "Você precisa calcular o **ticket médio** diário tkt do seu restaurante. A métrica é calculada pela soma do valor das vendas svv de um mesmo dia dividido pela quantidade de vendas sqv, também de um mesmo dia. "
      ],
      "metadata": {
        "id": "oTmNTTVYc36m"
      }
    },
    {
      "cell_type": "markdown",
      "source": [
        "Esta é a planilha: \n",
        "\n",
        "\n"
      ],
      "metadata": {
        "id": "t0z4yB2AdebC"
      }
    },
    {
      "cell_type": "markdown",
      "source": [
        "![image.png](data:image/png;base64,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)"
      ],
      "metadata": {
        "id": "mZMeAczzfRrL"
      }
    },
    {
      "cell_type": "markdown",
      "source": [
        "Como podemos resolver esse problema de cálculo usando o Python? "
      ],
      "metadata": {
        "id": "4NZbNz17fT_g"
      }
    },
    {
      "cell_type": "markdown",
      "source": [
        "# **3.2. Definição**"
      ],
      "metadata": {
        "id": "d9Nmkn9efqB8"
      }
    },
    {
      "cell_type": "markdown",
      "source": [
        "Armazenam **valores némericos:**\n",
        "\n",
        "\n",
        "\n",
        "*   10, 37, 500 (inteiros);\n",
        "*   0.333, 10.1 (decimais);\n",
        "*   1+ 2j (complexos);\n",
        "\n",
        "São tipos:\n",
        "\n",
        "*   int (inteiros);\n",
        "*   float (decimais);\n",
        "*   complex (complexos);\n",
        "\n",
        "\n",
        "\n",
        "\n",
        "   \n",
        "\n"
      ],
      "metadata": {
        "id": "TXkUv9Ktf0FW"
      }
    },
    {
      "cell_type": "code",
      "source": [
        "print(type(37))\n",
        "print(type(10.1))\n",
        "print(type( 1 + 2j))"
      ],
      "metadata": {
        "colab": {
          "base_uri": "https://localhost:8080/"
        },
        "id": "CKKzjBe7gmwt",
        "outputId": "2be0b387-300e-4a48-ed70-6f4cd2ec7c58"
      },
      "execution_count": 24,
      "outputs": [
        {
          "output_type": "stream",
          "name": "stdout",
          "text": [
            "<class 'int'>\n",
            "<class 'float'>\n",
            "<class 'complex'>\n"
          ]
        }
      ]
    },
    {
      "cell_type": "markdown",
      "source": [
        "# **3.3. Operações**\n"
      ],
      "metadata": {
        "id": "ojEK4Tv2g544"
      }
    },
    {
      "cell_type": "markdown",
      "source": [
        "As operações dos tipos numéricos são as quatro operações matemátias fundamentais:\n",
        "\n",
        "\n",
        "\n",
        "*   '+ (soma); \n",
        "* '- (subtração);\n",
        "*  '* (multiplicação);\n",
        "* '/ (divisão). \n",
        "\n",
        "Além de operações mais avançadas: \n",
        "\n",
        "\n",
        "\n",
        "*   // (divisão inteira);\n",
        "*   ** (potência ou exponenciação);\n",
        "*   % (resto de divisão).\n",
        "\n",
        "\n",
        "\n"
      ],
      "metadata": {
        "id": "AFIhcEEOhAs5"
      }
    },
    {
      "cell_type": "markdown",
      "source": [
        "**EX: Carrinho de compra de um e-commerce** "
      ],
      "metadata": {
        "id": "lvGJIzwbiLTI"
      }
    },
    {
      "cell_type": "code",
      "source": [
        "qtd_itens_carrinho_compra = 0\n",
        "\n",
        "qtd_itens_carrinho_compra = qtd_itens_carrinho_compra + 1 \n",
        "print(qtd_itens_carrinho_compra)\n",
        "\n",
        "qtd_itens_carrinho_compra = qtd_itens_carrinho_compra - 1 \n",
        "print(qtd_itens_carrinho_compra)\n"
      ],
      "metadata": {
        "colab": {
          "base_uri": "https://localhost:8080/"
        },
        "id": "EKFzKiPEiiJd",
        "outputId": "a65c2c4b-f028-46b4-ef25-cdc84ff44921"
      },
      "execution_count": 3,
      "outputs": [
        {
          "output_type": "stream",
          "name": "stdout",
          "text": [
            "1\n",
            "0\n"
          ]
        }
      ]
    },
    {
      "cell_type": "markdown",
      "source": [
        "Você pode utilizar o '+=' para que o seu código ficar mais enxuto, ou seja, você está adicionando e atribuindo um valor da mesma maneira, sempre trabalhando com uma mesma variável.  "
      ],
      "metadata": {
        "id": "sAqTTWZ2jYDZ"
      }
    },
    {
      "cell_type": "code",
      "source": [
        "qtd_itens_carrinho_compra = 0\n",
        "\n",
        "qtd_itens_carrinho_compra += 1 \n",
        "print(qtd_itens_carrinho_compra)\n",
        "\n",
        "qtd_itens_carrinho_compra -= 1 \n",
        "print(qtd_itens_carrinho_compra)"
      ],
      "metadata": {
        "colab": {
          "base_uri": "https://localhost:8080/"
        },
        "id": "AxHNmh-ejGvP",
        "outputId": "2144d307-4d41-4257-f7c2-c690eeb9e28e"
      },
      "execution_count": 6,
      "outputs": [
        {
          "output_type": "stream",
          "name": "stdout",
          "text": [
            "1\n",
            "0\n"
          ]
        }
      ]
    },
    {
      "cell_type": "markdown",
      "source": [
        "**Exemplo**: Total a pagar de um produto."
      ],
      "metadata": {
        "id": "a_nkgvX4iZbW"
      }
    },
    {
      "cell_type": "code",
      "source": [
        "preco = 47\n",
        "quantidade = 0.250\n",
        "\n",
        "total_a_pagar = quantidade * preco\n",
        "print(total_a_pagar)"
      ],
      "metadata": {
        "colab": {
          "base_uri": "https://localhost:8080/"
        },
        "id": "L5ZIdiVSkPuw",
        "outputId": "9985d786-2563-40dc-b032-80e1552190cc"
      },
      "execution_count": 20,
      "outputs": [
        {
          "output_type": "stream",
          "name": "stdout",
          "text": [
            "11.75\n"
          ]
        }
      ]
    },
    {
      "cell_type": "markdown",
      "source": [
        "Abaixo temos um exemplo de como obter uma informação númerica com uma divisão inteira e outra decimal."
      ],
      "metadata": {
        "id": "q2EoOuron4wu"
      }
    },
    {
      "cell_type": "code",
      "source": [
        "a = 3\n",
        "b = 2 \n",
        "c= a /b\n",
        "d= a//b \n",
        "\n",
        "print(c)\n",
        "print(type(c))\n",
        "print(d)\n",
        "print(type(d))"
      ],
      "metadata": {
        "id": "iey0d1MBlHM4"
      },
      "execution_count": null,
      "outputs": []
    },
    {
      "cell_type": "markdown",
      "source": [
        "# **3.4. Conversão**"
      ],
      "metadata": {
        "id": "odgKGcewoPm1"
      }
    },
    {
      "cell_type": "markdown",
      "source": [
        "Podemos converter os tipor númericos entre si utilizando o método nativo int, float e complex:"
      ],
      "metadata": {
        "id": "IHoF2aFzoZ-3"
      }
    },
    {
      "cell_type": "code",
      "source": [
        " print(int(3.9))\n",
        "\n",
        " print(float(10))\n",
        "\n",
        " print(complex(1))\n",
        "\n"
      ],
      "metadata": {
        "colab": {
          "base_uri": "https://localhost:8080/"
        },
        "id": "5FEL-f_Iom5q",
        "outputId": "7c3db17d-c458-4577-efd3-6f80f4393826"
      },
      "execution_count": 19,
      "outputs": [
        {
          "output_type": "stream",
          "name": "stdout",
          "text": [
            "3\n",
            "10.0\n",
            "(1+0j)\n"
          ]
        }
      ]
    },
    {
      "cell_type": "markdown",
      "source": [
        "# **3.5. Resolvendo o problema de ticket médio acima temos:**"
      ],
      "metadata": {
        "id": "mSXeFw_GpEWF"
      }
    },
    {
      "cell_type": "markdown",
      "source": [
        "Para o dia 19/01."
      ],
      "metadata": {
        "id": "hrYcxKAapdwE"
      }
    },
    {
      "cell_type": "code",
      "source": [
        "svv_19 = 153.98\n",
        "sqv_19 = 3 \n",
        "\n",
        "tckt_19 = svv_19 / sqv_19\n",
        "print(tckt_19)"
      ],
      "metadata": {
        "colab": {
          "base_uri": "https://localhost:8080/"
        },
        "id": "zdnGdIR4paYc",
        "outputId": "c57261cf-51b1-44bb-def7-b3d23336db0f"
      },
      "execution_count": 15,
      "outputs": [
        {
          "output_type": "stream",
          "name": "stdout",
          "text": [
            "51.32666666666666\n"
          ]
        }
      ]
    },
    {
      "cell_type": "markdown",
      "source": [
        "Para o dia 20/01."
      ],
      "metadata": {
        "id": "ycomeVEDp-8c"
      }
    },
    {
      "cell_type": "code",
      "source": [
        "svv_20 = 337.81\n",
        "sqv_20 = 7\n",
        "\n",
        "tckt_20 = svv_20 / sqv_20\n",
        "print(tckt_20)"
      ],
      "metadata": {
        "colab": {
          "base_uri": "https://localhost:8080/"
        },
        "id": "2vdNSLjyqAvn",
        "outputId": "e522dcd8-dd4c-4f66-a654-a73b4be06795"
      },
      "execution_count": 17,
      "outputs": [
        {
          "output_type": "stream",
          "name": "stdout",
          "text": [
            "48.25857142857143\n"
          ]
        }
      ]
    },
    {
      "cell_type": "markdown",
      "source": [
        "Para o dia 23/01."
      ],
      "metadata": {
        "id": "_Ulx9m2Dqt0E"
      }
    },
    {
      "cell_type": "code",
      "source": [
        "svv_23 = 295.33\n",
        "sqv_23 = 5\n",
        "\n",
        "tckt_23 = svv_23 / sqv_23\n",
        "print(tckt_23)"
      ],
      "metadata": {
        "colab": {
          "base_uri": "https://localhost:8080/"
        },
        "id": "EtXkGn9NqvxB",
        "outputId": "b0f204e9-5154-4b8b-adb4-b7ba72b0c91c"
      },
      "execution_count": 18,
      "outputs": [
        {
          "output_type": "stream",
          "name": "stdout",
          "text": [
            "59.065999999999995\n"
          ]
        }
      ]
    },
    {
      "cell_type": "markdown",
      "source": [
        "O ticket médio é dado por: "
      ],
      "metadata": {
        "id": "spTFKmaErTPF"
      }
    },
    {
      "cell_type": "code",
      "source": [
        "tkt = (tckt_19 + tckt_23 + tckt_20) / 3\n",
        "print(tkt)"
      ],
      "metadata": {
        "colab": {
          "base_uri": "https://localhost:8080/"
        },
        "id": "H1dj7gnDrSir",
        "outputId": "610cd153-a0b7-4e56-8049-f189ba8ae74d"
      },
      "execution_count": 23,
      "outputs": [
        {
          "output_type": "stream",
          "name": "stdout",
          "text": [
            "52.88374603174603\n"
          ]
        }
      ]
    },
    {
      "cell_type": "markdown",
      "source": [
        "O valor de 52.88 corresponde a média do cliente ao consumir algo no restaurante analisado."
      ],
      "metadata": {
        "id": "JOBIROL8r-pl"
      }
    },
    {
      "cell_type": "markdown",
      "source": [
        "# **4. Strings**"
      ],
      "metadata": {
        "id": "U963h9r-sOcg"
      }
    },
    {
      "cell_type": "markdown",
      "source": [
        "# **4.1. Problema de longitude e latitude**"
      ],
      "metadata": {
        "id": "lEOOOIHkse4V"
      }
    },
    {
      "cell_type": "markdown",
      "source": [
        "A empresa que você trabalha adquiriu uma startup de logistica. Você precisa identificar todos endereços que são comum a ambas. Na sua empresa, você armazena a latitude e longitude dos endereços em duas variáveis *lat* e *lon*, já na startup adquirida em uma única varável *latlon*. "
      ],
      "metadata": {
        "id": "JWqC5arks842"
      }
    },
    {
      "cell_type": "code",
      "source": [
        "# sua empresa \n",
        "\n",
        "lat = '=22.005320'\n",
        "lon = '-47.891040'\n",
        "\n",
        "# startup adquirida \n",
        "\n",
        "latlon = '-22.005320; -47.891040'"
      ],
      "metadata": {
        "id": "6hfZIHNxtk5L"
      },
      "execution_count": 31,
      "outputs": []
    },
    {
      "cell_type": "markdown",
      "source": [
        "Como podemos normalizar a forma com que as latitudes e longitudes são armazenadas para que possam ser comparadas? \n"
      ],
      "metadata": {
        "id": "Xg7DIkIw9sej"
      }
    },
    {
      "cell_type": "markdown",
      "source": [
        "# **4.2. Definição**\n",
        "\n",
        "Armazenam **textos:**\n",
        "\n",
        "*   Z, **DZainer**, Zaine Vasconcelos, 26 anos (texto)\n",
        "\n",
        "São tipos de str:\n",
        "\n",
        "\n",
        "\n"
      ],
      "metadata": {
        "id": "FL64Ca-q9-Ll"
      }
    },
    {
      "cell_type": "code",
      "source": [
        "nome_aula = \"Aula 04, módulo 01, Strings\"\n",
        "\n",
        "print(nome_aula)\n",
        "print(type(nome_aula))"
      ],
      "metadata": {
        "id": "p90jmdUy-8v4"
      },
      "execution_count": null,
      "outputs": []
    },
    {
      "cell_type": "code",
      "source": [
        "string_vazia = \" \"\n",
        "\n",
        "print(string_vazia)\n",
        "print(type(string_vazia))"
      ],
      "metadata": {
        "colab": {
          "base_uri": "https://localhost:8080/"
        },
        "id": "E7zQ-eJg_Ope",
        "outputId": "bf814163-f3fe-4636-ed28-b6eaaa5d175e"
      },
      "execution_count": 26,
      "outputs": [
        {
          "output_type": "stream",
          "name": "stdout",
          "text": [
            " \n",
            "<class 'str'>\n"
          ]
        }
      ]
    },
    {
      "cell_type": "markdown",
      "source": [
        "# **4.3. Operações**"
      ],
      "metadata": {
        "id": "MoBAlvKV_1aA"
      }
    },
    {
      "cell_type": "markdown",
      "source": [
        "As operações de variáveis do tipo string são: \n",
        "\n",
        "*   +(concatenação).\n",
        "\n",
        "\n",
        "\n"
      ],
      "metadata": {
        "id": "fmvn7lWgAPid"
      }
    },
    {
      "cell_type": "markdown",
      "source": [
        "**Exemplo**: Nome Completo "
      ],
      "metadata": {
        "id": "tPqJ5nTWAyq-"
      }
    },
    {
      "cell_type": "code",
      "source": [
        "nome = 'Zaine'\n",
        "sobrenome = 'Vasconcelos'\n",
        "\n",
        "apresentacao = 'Olá, meu nome é ' + nome + ' ' + sobrenome + '.'\n",
        "print(apresentacao)\n"
      ],
      "metadata": {
        "colab": {
          "base_uri": "https://localhost:8080/"
        },
        "id": "Vd_xh0rsA5Dr",
        "outputId": "168dd290-3be0-42f1-d49d-b4144d2bd9bc"
      },
      "execution_count": 28,
      "outputs": [
        {
          "output_type": "stream",
          "name": "stdout",
          "text": [
            "Olá, meu nome é Zaine Vasconcelos.\n"
          ]
        }
      ]
    },
    {
      "cell_type": "markdown",
      "source": [
        "Uma outra forma de concatenar strings é utilizar operações de formatação: "
      ],
      "metadata": {
        "id": "fwMSmoS2BnhN"
      }
    },
    {
      "cell_type": "code",
      "source": [
        "nome = 'Zaine'\n",
        "sobrenome = 'Vasconcelos'\n",
        "\n",
        "apresentacao = f'Olá, meu nome é  {nome} {sobrenome}.'\n",
        "print(apresentacao)\n"
      ],
      "metadata": {
        "colab": {
          "base_uri": "https://localhost:8080/"
        },
        "id": "vtuwpzbPB3_X",
        "outputId": "8b349d63-a077-4e86-87ef-efc48fa3fe00"
      },
      "execution_count": 30,
      "outputs": [
        {
          "output_type": "stream",
          "name": "stdout",
          "text": [
            "Olá, meu nome é  Zaine Vasconcelos.\n"
          ]
        }
      ]
    },
    {
      "cell_type": "markdown",
      "source": [
        "Outra operação muito utilizada é a de fatiamento (slicing): \n"
      ],
      "metadata": {
        "id": "iPXpB-ZtCMfL"
      }
    },
    {
      "cell_type": "markdown",
      "source": [
        "**Exemplo**: Informações de e-mail."
      ],
      "metadata": {
        "id": "fCzaILflCVIr"
      }
    },
    {
      "cell_type": "code",
      "source": [
        "email = 'zaine.vasconcelos@gmail.com'"
      ],
      "metadata": {
        "id": "NlaHhiXdCdaH"
      },
      "execution_count": 4,
      "outputs": []
    },
    {
      "cell_type": "markdown",
      "source": [
        "Fatiamento fixo: "
      ],
      "metadata": {
        "id": "i_F8_hIMDXQd"
      }
    },
    {
      "cell_type": "code",
      "source": [
        "print('0:' + email[0])\n",
        "print('11:' + email[11])"
      ],
      "metadata": {
        "colab": {
          "base_uri": "https://localhost:8080/"
        },
        "id": "Xew_m3eaDWKc",
        "outputId": "fa9f57d7-567e-472a-cb03-9cc9a80cc8f4"
      },
      "execution_count": 7,
      "outputs": [
        {
          "output_type": "stream",
          "name": "stdout",
          "text": [
            "0:z\n",
            "11:n\n"
          ]
        }
      ]
    },
    {
      "cell_type": "markdown",
      "source": [
        "Quando utilizamos valores negativos estamos apontando para os valores ou caracteres de trás para frente, assim: \n"
      ],
      "metadata": {
        "id": "TF7YP18HCu-Y"
      }
    },
    {
      "cell_type": "code",
      "source": [
        "print('-2:' + email[-2])\n",
        "print('-6:' + email[-6])"
      ],
      "metadata": {
        "colab": {
          "base_uri": "https://localhost:8080/"
        },
        "id": "t-IUJoQAGCbP",
        "outputId": "1064f80b-672a-4b7c-d486-7e46f297d6e6"
      },
      "execution_count": 8,
      "outputs": [
        {
          "output_type": "stream",
          "name": "stdout",
          "text": [
            "-2:o\n",
            "-6:i\n"
          ]
        }
      ]
    },
    {
      "cell_type": "markdown",
      "source": [
        "Fatiamento por intervalo: \n",
        "\n",
        "Lembre-se no fatiamento por intervalo a gente não pega o último caracter do fim, é sempre ele -1, ou seja, 'n-1'."
      ],
      "metadata": {
        "id": "TnRWZWcDGPqC"
      }
    },
    {
      "cell_type": "code",
      "source": [
        "email_usuario = email [0:17]\n",
        "print(email_usuario)"
      ],
      "metadata": {
        "colab": {
          "base_uri": "https://localhost:8080/"
        },
        "id": "aNEd_pL9GUac",
        "outputId": "c9fa5715-c11f-4e01-cd81-434c6605f373"
      },
      "execution_count": 21,
      "outputs": [
        {
          "output_type": "stream",
          "name": "stdout",
          "text": [
            "zaine.vasconcelos\n"
          ]
        }
      ]
    },
    {
      "cell_type": "code",
      "source": [
        "email_provedor = email [17:28]\n",
        "print(email_provedor)"
      ],
      "metadata": {
        "colab": {
          "base_uri": "https://localhost:8080/"
        },
        "id": "wnvssP0pG9ex",
        "outputId": "c9957af5-f081-4699-d73b-a7c9a2bed604"
      },
      "execution_count": 17,
      "outputs": [
        {
          "output_type": "stream",
          "name": "stdout",
          "text": [
            "@gmail.com\n"
          ]
        }
      ]
    },
    {
      "cell_type": "markdown",
      "source": [
        "# **4.4. Métodos**\n"
      ],
      "metadata": {
        "id": "bR2yefNoHurk"
      }
    },
    {
      "cell_type": "markdown",
      "source": [
        "São métodos nativos do Python que nos ajudam a trabalhar no dia a dia com strings:"
      ],
      "metadata": {
        "id": "6x96X__8H2gi"
      }
    },
    {
      "cell_type": "code",
      "source": [
        "endereco = 'Rua Est thiago, 500, João Pessoa, Paraíba, Brasil.'"
      ],
      "metadata": {
        "id": "okLdpfdRH1sa"
      },
      "execution_count": 22,
      "outputs": []
    },
    {
      "cell_type": "code",
      "source": [
        "# maiusculo: string.upper()\n",
        "print(endereco.upper())"
      ],
      "metadata": {
        "colab": {
          "base_uri": "https://localhost:8080/"
        },
        "id": "w45WuC-2IZoG",
        "outputId": "46670a71-4976-4d8c-8d0b-31506a8d8b60"
      },
      "execution_count": 23,
      "outputs": [
        {
          "output_type": "stream",
          "name": "stdout",
          "text": [
            "RUA EST THIAGO, 500, JOÃO PESSOA, PARAÍBA, BRASIL.\n"
          ]
        }
      ]
    },
    {
      "cell_type": "code",
      "source": [
        "# posicao: string.find(substring)\n",
        "posicao = endereco.find('Brasil')\n",
        "print(posicao)"
      ],
      "metadata": {
        "colab": {
          "base_uri": "https://localhost:8080/"
        },
        "id": "WRK-b96iIsOS",
        "outputId": "764fed2c-bcd3-47ae-87ac-074e164d0bbd"
      },
      "execution_count": 25,
      "outputs": [
        {
          "output_type": "stream",
          "name": "stdout",
          "text": [
            "43\n"
          ]
        }
      ]
    },
    {
      "cell_type": "code",
      "source": [
        "# substituição: string.replace(antigo, novo)\n",
        "print(endereco.replace('Est', 'Estudante'))"
      ],
      "metadata": {
        "colab": {
          "base_uri": "https://localhost:8080/"
        },
        "id": "IfXJDNmTJOQF",
        "outputId": "3f9d46c4-f9e8-4b97-9dce-a0c2d10b4e73"
      },
      "execution_count": 27,
      "outputs": [
        {
          "output_type": "stream",
          "name": "stdout",
          "text": [
            "Rua Estudante thiago, 500, João Pessoa, Paraíba, Brasil.\n"
          ]
        }
      ]
    },
    {
      "cell_type": "markdown",
      "source": [
        "# **4.5. Conversão**"
      ],
      "metadata": {
        "id": "mcGme5JEJMQS"
      }
    },
    {
      "cell_type": "markdown",
      "source": [
        "Podemos converter *strings* em tipos numéricos e vice-versa."
      ],
      "metadata": {
        "id": "ftUtPHzQKZJ7"
      }
    },
    {
      "cell_type": "code",
      "source": [
        "idade = 26\n",
        "print(type(idade))\n",
        "\n",
        "idade = str (idade)\n",
        "print(type(idade))"
      ],
      "metadata": {
        "colab": {
          "base_uri": "https://localhost:8080/"
        },
        "id": "OP4qNDdfKju5",
        "outputId": "cfe03178-e36d-4821-c14b-6a196b118553"
      },
      "execution_count": 28,
      "outputs": [
        {
          "output_type": "stream",
          "name": "stdout",
          "text": [
            "<class 'int'>\n",
            "<class 'str'>\n"
          ]
        }
      ]
    },
    {
      "cell_type": "code",
      "source": [
        "faturamento = 'R$ 80mi'\n",
        "print(faturamento)\n",
        "print(type(idade))\n",
        "\n",
        "faturamento = int(faturamento[3:5])\n",
        "print(faturamento)\n",
        "print(type(faturamento))"
      ],
      "metadata": {
        "colab": {
          "base_uri": "https://localhost:8080/"
        },
        "id": "FJ5ext93K_hv",
        "outputId": "4fec5012-ff45-46c0-d15c-42d21a15e03e"
      },
      "execution_count": 29,
      "outputs": [
        {
          "output_type": "stream",
          "name": "stdout",
          "text": [
            "R$ 80mi\n",
            "<class 'str'>\n",
            "80\n",
            "<class 'int'>\n"
          ]
        }
      ]
    },
    {
      "cell_type": "markdown",
      "source": [
        "##**4.6. Resolvendo nosso problema incial de latitude e longitude**\n"
      ],
      "metadata": {
        "id": "MizFDjLVMRDJ"
      }
    },
    {
      "cell_type": "markdown",
      "source": [
        "Encontrando a posição do caracter ; de divisão das strings de latitude e longitude da variável da startup: \n"
      ],
      "metadata": {
        "id": "MYZnljtYKWUt"
      }
    },
    {
      "cell_type": "code",
      "source": [
        "posicao_char_divisao = latlon.find(';')\n",
        "print(posicao_char_divisao)"
      ],
      "metadata": {
        "colab": {
          "base_uri": "https://localhost:8080/"
        },
        "id": "SDGQxGjkND82",
        "outputId": "cb5b5b7e-5680-49f6-d2cf-19fe14a3cf9f"
      },
      "execution_count": 32,
      "outputs": [
        {
          "output_type": "stream",
          "name": "stdout",
          "text": [
            "10\n"
          ]
        }
      ]
    },
    {
      "cell_type": "markdown",
      "source": [
        "Extraindo a latitude: "
      ],
      "metadata": {
        "id": "3Q2MI0dQN5kA"
      }
    },
    {
      "cell_type": "code",
      "source": [
        "lat_startup = latlon[0:posicao_char_divisao]\n",
        "print(lat_startup)"
      ],
      "metadata": {
        "colab": {
          "base_uri": "https://localhost:8080/"
        },
        "id": "jAh6ilw6OARV",
        "outputId": "6ffef8c4-4d1a-4bc2-cfe9-9f1a5e9cd2b7"
      },
      "execution_count": 34,
      "outputs": [
        {
          "output_type": "stream",
          "name": "stdout",
          "text": [
            "-22.005320\n"
          ]
        }
      ]
    },
    {
      "cell_type": "markdown",
      "source": [
        "Extraindo a longitude:"
      ],
      "metadata": {
        "id": "pHItbko-OW19"
      }
    },
    {
      "cell_type": "code",
      "source": [
        "lon_startup = latlon[posicao_char_divisao+1:len(latlon)]\n",
        "print(lon_startup)"
      ],
      "metadata": {
        "colab": {
          "base_uri": "https://localhost:8080/"
        },
        "id": "vcv5V6qsOVjb",
        "outputId": "57343014-c84a-4060-911c-1288195b5e5f"
      },
      "execution_count": 36,
      "outputs": [
        {
          "output_type": "stream",
          "name": "stdout",
          "text": [
            " -47.891040\n"
          ]
        }
      ]
    },
    {
      "cell_type": "markdown",
      "source": [
        "Fim da Aula_03 ⚡ ✅\n",
        "\n",
        "---\n",
        "\n"
      ],
      "metadata": {
        "id": "k7hEmIX4PiMz"
      }
    }
  ]
}