{
  "nbformat": 4,
  "nbformat_minor": 0,
  "metadata": {
    "colab": {
      "name": "Python_Exercícios_Funções_parte01.ipynb",
      "provenance": [],
      "authorship_tag": "ABX9TyOdeNXCm3lXt/9xENie460i",
      "include_colab_link": true
    },
    "kernelspec": {
      "name": "python3",
      "display_name": "Python 3"
    },
    "language_info": {
      "name": "python"
    }
  },
  "cells": [
    {
      "cell_type": "markdown",
      "metadata": {
        "id": "view-in-github",
        "colab_type": "text"
      },
      "source": [
        "<a href=\"https://colab.research.google.com/github/Zaine-eng/Python-com-Google-Colab/blob/main/Python_Exerc%C3%ADcios_Fun%C3%A7%C3%B5es_parte01.ipynb\" target=\"_parent\"><img src=\"https://colab.research.google.com/assets/colab-badge.svg\" alt=\"Open In Colab\"/></a>"
      ]
    },
    {
      "cell_type": "markdown",
      "source": [
        "# **Exercícios de funções - Python Brasil 🌺**"
      ],
      "metadata": {
        "id": "oLOzS45CNIOW"
      }
    },
    {
      "cell_type": "markdown",
      "source": [
        "![image.png](data:image/png;base64,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)"
      ],
      "metadata": {
        "id": "w7DsNcZINn0O"
      }
    },
    {
      "cell_type": "code",
      "execution_count": 40,
      "metadata": {
        "id": "A8ubLRuLNGST"
      },
      "outputs": [],
      "source": [
        "def ex1(n):\n",
        "     for cont in range(1, n+1): \n",
        "          contador = 1\n",
        "          while True:\n",
        "            print(cont, end =' ')\n",
        "            if contador == cont:\n",
        "                break \n",
        "            contador +=1 \n",
        "          print()\n",
        "       \n",
        "\n"
      ]
    },
    {
      "cell_type": "code",
      "source": [
        "n = int(input('Digite um número: '))\n",
        "ex1(n)"
      ],
      "metadata": {
        "colab": {
          "base_uri": "https://localhost:8080/"
        },
        "id": "X7MspM8AQvAp",
        "outputId": "2e329025-b562-4ca8-afba-5a75e2e1ec1d"
      },
      "execution_count": 41,
      "outputs": [
        {
          "output_type": "stream",
          "name": "stdout",
          "text": [
            "Digite um número: 5\n",
            "1 \n",
            "2 2 \n",
            "3 3 3 \n",
            "4 4 4 4 \n",
            "5 5 5 5 5 \n"
          ]
        }
      ]
    },
    {
      "cell_type": "markdown",
      "source": [
        "![image.png](data:image/png;base64,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)"
      ],
      "metadata": {
        "id": "1eWklm1NX_Qe"
      }
    },
    {
      "cell_type": "code",
      "source": [
        "def soma(x= int, y= int, z=int):\n",
        "  soma = x+y+z\n",
        "  return soma\n",
        "\n",
        "print('DIGITE 3 NÚMEROS:')\n",
        "x = int(input('Primeiro número: '))\n",
        "y = int(input('Primeiro número: '))\n",
        "z = int(input('Primeiro número: '))\n",
        "print(('soma = '), soma(x,y,z))"
      ],
      "metadata": {
        "colab": {
          "base_uri": "https://localhost:8080/"
        },
        "id": "ZMOYQaeLYwLo",
        "outputId": "df8d6776-f08a-4ba3-ffa3-2add54215007"
      },
      "execution_count": 36,
      "outputs": [
        {
          "output_type": "stream",
          "name": "stdout",
          "text": [
            "DIGITE 3 NÚMEROS:\n",
            "Primeiro número: 1\n",
            "Primeiro número: 8\n",
            "Primeiro número: 9\n",
            "soma =  18\n"
          ]
        }
      ]
    },
    {
      "cell_type": "code",
      "source": [
        "def numero(n):\n",
        "  if n > 0:\n",
        "    print('Positivo')\n",
        "  elif n == 0:\n",
        "    print('Nulo')\n",
        "  else:\n",
        "    print('Negativo')\n",
        "print('O VALOR É POSITIVO OU NEGATIVO ?')\n",
        "n = (int(input('digite um número: ')))\n",
        "print('Este número é', end = ' ')\n",
        "numero(n)\n"
      ],
      "metadata": {
        "colab": {
          "base_uri": "https://localhost:8080/"
        },
        "id": "RLGA8Ls_dXC-",
        "outputId": "52047a35-ab2a-483c-f8ed-d17564fcf3ba"
      },
      "execution_count": 43,
      "outputs": [
        {
          "output_type": "stream",
          "name": "stdout",
          "text": [
            "O VALOR É POSITIVO OU NEGATIVO ?\n",
            "digite um número: 0\n",
            "Este número é Nulo\n"
          ]
        }
      ]
    },
    {
      "cell_type": "code",
      "source": [
        "def somaimposto(taxaImposto, Custo):\n",
        "  return (1 + taxaImposto/100)*Custo\n",
        "\n",
        "t = float(input('Digite a taxa de imposto: '))\n",
        "c = float(input('Digite o custo: '))\n",
        "\n",
        "print('Valor do imposto:', somaimposto(t,c))\n"
      ],
      "metadata": {
        "colab": {
          "base_uri": "https://localhost:8080/"
        },
        "id": "BC735lJuhh4h",
        "outputId": "df175348-1201-4ded-c002-42098068710d"
      },
      "execution_count": 50,
      "outputs": [
        {
          "output_type": "stream",
          "name": "stdout",
          "text": [
            "Digite a taxa de imposto: 8\n",
            "Digite o custo: 90\n",
            "Valor do imposto: 97.2\n"
          ]
        }
      ]
    }
  ]
}