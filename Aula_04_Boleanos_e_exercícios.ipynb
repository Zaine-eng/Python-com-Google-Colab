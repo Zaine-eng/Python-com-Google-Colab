{
  "nbformat": 4,
  "nbformat_minor": 0,
  "metadata": {
    "colab": {
      "name": "Aula_04_Boleanos_e_exercícios.ipynb",
      "provenance": [],
      "authorship_tag": "ABX9TyNMLs5IN0e5LVQtWovVLOh6",
      "include_colab_link": true
    },
    "kernelspec": {
      "name": "python3",
      "display_name": "Python 3"
    },
    "language_info": {
      "name": "python"
    }
  },
  "cells": [
    {
      "cell_type": "markdown",
      "metadata": {
        "id": "view-in-github",
        "colab_type": "text"
      },
      "source": [
        "<a href=\"https://colab.research.google.com/github/Zaine-eng/Python-para-an-lise-de-dados/blob/main/Aula_04_Boleanos_e_exerc%C3%ADcios.ipynb\" target=\"_parent\"><img src=\"https://colab.research.google.com/assets/colab-badge.svg\" alt=\"Open In Colab\"/></a>"
      ]
    },
    {
      "cell_type": "markdown",
      "source": [
        "# **5. Boleanos** 😝"
      ],
      "metadata": {
        "id": "9dgc_TvH-sPC"
      }
    },
    {
      "cell_type": "markdown",
      "source": [
        "# **5.1. Problema proposto**"
      ],
      "metadata": {
        "id": "gc2vGVdT-0vS"
      }
    },
    {
      "cell_type": "markdown",
      "source": [
        "Em websites(redes sociais, e-commerce,corporativos, etc) é comum o uso de sistemas de controle de acesso, o famoso login. Em geral, nestes sistemas um usuário fornece dois dados: usuário e senha: "
      ],
      "metadata": {
        "id": "kN0NNG8Y--71"
      }
    },
    {
      "cell_type": "code",
      "execution_count": 3,
      "metadata": {
        "id": "goalaJ6e9H_c"
      },
      "outputs": [],
      "source": [
        "usuario = 'zaine.vasconcelos'\n",
        "senha = 'zaine789'"
      ]
    },
    {
      "cell_type": "markdown",
      "source": [
        "Ao acessar este tipo de sistemas é feito uma comparação lógica de *strings*, ou seja, uma verificação para averiguar se realmente o usuário e senha relatado corresponde com o que é colocado no sistema."
      ],
      "metadata": {
        "id": "fBVfupmn_sz8"
      }
    },
    {
      "cell_type": "markdown",
      "source": [
        "Do lado do servidor, o backend do website tem armazenado os dados de usuário e senha fornecidas pelo usuário no momento do cadastro: usuario_cadastro e senha_cadastro:"
      ],
      "metadata": {
        "id": "yFTFIgfHAPjQ"
      }
    },
    {
      "cell_type": "code",
      "source": [
        "usuario_cadastro = 'zaine.vasconcelos'\n",
        "senha_cadastro = 'zaine123'"
      ],
      "metadata": {
        "id": "hSfzth6qAkhT"
      },
      "execution_count": 1,
      "outputs": []
    },
    {
      "cell_type": "markdown",
      "source": [
        "Como comparamos se as *strings* (usuario, usuario_cadastro) e (senha, senha_cadastro) são iguais para conceder ou bloquear o acesso do usuário? "
      ],
      "metadata": {
        "id": "5bv6tfwaA-1U"
      }
    },
    {
      "cell_type": "markdown",
      "source": [
        "# **5.2. Definição**\n"
      ],
      "metadata": {
        "id": "I95TuQDzBdEh"
      }
    },
    {
      "cell_type": "markdown",
      "source": [
        "Armazenam **valores lógicos**: \n",
        "\n",
        "\n",
        "*   True (verdadeiro);\n",
        "*   Falso (falso);\n",
        "\n"
      ],
      "metadata": {
        "id": "Kp_8T2BhBpOU"
      }
    },
    {
      "cell_type": "code",
      "source": [
        "verdadeiro = True \n",
        "print(verdadeiro)"
      ],
      "metadata": {
        "colab": {
          "base_uri": "https://localhost:8080/"
        },
        "id": "SqP35cklAIty",
        "outputId": "7fdecc9e-ba53-47bb-9b33-1e97a5abefd7"
      },
      "execution_count": null,
      "outputs": [
        {
          "output_type": "stream",
          "name": "stdout",
          "text": [
            "True\n"
          ]
        }
      ]
    },
    {
      "cell_type": "code",
      "source": [
        "falso = False \n",
        "print(falso)"
      ],
      "metadata": {
        "id": "u-mmHAXmDRzc"
      },
      "execution_count": null,
      "outputs": []
    },
    {
      "cell_type": "markdown",
      "source": [
        "Obs: na linguagem de programação (python) existem as palavras chamadas reservadas, ou seja, palavras que não podemos utilizar, porque a própria linguagem utiliza essas palavras, como por exemplo: print, type, len, entre várias outras."
      ],
      "metadata": {
        "id": "UafNTwLqDZwl"
      }
    },
    {
      "cell_type": "markdown",
      "source": [
        "São do tipo bool. "
      ],
      "metadata": {
        "id": "DZchhdyBEKPs"
      }
    },
    {
      "cell_type": "code",
      "source": [
        "print(type(True))"
      ],
      "metadata": {
        "colab": {
          "base_uri": "https://localhost:8080/"
        },
        "id": "a6c7o8rVEL8W",
        "outputId": "9225c2c0-634b-435b-e61b-9da29746aa26"
      },
      "execution_count": null,
      "outputs": [
        {
          "output_type": "stream",
          "name": "stdout",
          "text": [
            "<class 'bool'>\n"
          ]
        }
      ]
    },
    {
      "cell_type": "markdown",
      "source": [
        "Variáveis boleanas são resultados de comparações lógicas. Os operadores de comparação lógicas são: \n",
        "\n",
        "\n",
        "\n",
        "\n",
        "*   '>' (maior);\n",
        "*   '<' (menor);\n",
        "*   '==' (igual);\n",
        "*   '>=' (maior ou igual);\n",
        "*   '<=' (menor ou igual);\n",
        "*   '!=' (diferente).\n",
        "\n",
        "\n",
        "\n",
        "\n",
        "\n",
        "\n",
        "\n",
        "\n",
        "\n"
      ],
      "metadata": {
        "id": "FUY0NU4DEkJm"
      }
    },
    {
      "cell_type": "markdown",
      "source": [
        "**Exemplo**: Cartão eletrônico"
      ],
      "metadata": {
        "id": "LLDP279TJXJG"
      }
    },
    {
      "cell_type": "code",
      "source": [
        "saldo_em_conta = 200\n",
        "valor_de_saque = 100\n",
        "\n",
        "pode_executar_saque = valor_de_saque <= saldo_em_conta\n",
        "print(pode_executar_saque)"
      ],
      "metadata": {
        "colab": {
          "base_uri": "https://localhost:8080/"
        },
        "id": "dqGZDaCmJhGu",
        "outputId": "671d123d-e44e-4f4a-fd4b-f77921244309"
      },
      "execution_count": null,
      "outputs": [
        {
          "output_type": "stream",
          "name": "stdout",
          "text": [
            "True\n"
          ]
        }
      ]
    },
    {
      "cell_type": "markdown",
      "source": [
        "Note que acima você esta perguntando se você ou não executar o saque, o sistema afirma que sim, ou seja, com True (verdadeiro). "
      ],
      "metadata": {
        "id": "9dK42534IEbt"
      }
    },
    {
      "cell_type": "markdown",
      "source": [
        "**Exemplo**: Cartão de crédito "
      ],
      "metadata": {
        "id": "59BXysoTODDs"
      }
    },
    {
      "cell_type": "code",
      "source": [
        "codigo_de_seguranca = '852'\n",
        "codigo_de_seguranca_cadastrado = '016'\n",
        "\n",
        "pode_efetuar_pagamento = codigo_de_seguranca == codigo_de_seguranca_cadastrado\n",
        "print(pode_efetuar_pagamento)"
      ],
      "metadata": {
        "colab": {
          "base_uri": "https://localhost:8080/"
        },
        "id": "e55Zs_msEIxt",
        "outputId": "6ab21b56-1bb2-4f1c-b412-b67cde3881c8"
      },
      "execution_count": null,
      "outputs": [
        {
          "output_type": "stream",
          "name": "stdout",
          "text": [
            "False\n"
          ]
        }
      ]
    },
    {
      "cell_type": "markdown",
      "source": [
        "As operações de variáveis booleanas são: \n",
        "\n",
        "\n",
        "\n",
        "*   | ( operador ou)\n",
        "*   & (operador e)\n",
        "*   Not (operador não)\n",
        "\n",
        "\n",
        "\n"
      ],
      "metadata": {
        "id": "U58d7LqNXTS7"
      }
    },
    {
      "cell_type": "markdown",
      "source": [
        "O conjunto de resultador de operações lógicas geralmente é resumido em uma tabela chamada 'tabela da verdade'. "
      ],
      "metadata": {
        "id": "TQU9fIH5YPy1"
      }
    },
    {
      "cell_type": "markdown",
      "source": [
        "![image.png](data:image/png;base64,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)"
      ],
      "metadata": {
        "id": "-83QGem_YiK7"
      }
    },
    {
      "cell_type": "markdown",
      "source": [
        "obs : o not sempre inverte a opção da variável A."
      ],
      "metadata": {
        "id": "-nE_PK-idrrz"
      }
    },
    {
      "cell_type": "markdown",
      "source": [
        "**Exemplo**: Tabela da verdade do operador | (ou)."
      ],
      "metadata": {
        "id": "tuu6WwMScChF"
      }
    },
    {
      "cell_type": "code",
      "source": [
        " print(True | True)\n",
        " print(True | False)\n",
        " print(False | False)\n",
        " print(False | True)\n",
        "\n"
      ],
      "metadata": {
        "colab": {
          "base_uri": "https://localhost:8080/"
        },
        "id": "lj0rRzwMbyHE",
        "outputId": "3ac27f92-2128-4edd-bc09-d3ca703aa987"
      },
      "execution_count": null,
      "outputs": [
        {
          "output_type": "stream",
          "name": "stdout",
          "text": [
            "True\n",
            "True\n",
            "False\n",
            "True\n"
          ]
        }
      ]
    },
    {
      "cell_type": "markdown",
      "source": [
        "**Exemplo**: Tabela da verdade do operador & (e)."
      ],
      "metadata": {
        "id": "SN-Xvp3tcqSk"
      }
    },
    {
      "cell_type": "code",
      "source": [
        " print(True & True)\n",
        " print(True & False)\n",
        " print(False & False)\n",
        " print(False & True)\n"
      ],
      "metadata": {
        "colab": {
          "base_uri": "https://localhost:8080/"
        },
        "id": "uvzpuwjUEDUk",
        "outputId": "cad7bb28-819e-476d-ff66-acf0ca28057d"
      },
      "execution_count": null,
      "outputs": [
        {
          "output_type": "stream",
          "name": "stdout",
          "text": [
            "True\n",
            "False\n",
            "False\n",
            "False\n"
          ]
        }
      ]
    },
    {
      "cell_type": "markdown",
      "source": [
        "**Exemplo**: Tabela da vontade do operador not (não). "
      ],
      "metadata": {
        "id": "2znL1sXxehQu"
      }
    },
    {
      "cell_type": "code",
      "source": [
        "print (not True)\n",
        "print(not False)\n"
      ],
      "metadata": {
        "colab": {
          "base_uri": "https://localhost:8080/"
        },
        "id": "2C67hrV_eu6h",
        "outputId": "2e3422fa-c3c8-45bf-bd5f-0539ac7ec272"
      },
      "execution_count": null,
      "outputs": [
        {
          "output_type": "stream",
          "name": "stdout",
          "text": [
            "False\n",
            "True\n"
          ]
        }
      ]
    },
    {
      "cell_type": "markdown",
      "source": [
        "# **5.4. Conversão**"
      ],
      "metadata": {
        "id": "a1AqwPHbfJ5f"
      }
    },
    {
      "cell_type": "markdown",
      "source": [
        "Podemos converter tipos numéricos e *strings* para booleanos através do método nativo bool:"
      ],
      "metadata": {
        "id": "5bVogYUZfc3l"
      }
    },
    {
      "cell_type": "code",
      "source": [
        "idade = 26\n",
        "tipo_sangue = 'O-'\n",
        "filhos = 0  \n",
        "telefone_fixo = None\n",
        "telefone_fixo = ' '\n",
        "\n",
        "print(bool(idade))\n",
        "print(bool(tipo_sangue))\n",
        "print(bool(filhos))\n",
        "print(bool(telefone_fixo))\n",
        "print(bool(telefone_fixo))\n"
      ],
      "metadata": {
        "colab": {
          "base_uri": "https://localhost:8080/"
        },
        "id": "gGFa37Bifcg-",
        "outputId": "21278255-a2f5-4e27-9916-848720804ac2"
      },
      "execution_count": null,
      "outputs": [
        {
          "output_type": "stream",
          "name": "stdout",
          "text": [
            "True\n",
            "True\n",
            "False\n",
            "True\n",
            "True\n"
          ]
        }
      ]
    },
    {
      "cell_type": "markdown",
      "source": [
        "Obs: o valor zero tanto inteiro como decimal é mapeado em um valor False em boleano. "
      ],
      "metadata": {
        "id": "RlRXymvRhbip"
      }
    },
    {
      "cell_type": "markdown",
      "source": [
        "# **5.5. Revisitando a motivação**"
      ],
      "metadata": {
        "id": "RyRPEnENgt01"
      }
    },
    {
      "cell_type": "markdown",
      "source": [
        "Compara se os dados fornecidos pelo usuário são iguais aos dados do cadastro: "
      ],
      "metadata": {
        "id": "QuT0mT_Jg3zx"
      }
    },
    {
      "cell_type": "code",
      "source": [
        "usuario_igual = usuario == usuario_cadastro\n",
        "senha_igual = senha == senha_cadastro\n",
        "\n",
        "print(usuario_igual)\n",
        "print(senha_igual)\n"
      ],
      "metadata": {
        "colab": {
          "base_uri": "https://localhost:8080/"
        },
        "id": "aDTVlS6WhFwi",
        "outputId": "45d1e47f-9e98-496d-d8b8-27959fd521ed"
      },
      "execution_count": 4,
      "outputs": [
        {
          "output_type": "stream",
          "name": "stdout",
          "text": [
            "True\n",
            "False\n"
          ]
        }
      ]
    },
    {
      "cell_type": "markdown",
      "source": [
        "Decide se procede o acesso:"
      ],
      "metadata": {
        "id": "0PStFViG_ZAu"
      }
    },
    {
      "cell_type": "code",
      "source": [
        "conceder_acesso = usuario_igual & senha_igual\n",
        "print(conceder_acesso)"
      ],
      "metadata": {
        "id": "pXCtK9A_fOzB",
        "colab": {
          "base_uri": "https://localhost:8080/"
        },
        "outputId": "611c6548-5d7e-4277-fa8f-e9d9d80d5866"
      },
      "execution_count": 5,
      "outputs": [
        {
          "output_type": "stream",
          "name": "stdout",
          "text": [
            "False\n"
          ]
        }
      ]
    },
    {
      "cell_type": "markdown",
      "source": [
        "Se foi a aula 05 💓 😊"
      ],
      "metadata": {
        "id": "8omWCEopAA3U"
      }
    }
  ]
}