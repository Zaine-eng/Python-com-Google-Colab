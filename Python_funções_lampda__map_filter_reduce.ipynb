{
  "nbformat": 4,
  "nbformat_minor": 0,
  "metadata": {
    "colab": {
      "name": "Python_funções_lampda__map_filter_reduce.ipynb",
      "provenance": [],
      "authorship_tag": "ABX9TyMV7+67l5IZ+HdJ8W2DBKOn",
      "include_colab_link": true
    },
    "kernelspec": {
      "name": "python3",
      "display_name": "Python 3"
    },
    "language_info": {
      "name": "python"
    }
  },
  "cells": [
    {
      "cell_type": "markdown",
      "metadata": {
        "id": "view-in-github",
        "colab_type": "text"
      },
      "source": [
        "<a href=\"https://colab.research.google.com/github/Zaine-eng/Python-com-Google-Colab/blob/main/Python_fun%C3%A7%C3%B5es_lampda__map_filter_reduce.ipynb\" target=\"_parent\"><img src=\"https://colab.research.google.com/assets/colab-badge.svg\" alt=\"Open In Colab\"/></a>"
      ]
    },
    {
      "cell_type": "markdown",
      "source": [
        "# **1. Função lambda** 🧠"
      ],
      "metadata": {
        "id": "oMIUju3NdC7k"
      }
    },
    {
      "cell_type": "markdown",
      "source": [
        "# **1.1 Definição**"
      ],
      "metadata": {
        "id": "iRuoEA3ze2RE"
      }
    },
    {
      "cell_type": "markdown",
      "source": [
        "Todos os recursos das funções lambda são muito semelhantes às funções locais, exceto por dois pontos: elas não são definidas no código, ou seja, são declaradas como variáveis ​​e não possuem **def** própria; são funções de linha única, como se houvesse uma instrução de retorno antes do comando."
      ],
      "metadata": {
        "id": "r-fXun4nd5YC"
      }
    },
    {
      "cell_type": "markdown",
      "source": [
        "Construção do código:\n",
        "\n",
        "![image.png](data:image/png;base64,iVBORw0KGgoAAAANSUhEUgAAAmIAAAArCAYAAADbnuRrAAAPv0lEQVR4nO2dT2jcVh7Hv9M4aUhDHZJDL+1ums6YJZi0Zw3dQrt/mDEtTg++LaawSIdl8WxCmkuOvpSyMENZ6EwDIc3NhzYkeMSmbSAN1rkkxiyR1kmTy+YQ40ndduJMqj3MSHqS9TzSjDyacb8fGLClp/d+Pz29p59++r2fMrZt2yCEEEIIIQPnubQFIIQQQgj5tUJDjBBCCCEkJWiIEUIIIYSkBA0xQgghhJCUoCFGCCGEEJISNMQIIYQQQlKChhghhBBCSErQECOEEEIISQkaYoQQQgghKUFDjBBCCCEkJWiIEUIIIYSkBA0xkjAWKvkMMpkM8nkNuiVsy1dgpS0eIYSQRNg8ncPaK+3f4+rdtMUZWeIZYrqGTCbT+eVRCburWhXk3TIa9GTkHD7Ec6H1rqVVyQvndJvfiBgxVmUWJaP9t2HUUMxlkMnk2tsmJ5BNVbooNKFdeojMpYfIXGoMxfWr33TkeQjtfgIV3m+49WVuNhOocNjQoY3EHBRVTqFcH3PN8LAL+sfSUdHywr0ug0w+D62ij8Q8vS2r57Ex5RlYa6/k8Pj09dByzYX2n2PnruFF7dXBytk317Hh6ngWmylK0odHzEDp4+EdQiRNVNRtG7Zpoq4qnW0KymcKqUpFyCiia0XU0haCeFgV5HNFlGoGDHG7YaBWKiI3Ig/Noayex+O3PsLmrcD2ia1G1ua/PkILo2qEDRf9vZqsFbErHtBIYmTnlmDbVRQAIJtFoboE27Zh20uYG353GCFDhAVdy6NIK2yIsFCZLbkGmFI2O/Obibra2WiUMBv6umgEWDXRcv4+cRbjD0wcfmCGGlr7/infR+LRd4xYbX6Erf8hwxvUIb+luRF4rUfIMFBA1R07nYeCEcPSK9DyORRrRvfCI8cI94+1iBUoaPv5VZxzny6zKJwpw/H/GwuLo39f/N0x7Elbhl8J/Qfr92L9d96vizFQea3SCez2FXQDv9vv6NtPiHkhTk1z2rYq0PLi+3otpL52nXpF873bz+c1VMILh5TPQ5OW9fTT8sHYr7xEx/jomiB74NyLMWfiPnG7pgOWriGfF8+BXLb2TSEfTZdedI98PUjPiBDL0e0niW2MQqMJ7eqaF1916SEyl9aQv/kj9IZYsIXKVTHOrAX95hrywjHa7c5zZ+NHaFeF+q42AnVtxbrfCNTVlEz6Lei3A2Xvt0JLxtdRIpsY8xjqLhf7KtAXka+dwLzgG/saKtb2sT1R2uhLj9hzTLBqDbliCTthg7F/2vL13D/ZOVSXlrDUzYg0VmB2r22HiROLdxfNqRzWPvjC27SgteOnps7jmVh09Tqap08GYsjOY3NVUqcTg+WLPTuL5mpgP+5i8/RJPHbrPYkNZwFAMG5t6uyW9rZbOPCsejLeooLV69iY8uu49spJiZ4JYMehrtoAQn6qXXfKmGVbCdvetQ7YgGKrvgNMu6x4+xUl/DhFVbrLFVLflnrKZkBYeXlFEdoUhfbp310ms6xs076sG+Qyy+rzbVeini//cV3Lx9S9o0yM60F6Rmx123b9dW5/mn+21c//Z+Pz/9n4fN2Td33DVtztYT+hrP3ULl/x9ilXwo9Rvn0UoS7brn8r1iU55sqG7VfLL4OvXbGOb3/2DomlY5S+6NLfPY8bcVwq/nlBKdumTIZYbfSoR6w5RtKGW7diq2XTPwajDYhtYP/03T/SU6sG9EybOPKv2j8Xs/ajl0N+xc/sllPsqw/Dy7yctR+9PG3/8JWszmm7UQzW6W+zIWm/cWpa0t6H9hOhtSenhGM+XfVp1/p0OmTfN/YPYXX99zO7IdVxa7tJ0LtHTC2j7PhhUcN8FDeDVUHeDXhQUK63X8WZdcela6BWlHssDENF2Wy7tE2vcRg1A1DKMDvv6mVyiSv6oNbb5c26W94ozfra9pWHirrTdl2FYYQ9rorxA4or63Yy+fQr5SRenGRXFhmG4b0GNctQ3T01XBYb0jXkvBPm6e8qU0PRfRrtQfc+r4fB0ULl242ObntRfu8l2H95CfZfjqB8yCnTxPztcG+Tsb7fPcZ8Y6+3/d5T4NBBmLHqegr1rSPt9t8b9/pufQOzwjHW7ccorTv/7Ufdaf+t/TDWnyauo0cB065QgesJFirzXsCTOl3wtvc8bgwYhnOMCfPilOQVftw2etEj/hwjQ1HLqJtLqCYeWMn+SaJ/tqJDE4P5RmKFuMir2L9o4vCF971NM1UcfmDi8OJf268oV8/jsesxm8SBC9dw+IGJ8QtnMQYAWMbmByfRDPUYLaN1axIHbpg4/OAaxj95Z8trz9at9zv7TYyfm/S2LywL8WrXcOCEs+cLNBNPmXEXzb9/1ImTm3Tl2fF2Y5ltwacM3xNMx9OwjUcsqifHe4IJeMTEY8LaDqnLO2abpwOxLknbwQdRUZcoT6lRPFXyX2/nUdpO4GlNVp+4Xe6p7OZhkssU/3oYBBKPmATzluddUm497WwNeMTc7XbA6/TILq93q8vvEfN5sGzbtr9fD/GK+dtXv/cfsm19kXXchkhelQgeBlt27QS8Gluuj3ieDKlXOrYeceeYaHImPhbYP4n2T5iXbaBTVpKIHq9T3/h2RfU4eccFvGyB+oL7fXX6vFLT9s//DW9LPCYxj5gEWbtJ0F+MWHYO59ynkm7pLHRcdh8YFMxM+Z8XslMz8B58Lod6gCYnZM8Yk5DtMlY6b+qtO1h2mz+OnK/xCbj29/KdTryNiRXBGzYdCAYoeI9jciwLul6BpuUFz9IQEHhayx0XvIvO+Qr013H/CcPckvPEKlkN2VX3/q+H1Gi0oN//EdrNNeS+C/Mu+ZkcH5Ps2YOJ8fA9xnq450k5FKhrfMw7T+utTlxKCyuCN2z6N/5DCr/d30VixNbR38AZz4sh9J21uCCsNjsjj6+JOW4U/8UZjShtxNUj9hyTEuyfBPvHQiWfg09EpYzdl6nnOjYXnL8nse+P/pWSe/44BXdmWvh3aE6usZAUGCLPvSbbP4HnjoXvad3Z4SSyq3ex+fV5bJw+icb8cvfyPSK7Q0SmcKYMpdZxKdeK0I6XIxwVYjh1BoJ8WAeNAXFXYFCFYa54dRsl5DKl8HKdIMve3coWdG0W88EcMxFQyiaWBpDjIf7EKDd0/fSqey/Xg4gOLRM115KCstlLKo0W9JuPMX/vaUzd9uK4xNjCobHu122ALUbd+J4Y56kbveoYJIupGQUlw0D7tVEVhYKOj9271VbDu59xI39ACxK3jZh6DGyO6Rf2TzL9E2KEQUV9169wDzGMjh3ruvJPbmgBwCTGJMYWTuQGvHrzLjZPn0JzYRndAjGSov9Vk9k5XBTitWqlUkI3hVGkPTCL7kSidGI9TF9M2+5kN+veQuXqIxRdA2UvlKMHUX/viC/ma7RJVkfRo1m7rAP6Zc9QVmbgv88P4trprY14eowO7J/+0bUQI8wcsXQcJMBdNKf+hA3XCJvE2MxZHLxxzRe3ljR9e8QAIDt3DmopTvbnZdyxgII4SES38U6j1mFX4wyXEHnDsBax4PnEYQpPRoN6FWGu7IQZHEH/vnRP+XroRuMJFpxXfYcOwnz3hYH3q8NyowXfsG0863KenuFOAyjIvHJuPQnrmJ3CjFKCYQBYvoOKMDsoM4GA7UGMm17biKOHSOw5ZsCwf/rqH6sSSLSrqKgv/VqMsDv4ZRWA6MFaXcUvaYkTgWd3It5NVr/xvipw4izGnYUKgD+FR8Ik9NHvAqr1bjFT4ioXAwuLgfxXwnt9qNPJX9CFaW+FWTDmKPS7kTl4oVMGVgJJYfTLIWan6PoOxGElaSCJMV1+LES93rrj768t+gu5zDQdPeie5PUgJojs9uvhtWSj5clyaI9ft9AViDuHce+J/8Ykynb0+c55GsNxd6XjU6wE8n/p34d8XzJxHbOYcwJIjRJK7nARk2A6DQxg3PTcRgw9Ys8xacL+6bl/rApmRVeYUoa5642wt7Fvxvl7GZtfBfJ0fbXovcab+TP2DVAyhz0TMo/VXfzyn4iViF8WCCS0jWzM9UBChhj8gZPSIkLm4dKsm0DP0sULe6e+Sehf7lzUOh9ntXRo80IKBbdtYYADqBW9BLGWroV/diR3XAgwn4eXazbZz5RkhQvOKH3syeVLt9E/Yn/59a9gXpjwpgvoSfd0r4cYiAHx935CpWPYWLfXULw3YFnWNzDrJHBtNKHd8Iwq1Q3CH8Pc615Afu2GlyTWut8Il3kndBRvfK6QIUb1IMZNP21E1SP2HJMMsiTOXWH/9NA//k8cRYkJi5Jku5/tcpL9uPq+v511ffGt+VNoft02xp59fR4/uoHskzjwt7f7bKk39rw24f7dmv/UTbz6rHoKPwW/nSnjWE5YdPCJm4rjWfUkNhZkB/VPcoYYspi76N1Yw4uI8WQGSsV23qxc0csfo9Z37puEhaqQk6ZWRC6TQSZXdDNYK+WL/rYLVe/7YaihmMt05K1BUUI0zU5hRvCilZzyAevICLqXYisy7cv9VRTaCZWrV3z9Jeov9pfzXckedE/5eojM+POYETxMpSvtjPPB1YSylY7JsRfKIcD4roHcpYfIXGl4L2KOjqMqro78zTjqR51/mig6Mt9oQjkUEvO1IzqKN742anD5MTCYcdNXGxH1QA9zTKqwf2L3j/gKtV0JigPI/TgUHPsrXnDjpJbx0wd/wtorOTQ+8PJu7bvwJfbLgu53mj+InrgvsPFWOyN+Y34ZYycixncdewf73Hxhy/hJqEMk6dWaCRpiCKSzkBVZaifQUxWf0eYmMNxR50cWc0sm6mUVPntFUaDWw1csFqqd8l5hqGUTS6GBe536VV/lUNQ6TDExYd/pGAqods7hFh0SDijMzi3BrJehBgy8rf3Vm+7pXg9RGcPcu0dQPyoaMHuhHB2HKSY8vfdkxyffmd8fQf2NvcK52gv1jSOw39yakqLw5hHU39i/pezS62FrkHZGR9HrKV/WP4hx018b0fQQ2okxx6QJ+8c5JmL/iK9Qf4Xs0b7E4RtVHJiZ9AWYtwPav8TBP6QmGoC3cbAjm8uJSey7cA0v/mNCfpiPV7F/8RoOinVgEmMzVYyLSV0lKTp6JWPbtp1gfWSXYukackIWfLU+LEYSIcRJ4bI8oBQ4JC7sHyInWY8Y2bVkC1X3k0gKjHbMWNpCEULadFYZR8/ZRQYK+4dsQyLpKwghhKSEpbcDyJUyLtJLPXywf0gX6BEjXRFTVWRypXbOHCYuJGQ4MC9jYdKfe4sMEewf0gXGiBFCCCGEpAQ9YoQQQgghKUFDjBBCCCEkJWiIEUIIIYSkBA0xQgghhJCUoCFGCCGEEJISNMQIIYQQQlKChhghhBBCSErQECOEEEIISQkaYoQQQgghKfF/zuGefuXuESoAAAAASUVORK5CYII=)"
      ],
      "metadata": {
        "id": "I7PfYYEefVAQ"
      }
    },
    {
      "cell_type": "markdown",
      "source": [
        "**Exemplo**: o cubo de um número"
      ],
      "metadata": {
        "id": "Iyxat34gf6Rl"
      }
    },
    {
      "cell_type": "code",
      "source": [
        "cubo = lambda numero:numero*numero*numero"
      ],
      "metadata": {
        "id": "jm1c3IuefUYH"
      },
      "execution_count": 1,
      "outputs": []
    },
    {
      "cell_type": "code",
      "source": [
        "cubo(3)"
      ],
      "metadata": {
        "colab": {
          "base_uri": "https://localhost:8080/"
        },
        "id": "y1gI6qyadCR5",
        "outputId": "53d24bba-d1b8-483a-eb14-deefaefd428a"
      },
      "execution_count": 2,
      "outputs": [
        {
          "output_type": "execute_result",
          "data": {
            "text/plain": [
              "27"
            ]
          },
          "metadata": {},
          "execution_count": 2
        }
      ]
    },
    {
      "cell_type": "code",
      "execution_count": 3,
      "metadata": {
        "colab": {
          "base_uri": "https://localhost:8080/"
        },
        "id": "pKQ-bMn1b0P7",
        "outputId": "010d0995-ceb9-447c-e72f-de7d8fd9dd61"
      },
      "outputs": [
        {
          "output_type": "execute_result",
          "data": {
            "text/plain": [
              "343"
            ]
          },
          "metadata": {},
          "execution_count": 3
        }
      ],
      "source": [
        "cubo(7)"
      ]
    },
    {
      "cell_type": "markdown",
      "source": [
        "**Exemplo**: função lambda para extrair provedor de e-mail."
      ],
      "metadata": {
        "id": "fnhG1p5Qgqi1"
      }
    },
    {
      "cell_type": "code",
      "source": [
        "extrair_provedor_email = lambda email: email.split(sep='@') [-1]\n"
      ],
      "metadata": {
        "id": "cZKuhREIg4r0"
      },
      "execution_count": 4,
      "outputs": []
    },
    {
      "cell_type": "code",
      "source": [
        "email = 'zaine.vasconcelos@gmail.com'\n",
        "print(email)\n"
      ],
      "metadata": {
        "colab": {
          "base_uri": "https://localhost:8080/"
        },
        "id": "Jkp0mpZBhPmU",
        "outputId": "46bcae5e-ddf0-41c2-8231-4266108711c4"
      },
      "execution_count": 5,
      "outputs": [
        {
          "output_type": "stream",
          "name": "stdout",
          "text": [
            "zaine.vasconcelos@gmail.com\n"
          ]
        }
      ]
    },
    {
      "cell_type": "code",
      "source": [
        "provedor_email = extrair_provedor_email(email)\n",
        "print(provedor_email)"
      ],
      "metadata": {
        "colab": {
          "base_uri": "https://localhost:8080/"
        },
        "id": "WKDKAKI5h7Lw",
        "outputId": "a2d0399f-9fa6-4968-836e-a164a97742e5"
      },
      "execution_count": 6,
      "outputs": [
        {
          "output_type": "stream",
          "name": "stdout",
          "text": [
            "gmail.com\n"
          ]
        }
      ]
    },
    {
      "cell_type": "markdown",
      "source": [
        "**Exemplo**: Função **lambda** com estrutura condicionais."
      ],
      "metadata": {
        "id": "XlcyjS6xi1md"
      }
    },
    {
      "cell_type": "code",
      "source": [
        "numero_e_par = lambda numero: True if numero % 2 == 0 else False "
      ],
      "metadata": {
        "id": "gNKH24m9i_ZN"
      },
      "execution_count": 7,
      "outputs": []
    },
    {
      "cell_type": "code",
      "source": [
        "numeros = range(0,15)"
      ],
      "metadata": {
        "id": "vN2l5T0FjnhL"
      },
      "execution_count": 13,
      "outputs": []
    },
    {
      "cell_type": "code",
      "source": [
        "for numero in numeros: \n",
        "  if numero_e_par(numero) == True: \n",
        "   print(f'O numero {numero} é par!')"
      ],
      "metadata": {
        "colab": {
          "base_uri": "https://localhost:8080/"
        },
        "id": "M4sQvWzxjtlH",
        "outputId": "5285b0f5-a2d0-4336-b089-ff69714ac6ca"
      },
      "execution_count": 14,
      "outputs": [
        {
          "output_type": "stream",
          "name": "stdout",
          "text": [
            "O numero 0 é par!\n",
            "O numero 2 é par!\n",
            "O numero 4 é par!\n",
            "O numero 6 é par!\n",
            "O numero 8 é par!\n",
            "O numero 10 é par!\n",
            "O numero 12 é par!\n",
            "O numero 14 é par!\n"
          ]
        }
      ]
    },
    {
      "cell_type": "markdown",
      "source": [
        "# **1.2 Função de alta ordem**"
      ],
      "metadata": {
        "id": "J1zTmN4ykyEm"
      }
    },
    {
      "cell_type": "markdown",
      "source": [
        "Uma função é chamada de função de ordem superior se ela contém outras funções como parâmetros ou retorna uma função como saída, ou seja, uma função que opera em outra função é chamada de função de ordem superior."
      ],
      "metadata": {
        "id": "roimpychk7UH"
      }
    },
    {
      "cell_type": "markdown",
      "source": [
        "**Exemplo**: Juros compostos dinâmico."
      ],
      "metadata": {
        "id": "BhtWt6AClcUB"
      }
    },
    {
      "cell_type": "markdown",
      "source": [
        "- Definição. "
      ],
      "metadata": {
        "id": "1DHAVHcElnR4"
      }
    },
    {
      "cell_type": "code",
      "source": [
        "def retorno(juros: float):\n",
        "  return lambda investimento: investimento * (1+ juros)"
      ],
      "metadata": {
        "id": "EBVtqB1slZDx"
      },
      "execution_count": 15,
      "outputs": []
    },
    {
      "cell_type": "markdown",
      "source": [
        "- Instanciação. "
      ],
      "metadata": {
        "id": "qsgJ_oRimGSc"
      }
    },
    {
      "cell_type": "code",
      "source": [
        "retorno_5_porcento = retorno(juros = 0.05)\n",
        "retorno_10_porcento = retorno(juros = 0.10)"
      ],
      "metadata": {
        "id": "G3zaFizLmL2n"
      },
      "execution_count": 16,
      "outputs": []
    },
    {
      "cell_type": "code",
      "source": [
        "valor_final = retorno_5_porcento(investimento=1000)\n",
        "print(valor_final)\n",
        "\n",
        "valor_final = retorno_10_porcento(investimento=1000)\n",
        "print(valor_final)"
      ],
      "metadata": {
        "colab": {
          "base_uri": "https://localhost:8080/"
        },
        "id": "KpPey_eXmqqV",
        "outputId": "21dac88b-1b98-4626-df6e-d6c9be984e47"
      },
      "execution_count": 17,
      "outputs": [
        {
          "output_type": "stream",
          "name": "stdout",
          "text": [
            "1050.0\n",
            "1100.0\n"
          ]
        }
      ]
    },
    {
      "cell_type": "markdown",
      "source": [
        "- Uso."
      ],
      "metadata": {
        "id": "_GTOgso4nwNr"
      }
    },
    {
      "cell_type": "code",
      "source": [
        "anos = 10 \n",
        "valor_inicial = 1000 \n",
        "valor_final = valor_inicial \n",
        "\n",
        "for ano in range(1, anos+1):\n",
        "  valor_final = retorno_5_porcento(investimento = valor_final)\n",
        "\n",
        "valor_final = round(valor_final, 3)\n",
        "print(valor_final)"
      ],
      "metadata": {
        "colab": {
          "base_uri": "https://localhost:8080/"
        },
        "id": "aifATcS5nyNp",
        "outputId": "0644b5ac-8352-4753-8071-312aadeec42f"
      },
      "execution_count": 20,
      "outputs": [
        {
          "output_type": "stream",
          "name": "stdout",
          "text": [
            "1628.895\n"
          ]
        }
      ]
    },
    {
      "cell_type": "code",
      "source": [
        "anos = 10 \n",
        "valor_inicial = 1000 \n",
        "valor_final = valor_inicial \n",
        "\n",
        "for ano in range(1, anos+1):\n",
        "  valor_final = retorno_10_porcento(investimento = valor_final)\n",
        "\n",
        "valor_final = round(valor_final, 3)\n",
        "print(valor_final)"
      ],
      "metadata": {
        "colab": {
          "base_uri": "https://localhost:8080/"
        },
        "id": "jHlMe_8XovRl",
        "outputId": "b4617910-bf2e-4509-e9c1-15d4e0586470"
      },
      "execution_count": 21,
      "outputs": [
        {
          "output_type": "stream",
          "name": "stdout",
          "text": [
            "2593.742\n"
          ]
        }
      ]
    },
    {
      "cell_type": "markdown",
      "source": [
        "# **2. Função map** 🍏"
      ],
      "metadata": {
        "id": "fA3c_QMPp_0w"
      }
    },
    {
      "cell_type": "markdown",
      "source": [
        "# **2.1. Definição**"
      ],
      "metadata": {
        "id": "G2w8meUAqFs9"
      }
    },
    {
      "cell_type": "markdown",
      "source": [
        "O map vai aplicar uma função em cada item de uma lista de itens, ou seja, é um for com uma chamada da função para aplicá-la a cada item da sua lista."
      ],
      "metadata": {
        "id": "igT8QeJyqLK2"
      }
    },
    {
      "cell_type": "markdown",
      "source": [
        "variavel = **map**(função, coleção)"
      ],
      "metadata": {
        "id": "ezb26f8nqyOZ"
      }
    },
    {
      "cell_type": "code",
      "source": [
        "lista_numeros = [1, 2, 3]\n",
        "\n",
        "numeros_ao_cubo = map(lambda num: num **3, lista_numeros)\n",
        "\n",
        "print(list(numeros_ao_cubo))"
      ],
      "metadata": {
        "colab": {
          "base_uri": "https://localhost:8080/"
        },
        "id": "TqJnWW6frnzg",
        "outputId": "e1f69ba1-5dcb-4637-bf78-41dd67bfaa02"
      },
      "execution_count": 23,
      "outputs": [
        {
          "output_type": "stream",
          "name": "stdout",
          "text": [
            "[1, 8, 27]\n"
          ]
        }
      ]
    },
    {
      "cell_type": "markdown",
      "source": [
        "# **2.2 Função de alta ordem**\n",
        "\n",
        "**Exemplo**: Função lambda para extrair provedor de e-mail (1 parâmetro)."
      ],
      "metadata": {
        "id": "mzxDYb8Otj5H"
      }
    },
    {
      "cell_type": "code",
      "source": [
        "emails = [\n",
        "          'zaine.silva@gmail.com', 'zaine.silva@live.com','zaine.silva@yahoo.com'\n",
        "]\n",
        "\n",
        "extrair_provedor_email = lambda email: email.split(sep='@')[-1]"
      ],
      "metadata": {
        "id": "AW9C48gjt4Vv"
      },
      "execution_count": 24,
      "outputs": []
    },
    {
      "cell_type": "code",
      "source": [
        "provedores = []\n",
        "for email in emails:\n",
        "  provedor = extrair_provedor_email(email)\n",
        "  provedores.append(provedor)\n",
        "\n",
        "print(provedores)"
      ],
      "metadata": {
        "colab": {
          "base_uri": "https://localhost:8080/"
        },
        "id": "2EWduyXrungL",
        "outputId": "fa20fc94-0007-477d-b86c-44ed2573e0c2"
      },
      "execution_count": 25,
      "outputs": [
        {
          "output_type": "stream",
          "name": "stdout",
          "text": [
            "['gmail.com', 'live.com', 'yahoo.com']\n"
          ]
        }
      ]
    },
    {
      "cell_type": "markdown",
      "source": [
        "- **Exemplo**: Investimento (Mais de 1 parâmetros)"
      ],
      "metadata": {
        "id": "DNF6YqEtyhAO"
      }
    },
    {
      "cell_type": "code",
      "source": [
        "anos = [10, 10, 10]\n",
        "taxas_juros = [0.05, 0.10 ,0.15]\n",
        "valores_iniciais = [1000, 1000, 1000]\n",
        "\n",
        "def retorno(valor_inicial: float, taxa_juros: float, anos: int): \n",
        "  valor_final = valor_inicial\n",
        "  for ano in range (1, anos+1):\n",
        "    valor_final = valor_final * (1+taxa_juros)\n",
        "  return round(valor_final, 2)\n",
        "\n",
        "cenarios = list(map(retorno,valores_iniciais, taxas_juros, anos))\n",
        "print(cenarios)"
      ],
      "metadata": {
        "colab": {
          "base_uri": "https://localhost:8080/"
        },
        "id": "rjJ7dTROybPN",
        "outputId": "66107006-4fd3-4277-df46-6f9e2b1f8c93"
      },
      "execution_count": 26,
      "outputs": [
        {
          "output_type": "stream",
          "name": "stdout",
          "text": [
            "[1628.89, 2593.74, 4045.56]\n"
          ]
        }
      ]
    },
    {
      "cell_type": "markdown",
      "source": [
        "# **3. Função filter** ✍\n",
        "\n",
        "\n"
      ],
      "metadata": {
        "id": "oh2PoNbR0xo6"
      }
    },
    {
      "cell_type": "markdown",
      "source": [
        "Filtra elementos de uma coleção, que retorna um booleano."
      ],
      "metadata": {
        "id": "ynDvRrJKtS_R"
      }
    },
    {
      "cell_type": "markdown",
      "source": [
        "# **3.1. Definição**"
      ],
      "metadata": {
        "id": "I5uZ9wfd08Ne"
      }
    },
    {
      "cell_type": "markdown",
      "source": [
        "Como o nome já diz, ela filtra uma lista. Ou seja, só “passam” os elementos que cumprirem os requisitos. A função filter() recebe dois parâmetros: uma função para validação de cada elemento, e uma sequência de valores (como uma lista, por exemplo). "
      ],
      "metadata": {
        "id": "S9xz1MsC1AhH"
      }
    },
    {
      "cell_type": "markdown",
      "source": [
        "**variável = filter (função, coleção)**"
      ],
      "metadata": {
        "id": "VLxB_yxI1vnP"
      }
    },
    {
      "cell_type": "markdown",
      "source": [
        "**Exemplo**: dentre a lista de números abaixo retorne os maiores que zero "
      ],
      "metadata": {
        "id": "AdMM9olU2p1p"
      }
    },
    {
      "cell_type": "code",
      "source": [
        "lista = [12, 25, -11, -12,-1, 15, 58, 80,-4,-56,-42,-45]\n",
        "def numeros_maiores_zero(num: int):\n",
        "  if num > 0:\n",
        "    return True\n",
        "  else:\n",
        "    return False \n",
        "\n",
        "lista_valida = filter(numeros_maiores_zero, lista)\n",
        "print(list(lista_valida))\n"
      ],
      "metadata": {
        "colab": {
          "base_uri": "https://localhost:8080/"
        },
        "id": "7VIantHV18gU",
        "outputId": "5317e9ee-9ee9-494c-c268-a71c4671dbeb"
      },
      "execution_count": 27,
      "outputs": [
        {
          "output_type": "stream",
          "name": "stdout",
          "text": [
            "[12, 25, 15, 58, 80]\n"
          ]
        }
      ]
    },
    {
      "cell_type": "markdown",
      "source": [
        "Mais 1 exemplo abaixo:"
      ],
      "metadata": {
        "id": "cIUzpOnaB-8M"
      }
    },
    {
      "cell_type": "code",
      "source": [
        "numeross = [1, 2, 3, 4, 5, 6]\n",
        "\n",
        "numeros_par = filter(lambda num: num % 2 == 0, numeross)\n",
        "\n",
        "print(list(numeros_par))"
      ],
      "metadata": {
        "colab": {
          "base_uri": "https://localhost:8080/"
        },
        "id": "9nf7hu3zCDiy",
        "outputId": "3142f78c-a711-4abf-c89b-6e4f854f987c"
      },
      "execution_count": 28,
      "outputs": [
        {
          "output_type": "stream",
          "name": "stdout",
          "text": [
            "[2, 4, 6]\n"
          ]
        }
      ]
    },
    {
      "cell_type": "markdown",
      "source": [
        "Em geral a definição da função lambda já entra dentro do map."
      ],
      "metadata": {
        "id": "_Hg3RMPLq2p4"
      }
    },
    {
      "cell_type": "markdown",
      "source": [
        "# **3.2 Função de alta ordem**"
      ],
      "metadata": {
        "id": "pNszPPPOC9Yg"
      }
    },
    {
      "cell_type": "markdown",
      "source": [
        "**Exemplo**: Função **lampda** para extrair provedor de e-mail."
      ],
      "metadata": {
        "id": "b7fVSIEfDDRL"
      }
    },
    {
      "cell_type": "code",
      "source": [
        "emails = [\n",
        "    'zaine.silva@gmail.com',\n",
        "    'zaine.silva@live.com',\n",
        "    'zaine.silva@yahoo.com'\n",
        "]\n",
        "\n",
        "provedor_da_google = lambda email: 'gmail' in email"
      ],
      "metadata": {
        "id": "VOqrLJfmDPFJ"
      },
      "execution_count": 29,
      "outputs": []
    },
    {
      "cell_type": "code",
      "source": [
        "emails_google = []\n",
        "\n",
        "for email in emails:\n",
        "  if provedor_da_google(email):\n",
        "    emails_google.append(email)\n",
        "\n",
        "print(emails_google)"
      ],
      "metadata": {
        "colab": {
          "base_uri": "https://localhost:8080/"
        },
        "id": "Y1d86DSsD7i5",
        "outputId": "c9f98db8-b755-467f-e830-125342e819b7"
      },
      "execution_count": 34,
      "outputs": [
        {
          "output_type": "stream",
          "name": "stdout",
          "text": [
            "['zaine.silva@gmail.com']\n"
          ]
        }
      ]
    },
    {
      "cell_type": "code",
      "source": [
        "emails_google = filter(provedor_da_google, emails)\n",
        "print(list(emails_google))"
      ],
      "metadata": {
        "colab": {
          "base_uri": "https://localhost:8080/"
        },
        "id": "Rvix9J0gEck4",
        "outputId": "898ef833-65b0-4815-9ef8-f9d7b58dcfc1"
      },
      "execution_count": 36,
      "outputs": [
        {
          "output_type": "stream",
          "name": "stdout",
          "text": [
            "['zaine.silva@gmail.com']\n"
          ]
        }
      ]
    },
    {
      "cell_type": "markdown",
      "source": [
        "# **4. Função reduce** ⭐"
      ],
      "metadata": {
        "id": "A0iPRAKDG50s"
      }
    },
    {
      "cell_type": "markdown",
      "source": [
        "# **4.1. Definição**"
      ],
      "metadata": {
        "id": "x8co-fYhL-bj"
      }
    },
    {
      "cell_type": "markdown",
      "source": [
        "Aplica uma função a todos os elementos de uma coleção, dois a dois, e retorna **apenas** um elemento. \n",
        "\n",
        "**variavel = reduce(função, coleção)**"
      ],
      "metadata": {
        "id": "bTqGm4MzMHGz"
      }
    },
    {
      "cell_type": "code",
      "source": [
        "numeros = [1, 2, 3, 4, 5]"
      ],
      "metadata": {
        "id": "FLcSGPqLMu_j"
      },
      "execution_count": 47,
      "outputs": []
    },
    {
      "cell_type": "code",
      "source": [
        "from functools import reduce\n",
        "\n",
        "soma = reduce(lambda x, y: x + y, numeros)\n",
        "print(soma)"
      ],
      "metadata": {
        "colab": {
          "base_uri": "https://localhost:8080/"
        },
        "id": "e5OmhNDKMxyt",
        "outputId": "a8c5d46b-f7de-4532-ff89-4cb0d992e637"
      },
      "execution_count": 48,
      "outputs": [
        {
          "output_type": "stream",
          "name": "stdout",
          "text": [
            "15\n"
          ]
        }
      ]
    },
    {
      "cell_type": "markdown",
      "source": [
        "*** functools - uma biblioteca do python."
      ],
      "metadata": {
        "id": "pnWQ3bpMzoPA"
      }
    },
    {
      "cell_type": "markdown",
      "source": [
        "# **4.2. Função de alta ordem**\n"
      ],
      "metadata": {
        "id": "kPXQ-OVGMnsQ"
      }
    },
    {
      "cell_type": "markdown",
      "source": [
        "**Exemplo**: Encontrar maior número em uma lista. "
      ],
      "metadata": {
        "id": "4IuBjcRgNVEi"
      }
    },
    {
      "cell_type": "code",
      "source": [
        "def maior_entre(primeiro: int, segundo:int) -> int: \n",
        "  return primeiro if primeiro >= segundo else segundo \n",
        "\n",
        "primeiro = 11\n",
        "segundo = 10\n",
        "\n",
        "print(maior_entre(primeiro=primeiro, segundo=segundo))"
      ],
      "metadata": {
        "id": "AY6e-HGZNgTN",
        "colab": {
          "base_uri": "https://localhost:8080/"
        },
        "outputId": "36ae23d1-7f80-42c4-b3b9-909f38a45ad3"
      },
      "execution_count": 52,
      "outputs": [
        {
          "output_type": "stream",
          "name": "stdout",
          "text": [
            "11\n"
          ]
        }
      ]
    },
    {
      "cell_type": "code",
      "source": [
        "from random import random\n",
        "\n",
        "print(random())"
      ],
      "metadata": {
        "id": "piOQFiQ3SX3z",
        "colab": {
          "base_uri": "https://localhost:8080/"
        },
        "outputId": "927762b0-431d-4363-8630-e5c25e7365e1"
      },
      "execution_count": 58,
      "outputs": [
        {
          "output_type": "stream",
          "name": "stdout",
          "text": [
            "0.8890007742482269\n"
          ]
        }
      ]
    },
    {
      "cell_type": "code",
      "source": [
        "from random import random \n",
        "\n",
        "numeros = [\n",
        "           round(100*random()) for _ in range (0,100)\n",
        "]\n",
        "\n",
        "print(numeros)"
      ],
      "metadata": {
        "colab": {
          "base_uri": "https://localhost:8080/"
        },
        "id": "sHiGeKzQRuEk",
        "outputId": "378cdf60-ccb6-4ee1-fd37-2b4452fa8015"
      },
      "execution_count": 65,
      "outputs": [
        {
          "output_type": "stream",
          "name": "stdout",
          "text": [
            "[94, 60, 97, 98, 65, 18, 5, 81, 64, 25, 46, 34, 82, 6, 8, 83, 7, 54, 44, 30, 43, 77, 74, 27, 13, 71, 30, 85, 65, 79, 30, 67, 81, 80, 22, 90, 57, 56, 7, 96, 37, 21, 55, 4, 52, 30, 87, 34, 2, 73, 13, 3, 44, 54, 57, 73, 20, 90, 52, 15, 1, 44, 15, 84, 1, 8, 39, 39, 4, 44, 16, 4, 18, 22, 54, 25, 46, 31, 18, 52, 63, 69, 28, 53, 40, 16, 20, 58, 56, 41, 6, 81, 36, 52, 6, 77, 65, 69, 77, 75]\n"
          ]
        }
      ]
    },
    {
      "cell_type": "code",
      "source": [
        "maior_numero = reduce(maior_entre, numeros)\n",
        "print(maior_numero)"
      ],
      "metadata": {
        "colab": {
          "base_uri": "https://localhost:8080/"
        },
        "id": "SvZB2V0SSJH1",
        "outputId": "a6ba3bc0-c14d-4ce0-996f-42d57171a74e"
      },
      "execution_count": 66,
      "outputs": [
        {
          "output_type": "stream",
          "name": "stdout",
          "text": [
            "98\n"
          ]
        }
      ]
    },
    {
      "cell_type": "code",
      "source": [
        "maior_numero = reduce (\n",
        "    lambda primeiro, segundo: primeiro if primeiro >= segundo else segundo, numeros\n",
        ")\n",
        "\n",
        "print(maior_numero)"
      ],
      "metadata": {
        "colab": {
          "base_uri": "https://localhost:8080/"
        },
        "id": "vVnZZtUBSUSz",
        "outputId": "6763e002-5854-44ed-9b5a-d2bbeba2e232"
      },
      "execution_count": 67,
      "outputs": [
        {
          "output_type": "stream",
          "name": "stdout",
          "text": [
            "98\n"
          ]
        }
      ]
    },
    {
      "cell_type": "markdown",
      "source": [
        "# **4.3 Compossibilidade**"
      ],
      "metadata": {
        "id": "f19UhWbuSwfz"
      }
    },
    {
      "cell_type": "markdown",
      "source": [
        "**Exemplo**: Combinação de métodos funcionais. "
      ],
      "metadata": {
        "id": "Xo4vZ4RtS2mE"
      }
    },
    {
      "cell_type": "code",
      "source": [
        "from random import random \n",
        "\n",
        "numeros = [\n",
        "           round (100 * random()) for _ in range (0, 100)\n",
        "]\n",
        "\n",
        "print(numeros )"
      ],
      "metadata": {
        "colab": {
          "base_uri": "https://localhost:8080/"
        },
        "id": "jUTr5bJgTHCK",
        "outputId": "0003fe0d-57ae-4b1d-a1d0-35ac588efc7a"
      },
      "execution_count": 68,
      "outputs": [
        {
          "output_type": "stream",
          "name": "stdout",
          "text": [
            "[59, 32, 14, 98, 79, 16, 53, 80, 45, 73, 99, 59, 89, 70, 42, 45, 7, 23, 14, 17, 58, 79, 54, 44, 90, 47, 98, 24, 70, 39, 70, 7, 73, 67, 17, 50, 19, 19, 6, 30, 46, 30, 86, 6, 52, 65, 81, 30, 85, 98, 68, 98, 88, 99, 42, 82, 52, 1, 62, 15, 65, 99, 71, 65, 22, 81, 31, 15, 10, 99, 43, 46, 50, 13, 82, 43, 7, 99, 84, 1, 29, 42, 8, 98, 64, 92, 42, 3, 84, 37, 43, 12, 46, 63, 45, 69, 51, 89, 58, 42]\n"
          ]
        }
      ]
    },
    {
      "cell_type": "markdown",
      "source": [
        "- Eleve os números ao quadrado."
      ],
      "metadata": {
        "id": "iq977xDSTecN"
      }
    },
    {
      "cell_type": "code",
      "source": [
        "numeros_ao_quadrado = map(lambda numero: numero ** 2, numeros)"
      ],
      "metadata": {
        "id": "roSpvEQhTeBQ"
      },
      "execution_count": 69,
      "outputs": []
    },
    {
      "cell_type": "markdown",
      "source": [
        "- Filtra os números ímpares."
      ],
      "metadata": {
        "id": "KHzVhV4gTu8b"
      }
    },
    {
      "cell_type": "code",
      "source": [
        "numeros_impares = filter (\n",
        "    lambda numero: numero % 2 != 0, numeros_ao_quadrado\n",
        ")"
      ],
      "metadata": {
        "id": "NyLAMIO7T00H"
      },
      "execution_count": 70,
      "outputs": []
    },
    {
      "cell_type": "markdown",
      "source": [
        "- Soma todos os números."
      ],
      "metadata": {
        "id": "aRzNGXuSUJwY"
      }
    },
    {
      "cell_type": "code",
      "source": [
        "soma_numeros = reduce(\n",
        "    lambda x, y: x +y, numeros_impares\n",
        ")\n",
        "print(soma_numeros)"
      ],
      "metadata": {
        "colab": {
          "base_uri": "https://localhost:8080/"
        },
        "id": "RIw7-NpoUPGe",
        "outputId": "c1238745-8907-4b5a-8a78-673c1f4bf810"
      },
      "execution_count": 71,
      "outputs": [
        {
          "output_type": "stream",
          "name": "stdout",
          "text": [
            "172770\n"
          ]
        }
      ]
    },
    {
      "cell_type": "markdown",
      "source": [
        "- Todos os métodos de uma vez."
      ],
      "metadata": {
        "id": "qMjhMoTyUd6q"
      }
    },
    {
      "cell_type": "code",
      "source": [
        "soma_numeros = reduce(\n",
        "    lambda x, y: x + y,\n",
        "    filter(\n",
        "        lambda numero: numero % 2 != 0,\n",
        "        map(lambda numero: numero ** 2, numeros)\n",
        "    )\n",
        ")\n",
        "print(soma_numeros)"
      ],
      "metadata": {
        "colab": {
          "base_uri": "https://localhost:8080/"
        },
        "id": "Kiz5OcC7Uit2",
        "outputId": "a26a2ee3-f8d4-4bf2-9a8a-3fe9eca961d7"
      },
      "execution_count": 72,
      "outputs": [
        {
          "output_type": "stream",
          "name": "stdout",
          "text": [
            "172770\n"
          ]
        }
      ]
    },
    {
      "cell_type": "markdown",
      "source": [
        "\n",
        "\n",
        "---\n",
        "\n"
      ],
      "metadata": {
        "id": "-VStduxUVFWH"
      }
    }
  ]
}