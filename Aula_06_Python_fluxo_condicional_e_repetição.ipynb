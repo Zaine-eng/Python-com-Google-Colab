{
  "nbformat": 4,
  "nbformat_minor": 0,
  "metadata": {
    "colab": {
      "name": "Aula_06_Python_fluxo_condicional_e_repetição.ipynb",
      "provenance": [],
      "authorship_tag": "ABX9TyOReVf9Taema1lDWpCd0w54",
      "include_colab_link": true
    },
    "kernelspec": {
      "name": "python3",
      "display_name": "Python 3"
    },
    "language_info": {
      "name": "python"
    }
  },
  "cells": [
    {
      "cell_type": "markdown",
      "metadata": {
        "id": "view-in-github",
        "colab_type": "text"
      },
      "source": [
        "<a href=\"https://colab.research.google.com/github/Zaine-eng/Python-com-Google-Colab/blob/main/Aula_06_Python_fluxo_condicional_e_repeti%C3%A7%C3%A3o.ipynb\" target=\"_parent\"><img src=\"https://colab.research.google.com/assets/colab-badge.svg\" alt=\"Open In Colab\"/></a>"
      ]
    },
    {
      "cell_type": "markdown",
      "source": [
        "# **Python Fluxo Condicional & Repetição**"
      ],
      "metadata": {
        "id": "LTVtUQPLJO4u"
      }
    },
    {
      "cell_type": "markdown",
      "source": [
        "# **1. Estrutura condicional if / else / elif**"
      ],
      "metadata": {
        "id": "G_HJoHH9JeR7"
      }
    },
    {
      "cell_type": "markdown",
      "source": [
        "# *1.1.* If / else"
      ],
      "metadata": {
        "id": "DJAIfMoMJ5Mk"
      }
    },
    {
      "cell_type": "markdown",
      "source": [
        "**Altera o fluxo lógico do código**, avalia um valor booleano ou uma comparação lógico. Veja a identificação do código.\n",
        "\n",
        "*Permite tomar decisões para vemos para bloco de código irá executar.*"
      ],
      "metadata": {
        "id": "DbpCdMR5J-pU"
      }
    },
    {
      "cell_type": "code",
      "source": [
        "if <booleano / comparação lógica> == True:\n",
        "  <execute este código>\n",
        "\n",
        "else:\n",
        "  <senão execute este código> "
      ],
      "metadata": {
        "id": "hp2HpdgbKp3w"
      },
      "execution_count": null,
      "outputs": []
    },
    {
      "cell_type": "code",
      "source": [
        "if False: \n",
        "    print('Verdadeiro')\n",
        "else: \n",
        "    print('Falso')"
      ],
      "metadata": {
        "colab": {
          "base_uri": "https://localhost:8080/"
        },
        "id": "iQ08NsseNws7",
        "outputId": "623dce51-5beb-489b-a8dd-b93bc7dcea98"
      },
      "execution_count": 2,
      "outputs": [
        {
          "output_type": "stream",
          "name": "stdout",
          "text": [
            "Falso\n"
          ]
        }
      ]
    },
    {
      "cell_type": "markdown",
      "source": [
        "**Exemplo**: Código de segurança de um cartão de crédito. "
      ],
      "metadata": {
        "id": "vQZcNR6GMjuh"
      }
    },
    {
      "cell_type": "code",
      "execution_count": 3,
      "metadata": {
        "colab": {
          "base_uri": "https://localhost:8080/"
        },
        "id": "i5kTVP2oJNeu",
        "outputId": "42d64ce7-a999-418b-a510-f50f76412c7f"
      },
      "outputs": [
        {
          "output_type": "stream",
          "name": "stdout",
          "text": [
            "False\n"
          ]
        }
      ],
      "source": [
        "codigo_de_seguranca = '250'\n",
        "codigo_seguranca_cadastrado = '562'\n",
        "pode_efetuar_pagamento = codigo_de_seguranca == codigo_seguranca_cadastrado\n",
        "print(pode_efetuar_pagamento)"
      ]
    },
    {
      "cell_type": "markdown",
      "source": [
        "Abaixo temos a condição logo dentro do if. "
      ],
      "metadata": {
        "id": "4_nxxNlDbkUh"
      }
    },
    {
      "cell_type": "code",
      "source": [
        "if codigo_de_seguranca == codigo_seguranca_cadastrado: \n",
        "  print(\"Pagamento efetuado\")\n",
        "else: \n",
        "  print(\"Erro: Código de segurança inválido\")"
      ],
      "metadata": {
        "colab": {
          "base_uri": "https://localhost:8080/"
        },
        "id": "RHoRwmlyRI-W",
        "outputId": "84f23a30-6bee-41b2-a889-b3217f4804e1"
      },
      "execution_count": 4,
      "outputs": [
        {
          "output_type": "stream",
          "name": "stdout",
          "text": [
            "Erro: Código de segurança inválido\n"
          ]
        }
      ]
    },
    {
      "cell_type": "code",
      "source": [
        "if pode_efetuar_pagamento:\n",
        "  print(\"Pagamento efetuado\")\n",
        "else:\n",
        "  print(\"Erro: Código de segurança inválido\")"
      ],
      "metadata": {
        "colab": {
          "base_uri": "https://localhost:8080/"
        },
        "id": "9qcUrrMXbBvh",
        "outputId": "bb88a352-b5b7-4293-f0a4-5e9d303458f7"
      },
      "execution_count": 5,
      "outputs": [
        {
          "output_type": "stream",
          "name": "stdout",
          "text": [
            "Erro: Código de segurança inválido\n"
          ]
        }
      ]
    },
    {
      "cell_type": "markdown",
      "source": [
        "**Exemplo**: Código e senha de segurança de um cartão de crédito "
      ],
      "metadata": {
        "id": "AJDuLFNEbv3V"
      }
    },
    {
      "cell_type": "code",
      "source": [
        "codigo_de_seguranca = '805'\n",
        "codigo_de_seguranca_cadastro = '852'\n",
        "\n",
        "senha = '0000'\n",
        "senha_cadastro = '0000'\n"
      ],
      "metadata": {
        "id": "W9OrmE71bIms"
      },
      "execution_count": 6,
      "outputs": []
    },
    {
      "cell_type": "markdown",
      "source": [
        "**UTILIZE A TABELA VERDADE PARA O ENTENDIMENTO ABAIXO:**"
      ],
      "metadata": {
        "id": "JWyHVmkyc6sn"
      }
    },
    {
      "cell_type": "code",
      "source": [
        "if (codigo_de_seguranca == codigo_de_seguranca_cadastro) & (senha == senha_cadastro): \n",
        "  print(\"Pagamento efetuado\")\n",
        "else:\n",
        "  print(\"Erro: Pagamento não efetuado\")"
      ],
      "metadata": {
        "colab": {
          "base_uri": "https://localhost:8080/"
        },
        "id": "fvs7K8_1dK75",
        "outputId": "8f9b6d5c-7dfb-4746-8f1b-46e0f0efc746"
      },
      "execution_count": 7,
      "outputs": [
        {
          "output_type": "stream",
          "name": "stdout",
          "text": [
            "Erro: Pagamento não efetuado\n"
          ]
        }
      ]
    },
    {
      "cell_type": "markdown",
      "source": [
        "'!=' significa ser diferente."
      ],
      "metadata": {
        "id": "0hiPZ8CDL0eK"
      }
    },
    {
      "cell_type": "code",
      "source": [
        "if (codigo_de_seguranca != codigo_de_seguranca_cadastro) | (senha != senha_cadastro): \n",
        "  print(\"Erro: Pagamento não efetaudo\")\n",
        "else:\n",
        "  print(\"Pagamento efetuado\")"
      ],
      "metadata": {
        "colab": {
          "base_uri": "https://localhost:8080/"
        },
        "id": "mh5jyTLPfy7S",
        "outputId": "5bbe438d-7855-453d-aaf1-f21eb1fe1d18"
      },
      "execution_count": 8,
      "outputs": [
        {
          "output_type": "stream",
          "name": "stdout",
          "text": [
            "Erro: Pagamento não efetaudo\n"
          ]
        }
      ]
    },
    {
      "cell_type": "markdown",
      "source": [
        "Ilustrar o uso do or ou and para a operação. "
      ],
      "metadata": {
        "id": "71K6tOc1MOmW"
      }
    },
    {
      "cell_type": "markdown",
      "source": [
        "# **1.2. if / elif / else**"
      ],
      "metadata": {
        "id": "7eha4NXjgtVO"
      }
    },
    {
      "cell_type": "markdown",
      "source": [
        "Podemos também avaliar múltipla condições."
      ],
      "metadata": {
        "id": "aLAs5Vfdgzd8"
      }
    },
    {
      "cell_type": "markdown",
      "source": [
        "*lembre-se pode utilizar quantas elif for necessário. *"
      ],
      "metadata": {
        "id": "bYXBT926MiTE"
      }
    },
    {
      "cell_type": "code",
      "source": [
        "if <1º booleano / 1ª comparação lógica> == True:\n",
        "  <execute este código se a primeira condição for verdade>\n",
        "elif <2º booleano / 2ª comparação lógica> == True:\n",
        "  <execute este código se a primeira condição for verdade>\n",
        "else:\n",
        "  <senão execute este código> "
      ],
      "metadata": {
        "id": "HzqVLuR7g8DS"
      },
      "execution_count": null,
      "outputs": []
    },
    {
      "cell_type": "code",
      "source": [
        "codigo_de_seguranca = '123'\n",
        "codigo_de_seguranca_cadastro = '123'\n",
        "\n",
        "senha = '9874'\n",
        "senha_cadastro = '0000'"
      ],
      "metadata": {
        "id": "8cW4Y_ejh5oy"
      },
      "execution_count": 28,
      "outputs": []
    },
    {
      "cell_type": "markdown",
      "source": [
        "Uso novamente da tabela verdade abaixo:"
      ],
      "metadata": {
        "id": "MsKeCDngiq64"
      }
    },
    {
      "cell_type": "markdown",
      "source": [
        "![image.png](data:image/png;base64,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)"
      ],
      "metadata": {
        "id": "G32_fKjlifgo"
      }
    },
    {
      "cell_type": "code",
      "source": [
        "if (codigo_de_seguranca == codigo_de_seguranca_cadastro) & (senha == senha_cadastro):\n",
        "  print(\"Pagamento efetuado\")\n",
        "elif (codigo_de_seguranca != codigo_de_seguranca_cadastro) & (senha == senha_cadastro):  \n",
        "  print(\"Erro: Código de segurança inválido\")\n",
        "elif (codigo_de_seguranca == codigo_de_seguranca_cadastro) & (senha != senha_cadastro): \n",
        "  print(\"Erro: Senha inválida\")\n",
        "else:\n",
        "  print(\"Erro: Código de segurança e senha inválidos\")"
      ],
      "metadata": {
        "colab": {
          "base_uri": "https://localhost:8080/"
        },
        "id": "LMDb335FioUb",
        "outputId": "0b3f3ff6-2840-46ab-f846-571da7782900"
      },
      "execution_count": 29,
      "outputs": [
        {
          "output_type": "stream",
          "name": "stdout",
          "text": [
            "Erro: Senha inválida\n"
          ]
        }
      ]
    },
    {
      "cell_type": "markdown",
      "source": [
        "# **2. Estrutura condicional try / except/finally**"
      ],
      "metadata": {
        "id": "49FhWKAPmImb"
      }
    },
    {
      "cell_type": "markdown",
      "source": [
        "# **2.1. Exceção**"
      ],
      "metadata": {
        "id": "K3U3QcaSmRtV"
      }
    },
    {
      "cell_type": "markdown",
      "source": [
        "Exceções são erros que podem acontecer durante a execução do nosso código.\n",
        "\n",
        "**Exemplo**: Erro de operações numéricas que não fazem sentido ou são impossíveis. "
      ],
      "metadata": {
        "id": "uzN8h-yGmf6L"
      }
    },
    {
      "cell_type": "code",
      "source": [
        "preco = 132.85\n",
        "pessoas = 0"
      ],
      "metadata": {
        "id": "fnIHT0ksmx2X"
      },
      "execution_count": 12,
      "outputs": []
    },
    {
      "cell_type": "code",
      "source": [
        "valor_por_pessoa = preco / pessoas "
      ],
      "metadata": {
        "id": "shqoTAPponNr"
      },
      "execution_count": null,
      "outputs": []
    },
    {
      "cell_type": "markdown",
      "source": [
        "**Exemplo**: Erro por combinações de tipos diferentes "
      ],
      "metadata": {
        "id": "u8OK8D0kor1o"
      }
    },
    {
      "cell_type": "code",
      "source": [
        "nome = 'Zaine Vasconcelos'\n",
        "idade = 26.5 \n"
      ],
      "metadata": {
        "id": "4WA3qkx6o4px"
      },
      "execution_count": 35,
      "outputs": []
    },
    {
      "cell_type": "code",
      "source": [
        "apresentacao = 'Fala pessoal, meu nome é ' + nome + ' e eu tenho ' + idade + 'anos'\n"
      ],
      "metadata": {
        "id": "b5D9YnZ4pN1y"
      },
      "execution_count": null,
      "outputs": []
    },
    {
      "cell_type": "markdown",
      "source": [
        "**Exemplo**: Erro de indexação de estruturas de dados."
      ],
      "metadata": {
        "id": "2xSRqut4ozSo"
      }
    },
    {
      "cell_type": "code",
      "source": [
        "anos = [2019,2020,2021]"
      ],
      "metadata": {
        "id": "NLfK99ospp7O"
      },
      "execution_count": 37,
      "outputs": []
    },
    {
      "cell_type": "code",
      "source": [
        "ano_atual = anos [3]"
      ],
      "metadata": {
        "id": "9CGy70wVqFz7"
      },
      "execution_count": null,
      "outputs": []
    },
    {
      "cell_type": "code",
      "source": [
        "cursos = {\n",
        "    'python' : {\n",
        "        'nome' : 'Python para Análise de Dados',\n",
        "        'duracao' : 2.5\n",
        "        },\n",
        "  \n",
        "    'sql' : {\n",
        "            'nome' : 'SQL para Análise de Dados'\n",
        "            'duracao' : 2 \n",
        "        }\n",
        "}"
      ],
      "metadata": {
        "id": "xGTClIJ9qJlW"
      },
      "execution_count": null,
      "outputs": []
    },
    {
      "cell_type": "code",
      "source": [
        "curso_atual = cursos ['analista']"
      ],
      "metadata": {
        "colab": {
          "base_uri": "https://localhost:8080/",
          "height": 165
        },
        "id": "ah4VseG4siax",
        "outputId": "0f33622c-6450-468b-b202-161c34a7e382"
      },
      "execution_count": 39,
      "outputs": [
        {
          "output_type": "error",
          "ename": "NameError",
          "evalue": "ignored",
          "traceback": [
            "\u001b[0;31m---------------------------------------------------------------------------\u001b[0m",
            "\u001b[0;31mNameError\u001b[0m                                 Traceback (most recent call last)",
            "\u001b[0;32m<ipython-input-39-76b91a95b2c0>\u001b[0m in \u001b[0;36m<module>\u001b[0;34m()\u001b[0m\n\u001b[0;32m----> 1\u001b[0;31m \u001b[0mcurso_atual\u001b[0m \u001b[0;34m=\u001b[0m \u001b[0mcursos\u001b[0m \u001b[0;34m[\u001b[0m\u001b[0;34m'analista'\u001b[0m\u001b[0;34m]\u001b[0m\u001b[0;34m\u001b[0m\u001b[0;34m\u001b[0m\u001b[0m\n\u001b[0m",
            "\u001b[0;31mNameError\u001b[0m: name 'cursos' is not defined"
          ]
        }
      ]
    },
    {
      "cell_type": "markdown",
      "source": [
        "2.2. try / except \n",
        "\n",
        "Estrutura para tratar exceções:"
      ],
      "metadata": {
        "id": "IaL0Xih7s4Bk"
      }
    },
    {
      "cell_type": "code",
      "source": [
        "preco = 132.85 \n",
        "pessoas = 0\n",
        "\n",
        "try:\n",
        "  valor_por_pessoa = preco / pessoas\n",
        "  print(valor_por_pessoa)\n",
        "except  ZeroDivisionError:\n",
        "  print(\n",
        "      'Número de pessoas inválido.' +\n",
        "      'Espera-se um valor maior que 0' +\n",
        "      'e obteve-se um valor igual a ' +\n",
        "      str (pessoas)\n",
        "  )"
      ],
      "metadata": {
        "colab": {
          "base_uri": "https://localhost:8080/"
        },
        "id": "Kc0ZhpX7tEJC",
        "outputId": "e5a8d0ae-baaf-4388-d3c9-2a4ec7d5b1d2"
      },
      "execution_count": 43,
      "outputs": [
        {
          "output_type": "stream",
          "name": "stdout",
          "text": [
            "66.425\n"
          ]
        }
      ]
    },
    {
      "cell_type": "markdown",
      "source": [
        "O *exception* registra todo tipo de erro."
      ],
      "metadata": {
        "id": "qIpfxidoTOpQ"
      }
    },
    {
      "cell_type": "code",
      "source": [
        "anos = [2019,2020,2021]\n",
        "\n",
        "try:\n",
        "  ano_atual = anos [3]\n",
        "  print(ano_atual)\n",
        "\n",
        "except Exception:\n",
        "  print(\n",
        "      'Lista de anos é menor' +\n",
        "      ' que o valor escolhido. ' +\n",
        "      ' Espera-se um valor entre 0 e ' +\n",
        "      str (len(anos) -1)\n",
        "  )"
      ],
      "metadata": {
        "colab": {
          "base_uri": "https://localhost:8080/"
        },
        "id": "fZLQszvIvclR",
        "outputId": "3c13aad8-073e-40cb-d139-0e8229ffe95e"
      },
      "execution_count": 44,
      "outputs": [
        {
          "output_type": "stream",
          "name": "stdout",
          "text": [
            "Lista de anos é menor que o valor escolhido.  Espera-se um valor entre 0 e 2\n"
          ]
        }
      ]
    },
    {
      "cell_type": "markdown",
      "source": [
        "explore  erros específicos, não se mantenha ao erro genérico."
      ],
      "metadata": {
        "id": "9x9KpklOT_ES"
      }
    },
    {
      "cell_type": "code",
      "source": [
        "anos = [2019,2020,2021]\n",
        "\n",
        "try:\n",
        "  ano_atual = anos [3]\n",
        "  print(ano_atual)\n",
        "\n",
        "except Exception as exc:\n",
        "  print('Descrição da esceção: ' + str(exc))\n",
        "  print('Tipo de exceção: ' + str(type(exc)))\n",
        "  print( \n",
        "      'Lista de anos é menor que o valor ' + \n",
        "      'escolhido. Espera-se um valor entre 0 e' +\n",
        "      str (len(anos) -1)\n",
        "  )\n"
      ],
      "metadata": {
        "colab": {
          "base_uri": "https://localhost:8080/"
        },
        "id": "c0FmR8iGwYMU",
        "outputId": "ba42bbca-dbf1-482a-9a49-efbe16a2294b"
      },
      "execution_count": 45,
      "outputs": [
        {
          "output_type": "stream",
          "name": "stdout",
          "text": [
            "Descrição da esceção: list index out of range\n",
            "Tipo de exceção: <class 'IndexError'>\n",
            "Lista de anos é menor que o valor escolhido. Espera-se um valor entre 0 e2\n"
          ]
        }
      ]
    },
    {
      "cell_type": "code",
      "source": [
        "anos = [2019,2020,2021]\n",
        "\n",
        "try:\n",
        "  ano_atual = anos [3]\n",
        "  print(ano_atual)\n",
        "\n",
        "except IndexError:\n",
        "  print( \n",
        "      'Lista de anos é menor que o valor ' + \n",
        "      'escolhido. Espera-se um valor entre 0 e' +\n",
        "      str (len(anos) -1)\n",
        "  )\n",
        "except Exception as exc: \n",
        "  print(exc)\n",
        "  print('Erro genérico')"
      ],
      "metadata": {
        "colab": {
          "base_uri": "https://localhost:8080/"
        },
        "id": "tXQuRjJ4xV3M",
        "outputId": "5b0e22a3-d0b2-484c-bcd4-41508f000f9b"
      },
      "execution_count": 46,
      "outputs": [
        {
          "output_type": "stream",
          "name": "stdout",
          "text": [
            "Lista de anos é menor que o valor escolhido. Espera-se um valor entre 0 e2\n"
          ]
        }
      ]
    },
    {
      "cell_type": "markdown",
      "source": [
        "# **2.3 try / except / finally**"
      ],
      "metadata": {
        "id": "Kfy5bkfLx6Sb"
      }
    },
    {
      "cell_type": "markdown",
      "source": [
        "Blocos de *finally* são utilizados mais para conexôes. "
      ],
      "metadata": {
        "id": "Fw9jKYIKXTxG"
      }
    },
    {
      "cell_type": "code",
      "source": [
        "nome = 'Zaine Vasconcelos'\n",
        "idade = 26\n",
        "\n",
        "try:\n",
        "  apresentacao = 'fala pessoal, meu nome é  '  + nome + ' e eu tenho ' + idade + ' anos'\n",
        "  print(apresentacao)\n",
        "except TypeError: \n",
        "  idade = str(idade)\n",
        "finally:\n",
        "  print('Segunda chance')\n",
        "  apresentacao = 'Fala pessoal, meu nome é' + nome + 'e eu tenho ' + idade + 'anos'\n",
        "  print(apresentacao)"
      ],
      "metadata": {
        "colab": {
          "base_uri": "https://localhost:8080/"
        },
        "id": "8_B77OQGyEW7",
        "outputId": "bba59ad8-7d20-4cfb-a635-264c177fc1d4"
      },
      "execution_count": 56,
      "outputs": [
        {
          "output_type": "stream",
          "name": "stdout",
          "text": [
            "Segunda chance\n",
            "Fala pessoal, meu nome éZaine Vasconcelose eu tenho 26anos\n"
          ]
        }
      ]
    },
    {
      "cell_type": "markdown",
      "source": [
        "# **3. Estrutura repetição for / in**"
      ],
      "metadata": {
        "id": "_2L5MIfqzyqv"
      }
    },
    {
      "cell_type": "markdown",
      "source": [
        "# **3.1. for / in**"
      ],
      "metadata": {
        "id": "jVo43eIcz5ya"
      }
    },
    {
      "cell_type": "markdown",
      "source": [
        "Estrutura que permite a execução repetida de um bloco de código repetidas vezes. "
      ],
      "metadata": {
        "id": "CRJhzbaszyLe"
      }
    },
    {
      "cell_type": "code",
      "source": [
        "for variavel_temporaria in coleção: \n",
        "   <execute este código> "
      ],
      "metadata": {
        "id": "g8wNpaFlyOvU"
      },
      "execution_count": null,
      "outputs": []
    },
    {
      "cell_type": "markdown",
      "source": [
        "# **3.2. for / in / range**"
      ],
      "metadata": {
        "id": "mFIanCxV0uK-"
      }
    },
    {
      "cell_type": "markdown",
      "source": [
        "Estrutura que permite a execução repetida de um bloco de código **n** vezes."
      ],
      "metadata": {
        "id": "gaqz8A6X0yoD"
      }
    },
    {
      "cell_type": "markdown",
      "source": [
        "O range permite a gente criar uma coleção temporária de números inteiros."
      ],
      "metadata": {
        "id": "gScNcIv4i9rR"
      }
    },
    {
      "cell_type": "code",
      "source": [
        "for valor in range(6):\n",
        "  print(valor)"
      ],
      "metadata": {
        "colab": {
          "base_uri": "https://localhost:8080/"
        },
        "id": "KHO6GExc0_uf",
        "outputId": "e1d0fefd-447e-41e4-cb9f-0cbb035d4404"
      },
      "execution_count": 60,
      "outputs": [
        {
          "output_type": "stream",
          "name": "stdout",
          "text": [
            "0\n",
            "1\n",
            "2\n",
            "3\n",
            "4\n",
            "5\n"
          ]
        }
      ]
    },
    {
      "cell_type": "markdown",
      "source": [
        "Outra forma de usar o Range é definimos um valor inicial e outro valor final."
      ],
      "metadata": {
        "id": "_nKxNvFKjcc5"
      }
    },
    {
      "cell_type": "code",
      "source": [
        "soma = 0 \n",
        "\n",
        "for valor in range(0, 10):\n",
        "  soma = soma + valor\n",
        "  print(soma)\n",
        "\n",
        "\n",
        "#print do valor da soma do final do processo. \n",
        "print(soma)"
      ],
      "metadata": {
        "colab": {
          "base_uri": "https://localhost:8080/"
        },
        "id": "j0aJ5JCs1b9j",
        "outputId": "8fcbaa70-0ea5-4887-fbc0-988a73a72c35"
      },
      "execution_count": 64,
      "outputs": [
        {
          "output_type": "stream",
          "name": "stdout",
          "text": [
            "0\n",
            "1\n",
            "3\n",
            "6\n",
            "10\n",
            "15\n",
            "21\n",
            "28\n",
            "36\n",
            "45\n",
            "45\n"
          ]
        }
      ]
    },
    {
      "cell_type": "markdown",
      "source": [
        "Nesse uso do Range abaixo podemos especificar quantos passos queremos para a interação."
      ],
      "metadata": {
        "id": "4RlLfvs8kdWc"
      }
    },
    {
      "cell_type": "markdown",
      "source": [
        "Abaixo vemos ele inteirar de 2 até 9, que seria '10-1', com passos de 2."
      ],
      "metadata": {
        "id": "z25XIqatkzhP"
      }
    },
    {
      "cell_type": "code",
      "source": [
        "for multiplo_dois in range(2, 10, 2): \n",
        "  print(multiplo_dois)"
      ],
      "metadata": {
        "colab": {
          "base_uri": "https://localhost:8080/"
        },
        "id": "qvgUrnTq1uPT",
        "outputId": "d4f472b5-a0d5-41df-95e0-7d0957fa517b"
      },
      "execution_count": 65,
      "outputs": [
        {
          "output_type": "stream",
          "name": "stdout",
          "text": [
            "2\n",
            "4\n",
            "6\n",
            "8\n"
          ]
        }
      ]
    },
    {
      "cell_type": "markdown",
      "source": [
        "# **3.3 for / in/ list**"
      ],
      "metadata": {
        "id": "QwVdt1Al15Um"
      }
    },
    {
      "cell_type": "markdown",
      "source": [
        "Estrutura que permite a execução de um bloco de código para todos os elementos de uma lista. "
      ],
      "metadata": {
        "id": "qH0ImSdu2Wtx"
      }
    },
    {
      "cell_type": "markdown",
      "source": [
        "Quando definimos listas é interrantes defini-las no plural, pois ela sempre estará guardando elementos do mesmo tipo. "
      ],
      "metadata": {
        "id": "U5A0n7mYlZdv"
      }
    },
    {
      "cell_type": "code",
      "source": [
        "frutas = [\n",
        "         'maça',\n",
        "         'banana',\n",
        "         'laranja',\n",
        "         'uva',\n",
        "         'pera'\n",
        "]\n",
        "\n",
        "for fruta in frutas:\n",
        "  print(fruta)"
      ],
      "metadata": {
        "colab": {
          "base_uri": "https://localhost:8080/"
        },
        "id": "eo229iUT2fAt",
        "outputId": "c4309083-9ea0-4dbd-ca53-510d7579a75b"
      },
      "execution_count": 67,
      "outputs": [
        {
          "output_type": "stream",
          "name": "stdout",
          "text": [
            "maça\n",
            "banana\n",
            "laranja\n",
            "uva\n",
            "pera\n"
          ]
        }
      ]
    },
    {
      "cell_type": "code",
      "source": [
        "frase = 'Fala pessoal, meu nome é Zaine Vasconcelos.'\n",
        "\n",
        "for caracter in frase: \n",
        "  if (caracter == 'Z')  | (caracter == 'A'):\n",
        "    print(\n",
        "        f\" A letra '{caracter}' está presente na frase.\"\n",
        "    )"
      ],
      "metadata": {
        "colab": {
          "base_uri": "https://localhost:8080/"
        },
        "id": "LoMXKRmZ7TEJ",
        "outputId": "4a8590a2-df24-41bd-9a4b-76121b08ca83"
      },
      "execution_count": 69,
      "outputs": [
        {
          "output_type": "stream",
          "name": "stdout",
          "text": [
            " A letra 'Z' está presente na frase.\n"
          ]
        }
      ]
    },
    {
      "cell_type": "markdown",
      "source": [
        "Vemos que a letra f concatena strings"
      ],
      "metadata": {
        "id": "Kyvt7Rujm3Z3"
      }
    },
    {
      "cell_type": "markdown",
      "source": [
        "# **3.4 for / in/ dic**\n"
      ],
      "metadata": {
        "id": "WNFJqtkq8zBa"
      }
    },
    {
      "cell_type": "markdown",
      "source": [
        "Estrutura que permite a execução de um bloco de código para todos os elementos de um dicionário. "
      ],
      "metadata": {
        "id": "crStRu0r87rQ"
      }
    },
    {
      "cell_type": "markdown",
      "source": [
        "Dicionário = composto por uma chave : valor."
      ],
      "metadata": {
        "id": "BOn7KXhXnS2w"
      }
    },
    {
      "cell_type": "code",
      "source": [
        "credito = {'123': 750, '456': 812, '789':980}"
      ],
      "metadata": {
        "id": "4oiFb_eU86s1"
      },
      "execution_count": 18,
      "outputs": []
    },
    {
      "cell_type": "markdown",
      "source": [
        "Abaixo o python descreve para cada um dos funcionário o valor da chave/valor em questão. "
      ],
      "metadata": {
        "id": "Gfo8B4bQnisy"
      }
    },
    {
      "cell_type": "code",
      "source": [
        "for chave,valor in credito.items(): \n",
        "  print(f'Para o documento {chave}, o valor de escore de crédito é {valor}.')\n",
        "  print('\\n')"
      ],
      "metadata": {
        "colab": {
          "base_uri": "https://localhost:8080/"
        },
        "id": "ZFhjAS9C9dbe",
        "outputId": "c1cdf269-b2a1-47af-ec8c-0817bc0000a6"
      },
      "execution_count": 74,
      "outputs": [
        {
          "output_type": "stream",
          "name": "stdout",
          "text": [
            "Para o documento 123, o valor de escore de crédito é 750.\n",
            "\n",
            "\n",
            "Para o documento 456, o valor de escore de crédito é 812.\n",
            "\n",
            "\n",
            "Para o documento 789, o valor de escore de crédito é 980.\n",
            "\n",
            "\n"
          ]
        }
      ]
    },
    {
      "cell_type": "markdown",
      "source": [
        "O \\n significa pular a linha."
      ],
      "metadata": {
        "id": "Hel4xORyoC6q"
      }
    },
    {
      "cell_type": "markdown",
      "source": [
        "Agora vamos atuar apenas em cima das chaves: "
      ],
      "metadata": {
        "id": "8Mx-FkUxpNwH"
      }
    },
    {
      "cell_type": "code",
      "source": [
        "for chave in credito.keys():\n",
        "  print(chave)\n",
        "  print(credito[chave])\n",
        "  print(f'Para o documento {chave}, o valor do escore de crédito é {credito[chave]}.')\n",
        "  print('\\n')   "
      ],
      "metadata": {
        "colab": {
          "base_uri": "https://localhost:8080/"
        },
        "id": "_3LcY_N7-FjR",
        "outputId": "eae1d227-c759-4cea-9761-18d56e3625ab"
      },
      "execution_count": 78,
      "outputs": [
        {
          "output_type": "stream",
          "name": "stdout",
          "text": [
            "123\n",
            "750\n",
            "Para o documento 123, o valor do escore de crédito é 750.\n",
            "\n",
            "\n",
            "456\n",
            "812\n",
            "Para o documento 456, o valor do escore de crédito é 812.\n",
            "\n",
            "\n",
            "789\n",
            "980\n",
            "Para o documento 789, o valor do escore de crédito é 980.\n",
            "\n",
            "\n"
          ]
        }
      ]
    },
    {
      "cell_type": "markdown",
      "source": [
        "Abaixo perdemos a referência do valor da chave."
      ],
      "metadata": {
        "id": "hQCGHv_yqLT4"
      }
    },
    {
      "cell_type": "code",
      "source": [
        "for valor in credito.values():\n",
        "  print(valor)\n",
        "  print(\n",
        "      f' O valor do escore de crédito é' + '{valor}, mas não temos mais as chaves:(.'\n",
        "  )\n",
        "  print('\\n')"
      ],
      "metadata": {
        "colab": {
          "base_uri": "https://localhost:8080/"
        },
        "id": "sBNo-L-F_rc6",
        "outputId": "c265bc17-df8e-407f-843b-c0440ba25db2"
      },
      "execution_count": 19,
      "outputs": [
        {
          "output_type": "stream",
          "name": "stdout",
          "text": [
            "750\n",
            " O valor do escore de crédito é{valor}, mas não temos mais as chaves:(.\n",
            "\n",
            "\n",
            "812\n",
            " O valor do escore de crédito é{valor}, mas não temos mais as chaves:(.\n",
            "\n",
            "\n",
            "980\n",
            " O valor do escore de crédito é{valor}, mas não temos mais as chaves:(.\n",
            "\n",
            "\n"
          ]
        }
      ]
    },
    {
      "cell_type": "markdown",
      "source": [
        "# **3.5. break / continue**"
      ],
      "metadata": {
        "id": "q-UmdvpKAluv"
      }
    },
    {
      "cell_type": "markdown",
      "source": [
        "Estrutura que permite a quebra ou avanço de um laço de repetição. "
      ],
      "metadata": {
        "id": "xBnEXfJFAq91"
      }
    },
    {
      "cell_type": "markdown",
      "source": [
        "O break = quebra do loop. "
      ],
      "metadata": {
        "id": "BGk5eLQXqbsF"
      }
    },
    {
      "cell_type": "code",
      "source": [
        "for i in range(0,10*10*10*10*10*10):\n",
        "  print(i)\n",
        "  if i == 3:\n",
        "    break "
      ],
      "metadata": {
        "colab": {
          "base_uri": "https://localhost:8080/"
        },
        "id": "0OBBmUUGAynz",
        "outputId": "277d3632-5dd8-49ef-ad33-c76595e0cae2"
      },
      "execution_count": 82,
      "outputs": [
        {
          "output_type": "stream",
          "name": "stdout",
          "text": [
            "0\n",
            "1\n",
            "2\n",
            "3\n"
          ]
        }
      ]
    },
    {
      "cell_type": "markdown",
      "source": [
        "O operador % retira o módulo."
      ],
      "metadata": {
        "id": "XAVghPMnqywz"
      }
    },
    {
      "cell_type": "code",
      "source": [
        "numero = 3\n",
        "\n",
        "if numero % 2 == 0:\n",
        "  print(f'O numero {numero} é par')\n",
        "else:\n",
        "  print(f'O numero {numero} é impar')"
      ],
      "metadata": {
        "colab": {
          "base_uri": "https://localhost:8080/"
        },
        "id": "n03U1tlwBV8F",
        "outputId": "13e12b85-8d60-4ec6-8d8b-ddf1c46d12fb"
      },
      "execution_count": 83,
      "outputs": [
        {
          "output_type": "stream",
          "name": "stdout",
          "text": [
            "O numero 3 é impar\n"
          ]
        }
      ]
    },
    {
      "cell_type": "markdown",
      "source": [
        "Jogamos o laço **for** dentro de uma coleção de números, ou seja, ao encontrar o valor que procuramos, damos um brek no loop."
      ],
      "metadata": {
        "id": "RWLMkwburWsm"
      }
    },
    {
      "cell_type": "code",
      "source": [
        "numeros = [361, 553, 194, 13, 510, 33, 135]\n",
        "\n",
        "for numero in numeros: \n",
        "\n",
        "  if numero % 2 == 0: \n",
        "    print(f'O numero {numero} é par')\n",
        "    break\n",
        "  else:\n",
        "    print(f'O numero {numero} é impar')"
      ],
      "metadata": {
        "colab": {
          "base_uri": "https://localhost:8080/"
        },
        "id": "M-a6SdvvBsS6",
        "outputId": "99fa4ab1-8ce1-43a2-d391-7f67be1f9be5"
      },
      "execution_count": 84,
      "outputs": [
        {
          "output_type": "stream",
          "name": "stdout",
          "text": [
            "O numero 361 é impar\n",
            "O numero 553 é impar\n",
            "O numero 194 é par\n"
          ]
        }
      ]
    },
    {
      "cell_type": "markdown",
      "source": [
        "Quando chega no **continue** o código não executa o restante do código, parte para a próxima repetição. \n",
        "\n",
        "(no exemplo abaixo, temos o uso do **break** e do **continue**)"
      ],
      "metadata": {
        "id": "x4nIxMQPr1Q_"
      }
    },
    {
      "cell_type": "code",
      "source": [
        "numeros = [361, 553, 194, 13, 510, 33, 135]\n",
        "\n",
        "for numero in numeros: \n",
        "\n",
        "  if numero % 2 == 0: \n",
        "    print(f'O numero {numero} é par')\n",
        "    break\n",
        "  else:\n",
        "    continue\n",
        "    print(f'O numero {numero} é impar')"
      ],
      "metadata": {
        "colab": {
          "base_uri": "https://localhost:8080/"
        },
        "id": "FSAnBUizrvo5",
        "outputId": "835be32d-d594-4238-851d-1ece70f3f64b"
      },
      "execution_count": 85,
      "outputs": [
        {
          "output_type": "stream",
          "name": "stdout",
          "text": [
            "O numero 194 é par\n"
          ]
        }
      ]
    },
    {
      "cell_type": "markdown",
      "source": [
        "\n",
        "\n",
        "---\n",
        "\n"
      ],
      "metadata": {
        "id": "nCcdnBvaC4ZH"
      }
    },
    {
      "cell_type": "markdown",
      "source": [
        "# **Exercício**"
      ],
      "metadata": {
        "id": "OI7PQck4C8Is"
      }
    },
    {
      "cell_type": "markdown",
      "source": [
        "\n",
        "\n",
        "---\n",
        "\n"
      ],
      "metadata": {
        "id": "wjEvdyc7DETW"
      }
    },
    {
      "cell_type": "markdown",
      "source": [
        "Na lista **propaganda_online** abaixo, estão presente os dados de usuários que\n",
        "acessaram um determinado site e se o mesmo clicou em uma propaganda.\n"
      ],
      "metadata": {
        "id": "hWGSZ8D_DGIM"
      }
    },
    {
      "cell_type": "code",
      "source": [
        "propaganda_online = [\n",
        " {\n",
        " 'tempo_gasto_site': 68.95, 'idade': 35,\n",
        " 'renda_area': 61833.90, 'tempo_gasto_internet': 256.09,\n",
        " 'cidade': 'Wrightburgh', 'pais': 'Tunisia',\n",
        " 'clicou_no_ad': 0\n",
        " },\n",
        " {\n",
        " 'tempo_gasto_site': 80.23, 'idade': 31,\n",
        " 'renda_area': 68441.85, 'tempo_gasto_internet': 193.77,\n",
        " 'cidade': 'West Jodi', 'pais': 'Nauru',\n",
        " 'clicou_no_ad': 0\n",
        " },\n",
        " {\n",
        " 'tempo_gasto_site': 69.47, 'idade': 26,\n",
        " 'renda_area': 59785.94, 'tempo_gasto_internet': 236.50,\n",
        " 'cidade': 'Davidton', 'pais': 'San Marino',\n",
        " 'clicou_no_ad': 0\n",
        " },\n",
        " {\n",
        " 'tempo_gasto_site': 68.37, 'idade': 35,\n",
        " 'renda_area': 73889.99, 'tempo_gasto_internet': 225.58,\n",
        " 'cidade': 'South Manuel', 'pais': 'Iceland',\n",
        " 'clicou_no_ad': 0\n",
        " },\n",
        " {\n",
        " 'tempo_gasto_site': 88.91, 'idade': 33,\n",
        " 'renda_area': 53852.85, 'tempo_gasto_internet': 208.36,\n",
        " 'cidade': 'Brandonstad', 'pais': 'Myanmar',\n",
        " 'clicou_no_ad': 0\n",
        " },\n",
        " {\n",
        " 'tempo_gasto_site': None, 'idade': 48,\n",
        " 'renda_area': 24593.33, 'tempo_gasto_internet': 131.76,\n",
        " 'cidade': 'Port Jefferybury', 'pais': 'Australia',\n",
        " 'clicou_no_ad': 1\n",
        " },\n",
        " {\n",
        " 'tempo_gasto_site': 74.53, 'idade': 30,\n",
        " 'renda_area': 68862.00, 'tempo_gasto_internet': 221.51,\n",
        " 'cidade': 'West Colin', 'pais': 'Grenada'\n",
        " },\n",
        " {\n",
        " 'tempo_gasto_site': 69.88, 'idade': 20,\n",
        " 'renda_area': 55642.32, 'tempo_gasto_internet': 183.82,\n",
        " 'cidade': 'Ramirezton', 'pais': 'Ghana',\n",
        " 'clicou_no_ad': 0\n",
        " }\n",
        "]"
      ],
      "metadata": {
        "id": "VODN9_vhDSNV"
      },
      "execution_count": 88,
      "outputs": []
    },
    {
      "cell_type": "markdown",
      "source": [
        "Para iterar pelos elementos da lista, use o código abaixo."
      ],
      "metadata": {
        "id": "pOQT7ek3DakT"
      }
    },
    {
      "cell_type": "code",
      "source": [
        "for dado_de_usuario in propaganda_online:\n",
        " print(dado_de_usuario)\n"
      ],
      "metadata": {
        "colab": {
          "base_uri": "https://localhost:8080/"
        },
        "id": "Sh6xIp9aDba4",
        "outputId": "f8b21ed1-6e26-49ab-b94b-5df392364de1"
      },
      "execution_count": 89,
      "outputs": [
        {
          "output_type": "stream",
          "name": "stdout",
          "text": [
            "{'tempo_gasto_site': 68.95, 'idade': 35, 'renda_area': 61833.9, 'tempo_gasto_internet': 256.09, 'cidade': 'Wrightburgh', 'pais': 'Tunisia', 'clicou_no_ad': 0}\n",
            "{'tempo_gasto_site': 80.23, 'idade': 31, 'renda_area': 68441.85, 'tempo_gasto_internet': 193.77, 'cidade': 'West Jodi', 'pais': 'Nauru', 'clicou_no_ad': 0}\n",
            "{'tempo_gasto_site': 69.47, 'idade': 26, 'renda_area': 59785.94, 'tempo_gasto_internet': 236.5, 'cidade': 'Davidton', 'pais': 'San Marino', 'clicou_no_ad': 0}\n",
            "{'tempo_gasto_site': 68.37, 'idade': 35, 'renda_area': 73889.99, 'tempo_gasto_internet': 225.58, 'cidade': 'South Manuel', 'pais': 'Iceland', 'clicou_no_ad': 0}\n",
            "{'tempo_gasto_site': 88.91, 'idade': 33, 'renda_area': 53852.85, 'tempo_gasto_internet': 208.36, 'cidade': 'Brandonstad', 'pais': 'Myanmar', 'clicou_no_ad': 0}\n",
            "{'tempo_gasto_site': None, 'idade': 48, 'renda_area': 24593.33, 'tempo_gasto_internet': 131.76, 'cidade': 'Port Jefferybury', 'pais': 'Australia', 'clicou_no_ad': 1}\n",
            "{'tempo_gasto_site': 74.53, 'idade': 30, 'renda_area': 68862.0, 'tempo_gasto_internet': 221.51, 'cidade': 'West Colin', 'pais': 'Grenada'}\n",
            "{'tempo_gasto_site': 69.88, 'idade': 20, 'renda_area': 55642.32, 'tempo_gasto_internet': 183.82, 'cidade': 'Ramirezton', 'pais': 'Ghana', 'clicou_no_ad': 0}\n"
          ]
        }
      ]
    },
    {
      "cell_type": "markdown",
      "source": [
        "1.1. Crie uma lista chamada **paises** com o pais dos usuários com mais de 30 anos."
      ],
      "metadata": {
        "id": "mOVOyKLgDfwr"
      }
    },
    {
      "cell_type": "code",
      "source": [
        " paises = []\n",
        "for dado_de_usuario in propaganda_online:\n",
        "  if (dado_de_usuario['idade']>30):\n",
        "    paises.append(dado_de_usuario['pais'])\n",
        "print(paises)\n"
      ],
      "metadata": {
        "colab": {
          "base_uri": "https://localhost:8080/"
        },
        "id": "MzBEm3KtDjU4",
        "outputId": "2f2a6006-423a-46d4-96e0-d741de174119"
      },
      "execution_count": 100,
      "outputs": [
        {
          "output_type": "stream",
          "name": "stdout",
          "text": [
            "['Tunisia', 'Nauru', 'Iceland', 'Myanmar', 'Australia']\n"
          ]
        }
      ]
    },
    {
      "cell_type": "markdown",
      "source": [
        "1.2. Crie uma lista chamada **leads** com a renda dos usuários que clicaram na\n",
        "propaganda."
      ],
      "metadata": {
        "id": "cqI6-3I3Dq8F"
      }
    },
    {
      "cell_type": "code",
      "source": [
        "leads = []\n",
        "for dado_de_usuario in propaganda_online:\n",
        "  try:\n",
        "    if dado_de_usuario['clicou_no_ad'] > 0:\n",
        "      leads.append(dado_de_usuario)\n",
        "  except KeyError:\n",
        "    print('Há usuários cuja informação de clique na propaganda não foi informada')"
      ],
      "metadata": {
        "colab": {
          "base_uri": "https://localhost:8080/"
        },
        "id": "ASEK3Rw6Dva5",
        "outputId": "127989de-f83f-40b6-8d5d-66da9abbad0f"
      },
      "execution_count": 113,
      "outputs": [
        {
          "output_type": "stream",
          "name": "stdout",
          "text": [
            "Há usuários cuja informação de clique na propaganda não foi informada\n"
          ]
        }
      ]
    },
    {
      "cell_type": "markdown",
      "source": [
        "1.3. Crie uma lista chamada **cidades** com a cidade dos usuários que passaram mais de\n",
        "70 segundos no site."
      ],
      "metadata": {
        "id": "BhcV-2dWD7MB"
      }
    },
    {
      "cell_type": "code",
      "source": [
        "cidades = []\n",
        "\n",
        "for dado_de_usuario in propaganda_online:\n",
        "  try:\n",
        "    if dado_de_usuario['tempo_gasto_site'] > 70:\n",
        "      cidades.append(dado_de_usuario['cidade'])\n",
        "  except TypeError:\n",
        "    print('Impossível descrever lista completa, pois há usuários com campo de tempo do site nulo.')"
      ],
      "metadata": {
        "colab": {
          "base_uri": "https://localhost:8080/"
        },
        "id": "ZlExmYuJEAe0",
        "outputId": "ec10334a-bbed-4770-f98a-f117df776b17"
      },
      "execution_count": 111,
      "outputs": [
        {
          "output_type": "stream",
          "name": "stdout",
          "text": [
            "Impossível descrever lista completa, pois há usuários com campo de tempo do site nulo.\n"
          ]
        }
      ]
    },
    {
      "cell_type": "markdown",
      "source": [
        "\n",
        "\n",
        "---\n",
        "\n"
      ],
      "metadata": {
        "id": "whSRRX3REDaR"
      }
    }
  ]
}