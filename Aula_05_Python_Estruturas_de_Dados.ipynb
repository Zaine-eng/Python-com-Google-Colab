{
  "nbformat": 4,
  "nbformat_minor": 0,
  "metadata": {
    "colab": {
      "name": "Aula_05_Python_Estruturas_de_Dados.ipynb",
      "provenance": [],
      "collapsed_sections": [],
      "authorship_tag": "ABX9TyPplfx+WYMnCQyAcNg8wZpy",
      "include_colab_link": true
    },
    "kernelspec": {
      "name": "python3",
      "display_name": "Python 3"
    },
    "language_info": {
      "name": "python"
    }
  },
  "cells": [
    {
      "cell_type": "markdown",
      "metadata": {
        "id": "view-in-github",
        "colab_type": "text"
      },
      "source": [
        "<a href=\"https://colab.research.google.com/github/Zaine-eng/Python-para-an-lise-de-dados/blob/main/Aula_05_Python_Estruturas_de_Dados.ipynb\" target=\"_parent\"><img src=\"https://colab.research.google.com/assets/colab-badge.svg\" alt=\"Open In Colab\"/></a>"
      ]
    },
    {
      "cell_type": "markdown",
      "source": [
        "# **Estrutura de dados**"
      ],
      "metadata": {
        "id": "xgfogz9oGiB_"
      }
    },
    {
      "cell_type": "markdown",
      "source": [
        "# 1. Listas "
      ],
      "metadata": {
        "id": "4f3JosmfG2Zu"
      }
    },
    {
      "cell_type": "markdown",
      "source": [
        "# **1.1 Problema**"
      ],
      "metadata": {
        "id": "nXIjet3GG6uX"
      }
    },
    {
      "cell_type": "markdown",
      "source": [
        "O aplicativo do seu banco registra toda a sua movimentação financeira. O final do dia, o app consolida o saldo final para que você possa controlar sua vida financeira.\n"
      ],
      "metadata": {
        "id": "vLlgkrasG-4h"
      }
    },
    {
      "cell_type": "code",
      "execution_count": 2,
      "metadata": {
        "id": "YjpgSiZFEm6D"
      },
      "outputs": [],
      "source": [
        " dia_30_saldo_inicial = 1000\n",
        " "
      ]
    },
    {
      "cell_type": "code",
      "source": [
        "dia_30_transacao_1 = 592\n",
        "dia_30_transacao_2 = 800\n",
        "dia_30_transacao_3 = 400\n",
        "dia_30_transacao_4 = -52\n",
        "dia_30_transacao_5 = -900\n",
        "dia_30_transacao_6 = -100"
      ],
      "metadata": {
        "id": "5b2pkDAdHfAZ"
      },
      "execution_count": 10,
      "outputs": []
    },
    {
      "cell_type": "code",
      "source": [
        "dia_30_saldo_final = dia_30_saldo_inicial + dia_30_transacao_1 + dia_30_transacao_2 + dia_30_transacao_3 + dia_30_transacao_4 + dia_30_transacao_5 + dia_30_transacao_6"
      ],
      "metadata": {
        "id": "pepqQFrTH1Wx"
      },
      "execution_count": 8,
      "outputs": []
    },
    {
      "cell_type": "code",
      "source": [
        "print(dia_30_saldo_final)"
      ],
      "metadata": {
        "colab": {
          "base_uri": "https://localhost:8080/"
        },
        "id": "MyMv12X-IXGT",
        "outputId": "82548468-aa4e-4b01-a4ed-949fc9d3ff9b"
      },
      "execution_count": 9,
      "outputs": [
        {
          "output_type": "stream",
          "name": "stdout",
          "text": [
            "1740\n"
          ]
        }
      ]
    },
    {
      "cell_type": "markdown",
      "source": [
        "Se você for pensar um pouco, quantas variáveis você vai precisar armazenar, qual a seria a melhor força de diminuir o valor da memória dessas variáveis"
      ],
      "metadata": {
        "id": "4d756HlPIxkq"
      }
    },
    {
      "cell_type": "markdown",
      "source": [
        "Vamos entender e discurtir um pouco isso abaixo."
      ],
      "metadata": {
        "id": "TwgPG-B4JBtf"
      }
    },
    {
      "cell_type": "markdown",
      "source": [
        "# **1.2 Definição**"
      ],
      "metadata": {
        "id": "_Xs7AB6BJN4o"
      }
    },
    {
      "cell_type": "markdown",
      "source": [
        "Armazenam sequências mutáveis e ordenadas de valores. São do tipo *list*: "
      ],
      "metadata": {
        "id": "n4MmKEhgJVyi"
      }
    },
    {
      "cell_type": "markdown",
      "source": [
        "Obs: Ao se utilizar uma lista esta deve vir entre colchetes - [ ]"
      ],
      "metadata": {
        "id": "IN0iWfTZJnz8"
      }
    },
    {
      "cell_type": "code",
      "source": [
        "usuario_web = ['Zaine_Silva','zaine.silva','zaine789','zaine.vasconcelos@gmail.com']\n",
        "\n",
        "print (usuario_web)\n",
        "print(type(usuario_web))\n"
      ],
      "metadata": {
        "colab": {
          "base_uri": "https://localhost:8080/"
        },
        "id": "749UEqdvJ8Wd",
        "outputId": "3a545926-940e-4f68-8928-60cc86fb0fc7"
      },
      "execution_count": 14,
      "outputs": [
        {
          "output_type": "stream",
          "name": "stdout",
          "text": [
            "['Zaine_Silva', 'zaine.silva', 'zaine789', 'zaine.vasconcelos@gmail.com']\n",
            "<class 'list'>\n"
          ]
        }
      ]
    },
    {
      "cell_type": "code",
      "source": [
        "idade = 26\n",
        "saldo_em_conta = 1740\n",
        "usuario_loggedin = True\n",
        "\n",
        "usuario_web = ['Zaine_Silva','zaine.silva','zaine789','zaine.vasconcelos@gmail.com', saldo_em_conta, usuario_loggedin ]\n",
        "\n",
        "print (usuario_web)\n",
        "print(type(usuario_web))\n"
      ],
      "metadata": {
        "colab": {
          "base_uri": "https://localhost:8080/"
        },
        "id": "AS2dU8Z8JkIA",
        "outputId": "2e34c3b6-b43b-4690-f05a-131138b6e6ba"
      },
      "execution_count": 16,
      "outputs": [
        {
          "output_type": "stream",
          "name": "stdout",
          "text": [
            "['Zaine_Silva', 'zaine.silva', 'zaine789', 'zaine.vasconcelos@gmail.com', 1740, True]\n",
            "<class 'list'>\n"
          ]
        }
      ]
    },
    {
      "cell_type": "markdown",
      "source": [
        "# **1.3. Operações**"
      ],
      "metadata": {
        "id": "ZGtJSpbJON6O"
      }
    },
    {
      "cell_type": "markdown",
      "source": [
        "Obs: entenda mutável como uma alteração no código na maneira que você desejar, ou seja, você consegue transformar um antigo valor em outro sem alteração do todo, ao detalhar o código abaixo você irá entender. 🌼"
      ],
      "metadata": {
        "id": "xSIisiN7QnIF"
      }
    },
    {
      "cell_type": "markdown",
      "source": [
        "As operações da estrutura do tipo *list* são:\n",
        "\n",
        "\n",
        "*   *(concatenação).\n",
        "\n",
        "\n"
      ],
      "metadata": {
        "id": "sW3oV2unOXDB"
      }
    },
    {
      "cell_type": "markdown",
      "source": [
        "**Exemplo**: Fabricantes de hardware mobile"
      ],
      "metadata": {
        "id": "lZ-4azgiO1Q_"
      }
    },
    {
      "cell_type": "code",
      "source": [
        "fabricantes_mobile_china = [ 'xiaomi', 'huawei']\n",
        "fabricantes_mobile_eua = [ 'apple', 'motorola']\n",
        "fabricantes_mobile = fabricantes_mobile_china +  fabricantes_mobile_eua\n",
        "\n",
        "print(fabricantes_mobile_china)\n",
        "print(fabricantes_mobile_eua)\n",
        "print(fabricantes_mobile)\n"
      ],
      "metadata": {
        "colab": {
          "base_uri": "https://localhost:8080/"
        },
        "id": "z2RavG4pPAyb",
        "outputId": "36b3377d-6387-49c0-863a-cce19249e7b2"
      },
      "execution_count": 1,
      "outputs": [
        {
          "output_type": "stream",
          "name": "stdout",
          "text": [
            "['xiaomi', 'huawei']\n",
            "['apple', 'motorola']\n",
            "['xiaomi', 'huawei', 'apple', 'motorola']\n"
          ]
        }
      ]
    },
    {
      "cell_type": "markdown",
      "source": [
        "Outra operação muito utilizada é a de fatiamento (*slicing*), semelhandte ao de *strings*: \n",
        "\n",
        "Fatiamento fixo:"
      ],
      "metadata": {
        "id": "bdz3aZX2vjYR"
      }
    },
    {
      "cell_type": "code",
      "source": [
        "print(f'0: {fabricantes_mobile[0]}')\n",
        "print(f'-1: {fabricantes_mobile[-1]}')"
      ],
      "metadata": {
        "colab": {
          "base_uri": "https://localhost:8080/"
        },
        "id": "J-Jakbl9u3W5",
        "outputId": "8d87be45-1f41-40b6-99e4-ad83d27f783b"
      },
      "execution_count": 3,
      "outputs": [
        {
          "output_type": "stream",
          "name": "stdout",
          "text": [
            "0: xiaomi\n",
            "-1: motorola\n"
          ]
        }
      ]
    },
    {
      "cell_type": "markdown",
      "source": [
        "Veja que na lista desejada foi retirado o valor inicial correspondente a posição zero e -1 caracteriza-se a posição de trás para frente. \n"
      ],
      "metadata": {
        "id": "zkZdrnP-wfZz"
      }
    },
    {
      "cell_type": "markdown",
      "source": [
        "Fatiamento por intervalo: "
      ],
      "metadata": {
        "id": "hdh1wWD3wyK-"
      }
    },
    {
      "cell_type": "code",
      "source": [
        "fabricantes_mobile_china = fabricantes_mobile [0:2]\n",
        "fabricantes_mobile_eua = fabricantes_mobile [2:len(fabricantes_mobile)]\n",
        "\n",
        "print('china: ' + str(fabricantes_mobile_china))\n",
        "print('eua: ' + str(fabricantes_mobile_eua))\n"
      ],
      "metadata": {
        "colab": {
          "base_uri": "https://localhost:8080/"
        },
        "id": "6GM7DAUgwv3B",
        "outputId": "19cccddb-9621-403c-ef6a-4be914cae89d"
      },
      "execution_count": 4,
      "outputs": [
        {
          "output_type": "stream",
          "name": "stdout",
          "text": [
            "china: ['xiaomi', 'huawei']\n",
            "eua: ['apple', 'motorola']\n"
          ]
        }
      ]
    },
    {
      "cell_type": "markdown",
      "source": [
        "Acima destacamos a parte da lista global indicada como de fabricante_mobile e separamos a pertencente a china e aos eua dentro desta. "
      ],
      "metadata": {
        "id": "3pRRKnvtxrEL"
      }
    },
    {
      "cell_type": "code",
      "source": [
        "print(fabricantes_mobile)"
      ],
      "metadata": {
        "colab": {
          "base_uri": "https://localhost:8080/"
        },
        "id": "uwnCk51NyObE",
        "outputId": "78a0e640-fe7f-4f19-e484-1f4a2f0c5965"
      },
      "execution_count": 5,
      "outputs": [
        {
          "output_type": "stream",
          "name": "stdout",
          "text": [
            "['xiaomi', 'huawei', 'apple', 'motorola']\n"
          ]
        }
      ]
    },
    {
      "cell_type": "code",
      "source": [
        "fabricantes_mobile[2] = 'nokia'\n",
        "print(fabricantes_mobile)"
      ],
      "metadata": {
        "colab": {
          "base_uri": "https://localhost:8080/"
        },
        "id": "YFq8-Fj2yUKl",
        "outputId": "2ed43bee-e4d3-4a36-83cf-e72b66215dbc"
      },
      "execution_count": 6,
      "outputs": [
        {
          "output_type": "stream",
          "name": "stdout",
          "text": [
            "['xiaomi', 'huawei', 'nokia', 'motorola']\n"
          ]
        }
      ]
    },
    {
      "cell_type": "markdown",
      "source": [
        "A posição 2 foi trocada, no lugar de apple passou a ser nokia. "
      ],
      "metadata": {
        "id": "_jJCUX8fyjoa"
      }
    },
    {
      "cell_type": "markdown",
      "source": [
        "# **1.4. Métodos**"
      ],
      "metadata": {
        "id": "3R6HG4EVy0u9"
      }
    },
    {
      "cell_type": "markdown",
      "source": [
        "O métodos nativos do Python que nos ajudam a trabalhar no dia a dia com listas."
      ],
      "metadata": {
        "id": "2I-AFfoHzPAq"
      }
    },
    {
      "cell_type": "code",
      "source": [
        "juros = [0.05, 0.07, 0.02, 0.04, 0.08]"
      ],
      "metadata": {
        "id": "ZXixnPqezPmg"
      },
      "execution_count": 8,
      "outputs": []
    },
    {
      "cell_type": "code",
      "source": [
        "# inserir um elemento sem substituir: list.insert(index, val)\n",
        "juros.insert(0, 0.10)\n",
        "print(juros)"
      ],
      "metadata": {
        "colab": {
          "base_uri": "https://localhost:8080/"
        },
        "id": "8v4AKDggzop1",
        "outputId": "6dc3b975-4c3f-4f78-d2ad-b7659b3766e1"
      },
      "execution_count": 9,
      "outputs": [
        {
          "output_type": "stream",
          "name": "stdout",
          "text": [
            "[0.1, 0.05, 0.07, 0.02, 0.04, 0.08]\n"
          ]
        }
      ]
    },
    {
      "cell_type": "code",
      "source": [
        "# inserir um  elemento no fim da lista: list.append(val)\n",
        "juros.append(0.09)\n",
        "print(juros)"
      ],
      "metadata": {
        "colab": {
          "base_uri": "https://localhost:8080/"
        },
        "id": "XYRANosy0HW0",
        "outputId": "c6aa883c-9ba3-45a5-eb3e-656c515b6b54"
      },
      "execution_count": 10,
      "outputs": [
        {
          "output_type": "stream",
          "name": "stdout",
          "text": [
            "[0.1, 0.05, 0.07, 0.02, 0.04, 0.08, 0.09]\n"
          ]
        }
      ]
    },
    {
      "cell_type": "code",
      "source": [
        "# remover um elemento peo valor: list.remove(val)\n",
        "juros.remove(0.1)\n",
        "print(juros)"
      ],
      "metadata": {
        "colab": {
          "base_uri": "https://localhost:8080/"
        },
        "id": "Q1wjMxey0ylC",
        "outputId": "626defdc-564e-4518-8179-64aa78ec9e69"
      },
      "execution_count": 11,
      "outputs": [
        {
          "output_type": "stream",
          "name": "stdout",
          "text": [
            "[0.05, 0.07, 0.02, 0.04, 0.08, 0.09]\n"
          ]
        }
      ]
    },
    {
      "cell_type": "code",
      "source": [
        "# remover um elemento pelo índice: list.pop(val)\n",
        "terceiro_juros = juros.pop(2)\n",
        "print(terceiro_juros)"
      ],
      "metadata": {
        "colab": {
          "base_uri": "https://localhost:8080/"
        },
        "id": "lIwuI9AX1Cw1",
        "outputId": "5fac2f30-92d9-4a91-a648-e832e28d452d"
      },
      "execution_count": 12,
      "outputs": [
        {
          "output_type": "stream",
          "name": "stdout",
          "text": [
            "0.02\n"
          ]
        }
      ]
    },
    {
      "cell_type": "code",
      "source": [
        "print(juros)"
      ],
      "metadata": {
        "colab": {
          "base_uri": "https://localhost:8080/"
        },
        "id": "gqQxJ2uK1Zlu",
        "outputId": "82f2bf07-3c45-4a62-b4b0-840cb287abf4"
      },
      "execution_count": 13,
      "outputs": [
        {
          "output_type": "stream",
          "name": "stdout",
          "text": [
            "[0.05, 0.07, 0.04, 0.08, 0.09]\n"
          ]
        }
      ]
    },
    {
      "cell_type": "markdown",
      "source": [
        "Note que o último print feito o elemento que corresponde a posição 2 foi removido."
      ],
      "metadata": {
        "id": "OBPtj1baznSH"
      }
    },
    {
      "cell_type": "markdown",
      "source": [
        "# **1.5. Conversão**"
      ],
      "metadata": {
        "id": "aJR1vxqT1oWi"
      }
    },
    {
      "cell_type": "markdown",
      "source": [
        "Podemos converter alguns tipos de variáveis em listas, como *strings*. "
      ],
      "metadata": {
        "id": "tT-1ljqq1xdt"
      }
    },
    {
      "cell_type": "code",
      "source": [
        "email = 'zaine.silva@gamisl.com'\n",
        "caracteres_email = list(email)\n",
        "\n",
        "print(email)\n",
        "print(caracteres_email)\n",
        "print(type(caracteres_email))"
      ],
      "metadata": {
        "colab": {
          "base_uri": "https://localhost:8080/"
        },
        "id": "M-MEXE9215gy",
        "outputId": "85c59e52-fe5e-4775-d5c6-abf0c3f7c025"
      },
      "execution_count": 15,
      "outputs": [
        {
          "output_type": "stream",
          "name": "stdout",
          "text": [
            "zaine.silva@gamisl.com\n",
            "['z', 'a', 'i', 'n', 'e', '.', 's', 'i', 'l', 'v', 'a', '@', 'g', 'a', 'm', 'i', 's', 'l', '.', 'c', 'o', 'm']\n",
            "<class 'list'>\n"
          ]
        }
      ]
    },
    {
      "cell_type": "markdown",
      "source": [
        "# **1.6. Pensando no problema proposto**"
      ],
      "metadata": {
        "id": "l4BUZiIn2a06"
      }
    },
    {
      "cell_type": "code",
      "source": [
        "dia_30_saldo_inicial = 1000"
      ],
      "metadata": {
        "id": "YrrAf4Ju2jjJ"
      },
      "execution_count": 20,
      "outputs": []
    },
    {
      "cell_type": "code",
      "source": [
        "dia_30_transacoes = []\n",
        "\n",
        "dia_30_transacoes.append(592)\n",
        "dia_30_transacoes.append(800)\n",
        "dia_30_transacoes.append(400)\n",
        "dia_30_transacoes.append(-52)\n",
        "dia_30_transacoes.append(-900)\n",
        "dia_30_transacoes.append(-100)\n",
        "\n",
        "print(dia_30_transacoes)"
      ],
      "metadata": {
        "colab": {
          "base_uri": "https://localhost:8080/"
        },
        "id": "vJdsrAGo4p3H",
        "outputId": "399038ae-de24-4fdb-c893-c8a29df82960"
      },
      "execution_count": 19,
      "outputs": [
        {
          "output_type": "stream",
          "name": "stdout",
          "text": [
            "[592, 800, 400, -52, -900, -100]\n"
          ]
        }
      ]
    },
    {
      "cell_type": "code",
      "source": [
        "dia_30_saldo_final = dia_30_saldo_inicial + dia_30_transacoes[0] + dia_30_transacoes[1] + dia_30_transacoes[2] + dia_30_transacoes[3] + dia_30_transacoes[4] + dia_30_transacoes[5]\n",
        "\n",
        "print(dia_30_saldo_final)"
      ],
      "metadata": {
        "colab": {
          "base_uri": "https://localhost:8080/"
        },
        "id": "XUIdDjqi5qPD",
        "outputId": "6c3901c4-54c1-4827-dade-6b9c5d429acb"
      },
      "execution_count": 22,
      "outputs": [
        {
          "output_type": "stream",
          "name": "stdout",
          "text": [
            "1740\n"
          ]
        }
      ]
    },
    {
      "cell_type": "markdown",
      "source": [
        "# **2. Conjuntos**"
      ],
      "metadata": {
        "id": "j_kHLNX77W9-"
      }
    },
    {
      "cell_type": "markdown",
      "source": [
        "# **2.1. Problema proposto**"
      ],
      "metadata": {
        "id": "xGFAaQ1S7c_j"
      }
    },
    {
      "cell_type": "markdown",
      "source": [
        "Você trabalha como analista de dados de mídias sociais e precisa descobrir todas as\n",
        "*hashtags* que alcançaram o top trending do Twitter durante uma semana. Você já\n",
        "conseguiu as *hashtags* por dia da semana:"
      ],
      "metadata": {
        "id": "F0rNe2su8C1Y"
      }
    },
    {
      "cell_type": "code",
      "source": [
        "hashtags_seg = ['#tiago', '#joao', '#bbb']\n",
        "hashtags_ter = ['#sarah', '#bbb', '#fiuk']\n",
        "hashtags_qua = ['#gil', '#thelma', '#lourdes']\n",
        "hashtags_qui = ['#rafa', '#fora', '#danilo']\n",
        "hashtags_sex = ['#juliete', '#arthur', '#bbb']"
      ],
      "metadata": {
        "id": "Sgy2-2Q58MPH"
      },
      "execution_count": 24,
      "outputs": []
    },
    {
      "cell_type": "markdown",
      "source": [
        "Um simples concateção de listas fará com que a *hashtag* #bbb, entre outras, apareça\n",
        "mais de uma vez."
      ],
      "metadata": {
        "id": "g-RjrAJU9GZx"
      }
    },
    {
      "cell_type": "code",
      "source": [
        "hashtags_semana = hashtags_seg + hashtags_ter + hashtags_qua + hashtags_qui + hashtags_sex\n",
        "\n",
        "print(hashtags_semana)"
      ],
      "metadata": {
        "colab": {
          "base_uri": "https://localhost:8080/"
        },
        "id": "twtKdKPf9K9R",
        "outputId": "9d54e5a0-0139-43df-8a18-393502a7ab9c"
      },
      "execution_count": 25,
      "outputs": [
        {
          "output_type": "stream",
          "name": "stdout",
          "text": [
            "['#tiago', '#joao', '#bbb', '#sarah', '#bbb', '#fiuk', '#gil', '#thelma', '#lourdes', '#rafa', '#fora', '#danilo', '#juliete', '#arthur', '#bbb']\n"
          ]
        }
      ]
    },
    {
      "cell_type": "markdown",
      "source": [
        "# **2.2 Definição**"
      ],
      "metadata": {
        "id": "nSYQT_q496lR"
      }
    },
    {
      "cell_type": "markdown",
      "source": [
        "Armazenam sequências imutáveis e desordenadas valores, sem repetição. São do tipo *set*: \n",
        "\n",
        "```\n",
        "# Isto está formatado como código\n",
        "```\n",
        "\n"
      ],
      "metadata": {
        "id": "ly9rHNWY-iHx"
      }
    },
    {
      "cell_type": "code",
      "source": [
        "frutas = {'banana', 'maca', 'uva', 'uva'}\n",
        "\n",
        "print (frutas)\n",
        "print(type(frutas))"
      ],
      "metadata": {
        "colab": {
          "base_uri": "https://localhost:8080/"
        },
        "id": "eEDmU0dj-1I1",
        "outputId": "a66e3e5b-7823-4828-a541-b2b30b815eb0"
      },
      "execution_count": 26,
      "outputs": [
        {
          "output_type": "stream",
          "name": "stdout",
          "text": [
            "{'banana', 'maca', 'uva'}\n",
            "<class 'set'>\n"
          ]
        }
      ]
    },
    {
      "cell_type": "markdown",
      "source": [
        "#**2.3. Operações**"
      ],
      "metadata": {
        "id": "LFUCpcvB_Hq1"
      }
    },
    {
      "cell_type": "markdown",
      "source": [
        "As operações da estrutura do tipo *set* são: \n",
        "\n",
        "\n",
        "\n",
        "*   '-' (diferença).\n",
        "\n",
        "\n"
      ],
      "metadata": {
        "id": "ZDhY09QH_RW9"
      }
    },
    {
      "cell_type": "markdown",
      "source": [
        "**Exemplo**: Países da europa. "
      ],
      "metadata": {
        "id": "279osOG5_hi9"
      }
    },
    {
      "cell_type": "code",
      "source": [
        "norte_europa = { \n",
        "    'reino unido',\n",
        "    'suecia',\n",
        "    'russia',\n",
        "    'noruega',\n",
        "    'dinamarca'\n",
        "}\n",
        "\n",
        "escandinavia = {'noruega', 'dinamarca', 'suecia'}\n"
      ],
      "metadata": {
        "id": "vWB-qICtBF1h"
      },
      "execution_count": 28,
      "outputs": []
    },
    {
      "cell_type": "code",
      "source": [
        "norte_europa_nao_escandinavo =  norte_europa - escandinavia\n",
        "print(norte_europa_nao_escandinavo)"
      ],
      "metadata": {
        "colab": {
          "base_uri": "https://localhost:8080/"
        },
        "id": "0s6WoutCDpsn",
        "outputId": "f834adbb-1334-4cd7-a533-53113a8ffb2b"
      },
      "execution_count": 29,
      "outputs": [
        {
          "output_type": "stream",
          "name": "stdout",
          "text": [
            "{'russia', 'reino unido'}\n"
          ]
        }
      ]
    },
    {
      "cell_type": "code",
      "source": [
        "escandinavo_nao_norte_europa = escandinavia - norte_europa\n",
        "print(escandinavo_nao_norte_europa)"
      ],
      "metadata": {
        "colab": {
          "base_uri": "https://localhost:8080/"
        },
        "id": "-hvMi1RlEI27",
        "outputId": "665de42b-b52f-47d8-9b32-129bcb44b718"
      },
      "execution_count": 30,
      "outputs": [
        {
          "output_type": "stream",
          "name": "stdout",
          "text": [
            "set()\n"
          ]
        }
      ]
    },
    {
      "cell_type": "markdown",
      "source": [
        "# **2.4. Métodos** "
      ],
      "metadata": {
        "id": "HlAHV3IFEnpI"
      }
    },
    {
      "cell_type": "markdown",
      "source": [
        "São métodos nativos do Python que nos ajudam a trabalhar no dia a dia com conjuntos."
      ],
      "metadata": {
        "id": "72aCS-w0Es2x"
      }
    },
    {
      "cell_type": "code",
      "source": [
        "cursos = { 'Exatas', 'Humanas', 'Biológicas'}\n",
        "print(cursos)\n",
        "print(type(cursos))"
      ],
      "metadata": {
        "colab": {
          "base_uri": "https://localhost:8080/"
        },
        "id": "EqnlQeOpEzya",
        "outputId": "c986d300-0d7d-461e-d46d-054c3c568dcc"
      },
      "execution_count": 32,
      "outputs": [
        {
          "output_type": "stream",
          "name": "stdout",
          "text": [
            "{'Biológicas', 'Exatas', 'Humanas'}\n",
            "<class 'set'>\n"
          ]
        }
      ]
    },
    {
      "cell_type": "code",
      "source": [
        "# inserir um elemento no conjunto: set.add(vai)\n",
        "cursos.add('Saúde')\n",
        "print(cursos)"
      ],
      "metadata": {
        "colab": {
          "base_uri": "https://localhost:8080/"
        },
        "id": "tbZQS0nFFI_d",
        "outputId": "0f62671f-5b9b-4961-bab2-cc8f834296c4"
      },
      "execution_count": 33,
      "outputs": [
        {
          "output_type": "stream",
          "name": "stdout",
          "text": [
            "{'Saúde', 'Biológicas', 'Exatas', 'Humanas'}\n"
          ]
        }
      ]
    },
    {
      "cell_type": "code",
      "source": [
        "# remover um elemento no conjunto: set.remove(val)\n",
        "cursos.remove('Saúde')\n",
        "print(cursos)"
      ],
      "metadata": {
        "colab": {
          "base_uri": "https://localhost:8080/"
        },
        "id": "WAYaCaY-FYO_",
        "outputId": "6245a081-f216-459e-f0d8-a2344a07fd3a"
      },
      "execution_count": 34,
      "outputs": [
        {
          "output_type": "stream",
          "name": "stdout",
          "text": [
            "{'Biológicas', 'Exatas', 'Humanas'}\n"
          ]
        }
      ]
    },
    {
      "cell_type": "markdown",
      "source": [
        "# **2.5. Conversão**\n"
      ],
      "metadata": {
        "id": "qGgW8XpjF0qm"
      }
    },
    {
      "cell_type": "markdown",
      "source": [
        "Podemos converter conjuntos para lista e vice e versa."
      ],
      "metadata": {
        "id": "bbrsp0DYF4_8"
      }
    },
    {
      "cell_type": "code",
      "source": [
        "times_paulistas = {'São Paulo', 'Palmeiras', 'Corinthians', 'Santos'}\n",
        "\n",
        "print(times_paulistas)\n",
        "print(type(times_paulistas))"
      ],
      "metadata": {
        "colab": {
          "base_uri": "https://localhost:8080/"
        },
        "id": "iTaZSG4cGRKd",
        "outputId": "2b07963b-613c-4099-c1e5-64f7867d7590"
      },
      "execution_count": 35,
      "outputs": [
        {
          "output_type": "stream",
          "name": "stdout",
          "text": [
            "{'Santos', 'São Paulo', 'Palmeiras', 'Corinthians'}\n",
            "<class 'set'>\n"
          ]
        }
      ]
    },
    {
      "cell_type": "code",
      "source": [
        "print(list(times_paulistas))\n",
        "print(type(list(times_paulistas)))"
      ],
      "metadata": {
        "colab": {
          "base_uri": "https://localhost:8080/"
        },
        "id": "Ez_yzeOhGrhy",
        "outputId": "ae7275b0-d2de-43c9-cd1a-93c0ae34e884"
      },
      "execution_count": 36,
      "outputs": [
        {
          "output_type": "stream",
          "name": "stdout",
          "text": [
            "['Santos', 'São Paulo', 'Palmeiras', 'Corinthians']\n",
            "<class 'list'>\n"
          ]
        }
      ]
    },
    {
      "cell_type": "markdown",
      "source": [
        "# **2.6. Revisando o problema**"
      ],
      "metadata": {
        "id": "OHAiKi36HM-A"
      }
    },
    {
      "cell_type": "code",
      "source": [
        "print(hashtags_semana)\n",
        "print(len(hashtags_semana))"
      ],
      "metadata": {
        "colab": {
          "base_uri": "https://localhost:8080/"
        },
        "id": "5vW3TnzGHWiC",
        "outputId": "4b052cf2-67b1-48a2-a7db-b90e8ae2d3e9"
      },
      "execution_count": 37,
      "outputs": [
        {
          "output_type": "stream",
          "name": "stdout",
          "text": [
            "['#tiago', '#joao', '#bbb', '#sarah', '#bbb', '#fiuk', '#gil', '#thelma', '#lourdes', '#rafa', '#fora', '#danilo', '#juliete', '#arthur', '#bbb']\n",
            "15\n"
          ]
        }
      ]
    },
    {
      "cell_type": "code",
      "source": [
        "hashtags_semana = list(\n",
        "    set(\n",
        "        hashtags_seg +\n",
        "        hashtags_ter +\n",
        "        hashtags_qua +\n",
        "        hashtags_qui +\n",
        "        hashtags_sex\n",
        "    )\n",
        ")\n",
        "\n",
        "print(hashtags_semana)\n",
        "print(len(hashtags_semana))"
      ],
      "metadata": {
        "colab": {
          "base_uri": "https://localhost:8080/"
        },
        "id": "BCVCRThMHjM8",
        "outputId": "286a9c17-abc0-4d71-c6fd-39c74ec3e9be"
      },
      "execution_count": 38,
      "outputs": [
        {
          "output_type": "stream",
          "name": "stdout",
          "text": [
            "['#danilo', '#fiuk', '#rafa', '#juliete', '#sarah', '#lourdes', '#gil', '#joao', '#arthur', '#thelma', '#tiago', '#fora', '#bbb']\n",
            "13\n"
          ]
        }
      ]
    },
    {
      "cell_type": "markdown",
      "source": [
        "# **3. Dicionários**\n"
      ],
      "metadata": {
        "id": "to2O08F4IbqU"
      }
    },
    {
      "cell_type": "markdown",
      "source": [
        "# **3.1. Problema proposto**"
      ],
      "metadata": {
        "id": "Hvvm5Hd8Iqhi"
      }
    },
    {
      "cell_type": "markdown",
      "source": [
        "Para se conectar a uma rede wi-fi, você precisa de duas informações: o nome da rede e a\n",
        "senha de acesso. Quando você vai acessar uma nova rede, você encontra uma lista de\n",
        "redes disponíveis:"
      ],
      "metadata": {
        "id": "A2CPbLhEIxq5"
      }
    },
    {
      "cell_type": "code",
      "source": [
        "wifi_disponiveis = [ 'rede1', 'cnx_cnx', 'uai-fi', 'r3d3']\n",
        "print(wifi_disponiveis)"
      ],
      "metadata": {
        "colab": {
          "base_uri": "https://localhost:8080/"
        },
        "id": "hv6EjbYwI4lj",
        "outputId": "ac067922-4620-4487-f3ac-8a8e3a3f3a79"
      },
      "execution_count": 39,
      "outputs": [
        {
          "output_type": "stream",
          "name": "stdout",
          "text": [
            "['rede1', 'cnx_cnx', 'uai-fi', 'r3d3']\n"
          ]
        }
      ]
    },
    {
      "cell_type": "markdown",
      "source": [
        "Você consegue identificar quais são os nome de redes e suas respectivas senhas? Talvez\n",
        "uma *list* não seja a melhor opção para armazenar esse tipo de dado."
      ],
      "metadata": {
        "id": "cX1G3o5QJaF6"
      }
    },
    {
      "cell_type": "markdown",
      "source": [
        "# **3.2. Definção**"
      ],
      "metadata": {
        "id": "11Qw3GCbJ1cT"
      }
    },
    {
      "cell_type": "markdown",
      "source": [
        "Armazenam sequências no formato chave-valor. São do tipo *dict*. "
      ],
      "metadata": {
        "id": "i2MnoS0XJhtW"
      }
    },
    {
      "cell_type": "code",
      "source": [
        "brasil = {\n",
        "    'capital' : 'Brasília',\n",
        "    'idioma': 'Português',\n",
        "    'população' : 210\n",
        "}\n",
        "\n",
        "print(brasil)\n",
        "print(type(brasil))\n"
      ],
      "metadata": {
        "colab": {
          "base_uri": "https://localhost:8080/"
        },
        "id": "oF9Mc_Q6J8F0",
        "outputId": "6c71b79d-218a-49d0-fff4-e0247dbc6f67"
      },
      "execution_count": 41,
      "outputs": [
        {
          "output_type": "stream",
          "name": "stdout",
          "text": [
            "{'capital': 'Brasília', 'idioma': 'Português', 'população': 210}\n",
            "<class 'dict'>\n"
          ]
        }
      ]
    },
    {
      "cell_type": "markdown",
      "source": [
        "Não é permite chaves duplicadas."
      ],
      "metadata": {
        "id": "dJd2kHOwL4Vw"
      }
    },
    {
      "cell_type": "code",
      "source": [
        "carro = {\n",
        "    'marca': 'Volkswagem',\n",
        "    'modelo': 'Polo',\n",
        "    'ano': 2021,\n",
        "    'ano': 2004\n",
        "}\n",
        "\n",
        "print(carro)"
      ],
      "metadata": {
        "colab": {
          "base_uri": "https://localhost:8080/"
        },
        "id": "gjAwcU7LJy_L",
        "outputId": "2aa12146-86f4-4467-edde-b38eb365abf0"
      },
      "execution_count": 42,
      "outputs": [
        {
          "output_type": "stream",
          "name": "stdout",
          "text": [
            "{'marca': 'Volkswagem', 'modelo': 'Polo', 'ano': 2004}\n"
          ]
        }
      ]
    },
    {
      "cell_type": "markdown",
      "source": [
        "  Podemos criar dicionários compostos:\n",
        "  "
      ],
      "metadata": {
        "id": "H3TsApsqMqgd"
      }
    },
    {
      "cell_type": "code",
      "source": [
        "cadastro = {\n",
        "    'zaine': {\n",
        "        'nome': 'Zaine Silva',\n",
        "        'ano_nascimento': 1995,\n",
        "        'pais': {\n",
        "            'pai': {\n",
        "                'nome': '<nome-do-pai> Vasconcelos',\n",
        "                'ano_nascimento': 1969\n",
        "            },\n",
        "            'mae': {\n",
        "                'nome': '<nome-da-mae> Vasconcelos',\n",
        "                'ano_nascimento': 1973\n",
        "            }\n",
        "        }\n",
        "    }\n",
        "}\n",
        "\n",
        "print(cadastro)"
      ],
      "metadata": {
        "colab": {
          "base_uri": "https://localhost:8080/"
        },
        "id": "RJV18DqyMvzY",
        "outputId": "b3833970-5d64-4ee2-efc7-147028b51d51"
      },
      "execution_count": 48,
      "outputs": [
        {
          "output_type": "stream",
          "name": "stdout",
          "text": [
            "{'zaine': {'nome': 'Zaine Silva', 'ano_nascimento': 1995, 'pais': {'pai': {'nome': '<nome-do-pai> Vasconcelos', 'ano_nascimento': 1969}, 'mae': {'nome': '<nome-da-mae> Vasconcelos', 'ano_nascimento': 1973}}}}\n"
          ]
        }
      ]
    },
    {
      "cell_type": "code",
      "source": [
        "cadastro['zaine']['pais']['mae']['ano_nascimento']"
      ],
      "metadata": {
        "colab": {
          "base_uri": "https://localhost:8080/"
        },
        "id": "_NlFdnzCOEeL",
        "outputId": "f779010f-03f4-49af-baa2-233a42a12383"
      },
      "execution_count": 49,
      "outputs": [
        {
          "output_type": "execute_result",
          "data": {
            "text/plain": [
              "1973"
            ]
          },
          "metadata": {},
          "execution_count": 49
        }
      ]
    },
    {
      "cell_type": "markdown",
      "source": [
        "# **3.3. Operações**"
      ],
      "metadata": {
        "id": "YmVr9RKMO3_R"
      }
    },
    {
      "cell_type": "code",
      "source": [
        "credito = {'123': 750, '789': 980}"
      ],
      "metadata": {
        "id": "ESQkl5OqO9G6"
      },
      "execution_count": 50,
      "outputs": []
    },
    {
      "cell_type": "markdown",
      "source": [
        "Elementos são acessados pela sua chave."
      ],
      "metadata": {
        "id": "E4qjilLjPHZc"
      }
    },
    {
      "cell_type": "code",
      "source": [
        "score_123 = credito['123']\n",
        "score_789 = credito['789']\n",
        "\n",
        "print(score_123)\n",
        "print(score_789)"
      ],
      "metadata": {
        "colab": {
          "base_uri": "https://localhost:8080/"
        },
        "id": "XVsHWchyPL5v",
        "outputId": "7c120aa6-1f10-4647-e3a3-3522b4fca334"
      },
      "execution_count": 51,
      "outputs": [
        {
          "output_type": "stream",
          "name": "stdout",
          "text": [
            "750\n",
            "980\n"
          ]
        }
      ]
    },
    {
      "cell_type": "markdown",
      "source": [
        "Elementos são atualizados pela sua chave."
      ],
      "metadata": {
        "id": "PkzuHUrbPs0w"
      }
    },
    {
      "cell_type": "code",
      "source": [
        "credito['123'] = 435\n",
        "print(credito)"
      ],
      "metadata": {
        "colab": {
          "base_uri": "https://localhost:8080/"
        },
        "id": "insmrXr1P2k_",
        "outputId": "30c1a2eb-24a5-40c7-eb15-64c969fdff08"
      },
      "execution_count": 52,
      "outputs": [
        {
          "output_type": "stream",
          "name": "stdout",
          "text": [
            "{'123': 435, '789': 980}\n"
          ]
        }
      ]
    },
    {
      "cell_type": "markdown",
      "source": [
        "Para adicionar um novo elemento, basta criar um novo elemento chave-valor:"
      ],
      "metadata": {
        "id": "-9OSvgfJQFTi"
      }
    },
    {
      "cell_type": "code",
      "source": [
        "credito['456'] = 1000\n",
        "print(credito)"
      ],
      "metadata": {
        "colab": {
          "base_uri": "https://localhost:8080/"
        },
        "id": "YQaIxY4hQBiC",
        "outputId": "af772a3b-d9f8-4947-d4bb-137aa4bb078e"
      },
      "execution_count": 54,
      "outputs": [
        {
          "output_type": "stream",
          "name": "stdout",
          "text": [
            "{'123': 1000, '789': 980, '456': 1000}\n"
          ]
        }
      ]
    },
    {
      "cell_type": "markdown",
      "source": [
        "# **3.4. Métodos**"
      ],
      "metadata": {
        "id": "zPHArlBtQemY"
      }
    },
    {
      "cell_type": "markdown",
      "source": [
        "São métodos nativos do Python que nos ajudam a trabalhar no dia a dia com dicionários."
      ],
      "metadata": {
        "id": "gkmht33qQicv"
      }
    },
    {
      "cell_type": "code",
      "source": [
        "artigo = dict(\n",
        " titulo='Modulo 02 | Python: Estruturas de Dados',\n",
        " corpo='Topicos, Aulas, Listas, Conjuntos, Dicionários, ...',\n",
        " total_caracteres=1530\n",
        ")"
      ],
      "metadata": {
        "id": "lPzu49kgQloL"
      },
      "execution_count": 55,
      "outputs": []
    },
    {
      "cell_type": "code",
      "source": [
        "# adicionar/atualizar um elemento pelo chave-valor: dict.update(dict)\n",
        "\n",
        "print(artigo)\n",
        "artigo.update({'total_caracteres': 7850})\n",
        "print(artigo)\n",
        "\n",
        "artigo['total_caracteres'] = 7850 "
      ],
      "metadata": {
        "colab": {
          "base_uri": "https://localhost:8080/"
        },
        "id": "miL13UBwQwNw",
        "outputId": "6f8f3bc3-13a9-4104-8b26-1e4d870eddaa"
      },
      "execution_count": 56,
      "outputs": [
        {
          "output_type": "stream",
          "name": "stdout",
          "text": [
            "{'titulo': 'Modulo 02 | Python: Estruturas de Dados', 'corpo': 'Topicos, Aulas, Listas, Conjuntos, Dicionários, ...', 'total_caracteres': 1530}\n",
            "{'titulo': 'Modulo 02 | Python: Estruturas de Dados', 'corpo': 'Topicos, Aulas, Listas, Conjuntos, Dicionários, ...', 'total_caracteres': 7850}\n"
          ]
        }
      ]
    },
    {
      "cell_type": "code",
      "source": [
        "# remover um elemento pelo chave: dict.pop(key)\n",
        "print(artigo)\n",
        "total_caracteres = artigo.pop ('total_caracteres')\n",
        "print(artigo)"
      ],
      "metadata": {
        "colab": {
          "base_uri": "https://localhost:8080/"
        },
        "id": "YIBivKRfRWbZ",
        "outputId": "4e085271-44a0-4700-aae0-81e35b20812b"
      },
      "execution_count": 57,
      "outputs": [
        {
          "output_type": "stream",
          "name": "stdout",
          "text": [
            "{'titulo': 'Modulo 02 | Python: Estruturas de Dados', 'corpo': 'Topicos, Aulas, Listas, Conjuntos, Dicionários, ...', 'total_caracteres': 7850}\n",
            "{'titulo': 'Modulo 02 | Python: Estruturas de Dados', 'corpo': 'Topicos, Aulas, Listas, Conjuntos, Dicionários, ...'}\n"
          ]
        }
      ]
    },
    {
      "cell_type": "markdown",
      "source": [
        "# **3.5. Conversão**\n"
      ],
      "metadata": {
        "id": "G9F5jUReSCH4"
      }
    },
    {
      "cell_type": "markdown",
      "source": [
        "Podemos converter as chaves e os items de um dicionário em uma lista."
      ],
      "metadata": {
        "id": "XJwr1PMgSHJ1"
      }
    },
    {
      "cell_type": "code",
      "source": [
        "artigo = dict(\n",
        " titulo='Modulo 02 | Python: Estruturas de Dados',\n",
        " corpo='Topicos, Aulas, Listas, Conjuntos, Dicionários, ...',\n",
        " total_caracteres=1530\n",
        ")\n"
      ],
      "metadata": {
        "id": "HlTnZ0G0SLSt"
      },
      "execution_count": 58,
      "outputs": []
    },
    {
      "cell_type": "code",
      "source": [
        "chaves = list(artigo.keys())\n",
        "print(chaves)\n",
        "print(type(chaves))"
      ],
      "metadata": {
        "colab": {
          "base_uri": "https://localhost:8080/"
        },
        "id": "cbxaqLiXSUIw",
        "outputId": "d03200be-dc2e-437b-f129-3c910b1bf6a5"
      },
      "execution_count": 59,
      "outputs": [
        {
          "output_type": "stream",
          "name": "stdout",
          "text": [
            "['titulo', 'corpo', 'total_caracteres']\n",
            "<class 'list'>\n"
          ]
        }
      ]
    },
    {
      "cell_type": "code",
      "source": [
        "valores = list(artigo.values())\n",
        "print(valores)\n",
        "print(type(valores))"
      ],
      "metadata": {
        "colab": {
          "base_uri": "https://localhost:8080/"
        },
        "id": "SAkcT5OkTaPR",
        "outputId": "ee834b95-f719-4e89-c103-98a075936679"
      },
      "execution_count": 61,
      "outputs": [
        {
          "output_type": "stream",
          "name": "stdout",
          "text": [
            "['Modulo 02 | Python: Estruturas de Dados', 'Topicos, Aulas, Listas, Conjuntos, Dicionários, ...', 1530]\n",
            "<class 'list'>\n"
          ]
        }
      ]
    },
    {
      "cell_type": "markdown",
      "source": [
        "# **3.6. Resolvendo o problema**"
      ],
      "metadata": {
        "id": "Ro5AqlELTwAu"
      }
    },
    {
      "cell_type": "code",
      "source": [
        " wifi_disponiveis = []"
      ],
      "metadata": {
        "id": "WXKtvx-PT3pp"
      },
      "execution_count": 60,
      "outputs": []
    },
    {
      "cell_type": "code",
      "source": [
        "rede = {'nome': 'rede1', 'senha': 'cnx_cnx'}\n",
        "wifi_disponiveis.append(rede)"
      ],
      "metadata": {
        "id": "7ymjgDJgT6Oi"
      },
      "execution_count": 62,
      "outputs": []
    },
    {
      "cell_type": "code",
      "source": [
        "rede = {'nome': 'uai-fi', 'senha': 'r3d3'}\n",
        "wifi_disponiveis.append(rede)"
      ],
      "metadata": {
        "id": "JGzTMoBfUJK3"
      },
      "execution_count": 66,
      "outputs": []
    },
    {
      "cell_type": "code",
      "source": [
        " print(wifi_disponiveis)"
      ],
      "metadata": {
        "colab": {
          "base_uri": "https://localhost:8080/"
        },
        "id": "kqJp-INIUT4Z",
        "outputId": "a56e04e8-9fa1-418e-a4a6-aa0ed8df58d2"
      },
      "execution_count": 64,
      "outputs": [
        {
          "output_type": "stream",
          "name": "stdout",
          "text": [
            "[{'nome': 'rede1', 'senha': 'cnx_cnx'}]\n"
          ]
        }
      ]
    }
  ]
}